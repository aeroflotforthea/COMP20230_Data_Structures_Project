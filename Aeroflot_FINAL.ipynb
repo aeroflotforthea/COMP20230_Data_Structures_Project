{
 "cells": [
  {
   "cell_type": "markdown",
   "metadata": {},
   "source": [
    "# Aeroflot "
   ]
  },
  {
   "cell_type": "markdown",
   "metadata": {},
   "source": [
    "## Classes: Airport, Aircraft and Route"
   ]
  },
  {
   "cell_type": "code",
   "execution_count": 24,
   "metadata": {},
   "outputs": [],
   "source": [
    "import math"
   ]
  },
  {
   "cell_type": "code",
   "execution_count": 37,
   "metadata": {},
   "outputs": [],
   "source": [
    "class Airport:\n",
    "    \n",
    "    def __init__(self, name, longitude, latitude, exchange_rate):\n",
    "        self.__name = name\n",
    "        self.longitude = longitude\n",
    "        self.latitude = latitude\n",
    "        self.__exchange_rate = exchange_rate\n",
    "        \n",
    "    def getExchangeRate(self):\n",
    "        return self.__exchange_rate\n",
    "    \n",
    "    def getName(self):\n",
    "        return self.__name\n",
    "    \n",
    "    def setExchangeRate(self, new_exchange_rate):\n",
    "        self.__exchange_rate = new_exchange_rate\n",
    "        print(\"Exchange rate set to \", new_exchange_rate)\n",
    "        return self.getExchangeRate()\n",
    "\n",
    "\n",
    "\n",
    "class Aircraft:\n",
    "    def __init__(self, code, flight_range, home_airport, units):\n",
    "        self.code = code\n",
    "        self.units = units\n",
    "        self.flight_range = self.convertToMetric(flight_range)\n",
    "        self.home_airport = home_airport\n",
    "        \n",
    "    def convertToMetric(self, flight_range):\n",
    "        if self.units == \"imperial\":\n",
    "            return round(flight_range * 1.60934, 2)\n",
    "        else:\n",
    "            return flight_range\n",
    "        \n",
    "    def getRange(self):\n",
    "        return self.flight_range\n",
    "\n",
    "\n",
    "\n",
    "\n",
    "\n",
    "\n",
    "class Route:\n",
    "    \n",
    "    def __init__(self):\n",
    "        self.__destinations = []\n",
    "        # it would make sense for destinations to be a circular array\n",
    "        self._next = None\n",
    "        self._current = None\n",
    "        self._previous = None\n",
    "        # this sequence has been produced the graph. The graph will go through each airport and will build a route\n",
    "        self.__total_score = 0\n",
    "        self._list_of_scores = []\n",
    "        \n",
    "        \n",
    "    def set_destinations(self, destinations):\n",
    "        self.__destinations = destinations\n",
    "\n",
    "    def append_to_route(self, airport):\n",
    "        self.__destinations.append(airport)\n",
    "\n",
    "    def calculate_score(start_airport, end_airport):\n",
    "        distance = Route.calculate_distance(start_airport, end_airport)\n",
    "        return start_airport.getExchangeRate() * distance\n",
    "           \n",
    "            # self._previous = self._current\n",
    "            # self._current = self._next\n",
    "            \n",
    "            \n",
    "    def calculate_distance(start_airport, end_airport):\n",
    "        latitude1 = start_airport.latitude\n",
    "        longitude1 = start_airport.longitude\n",
    "        latitude2 = end_airport.latitude\n",
    "        longitude2 = end_airport.longitude\n",
    "\n",
    "        # The following formulas assume that angles are expressed in radians.\n",
    "        # So convert to radians.\n",
    "\n",
    "        latitude1 = math.radians(latitude1)\n",
    "        longitude1 = math.radians(longitude1)\n",
    "        latitude2 = math.radians(latitude2)\n",
    "        longitude2 = math.radians(longitude2)\n",
    "\n",
    "        # Compute using the law of cosines.\n",
    "\n",
    "        # Great circle distance in radians\n",
    "        angle1 = math.acos(math.sin(latitude1) * math.sin(latitude2) \\\n",
    "                 + math.cos(latitude1) * math.cos(latitude2) * math.cos(longitude1 - longitude2))\n",
    "\n",
    "        # Convert back to degrees.\n",
    "        angle1 = math.degrees(angle1)\n",
    "\n",
    "        # Each degree on a great circle of Earth is 60 nautical miles.\n",
    "        distance1 = 60.0 * angle1\n",
    "            \n",
    "        in_kilometres = distance1 * 1.852\n",
    "        \n",
    "        return in_kilometres\n",
    "\n",
    "    def get_destinations(self):\n",
    "        return self.__destinations\n",
    "    \n",
    "    def getScores(self):\n",
    "        return self._list_of_scores"
   ]
  },
  {
   "cell_type": "markdown",
   "metadata": {},
   "source": [
    "## Placeholder aircraft and airport objects"
   ]
  },
  {
   "cell_type": "code",
   "execution_count": 38,
   "metadata": {},
   "outputs": [],
   "source": [
    "plane = Aircraft(\"737\", 5600, \"LHR\", \"imperial\")\n",
    "\n",
    "madrid = Airport(\"Madrid\", 3.7038, 40.4168, 0.84)\n",
    "london = Airport(\"London\", 0.1278, 51.5074, 1.17)\n",
    "moscow = Airport(\"Moscow\", 37.618423, 55.7558, 0.5)\n",
    "shanghai = Airport(\"Shanghai\", 121.4737, 31.2304, 0.4) \n",
    "paris = Airport(\"Paris\", 2.3522 , 48.864716, 1)\n",
    "hk = Airport(\"Hong Kong\", 114.149139, 22.286394, 0.3)\n",
    "athens = Airport(\"Athens\", 23.727539, 37.983810, 1)\n",
    "la = Airport(\"Los Angeles\", -118.243683, 34.052235, 1.5)\n",
    "hawaii = Airport(\"Honolulu\", -157.917480, 21.289373, 1.5)\n",
    "NYC = Airport(\"New York\", -73.935242, 40.730610, 1.5)\n",
    "dublin = Airport(\"Dublin\", -6.266155, 53.350140, 1)"
   ]
  },
  {
   "cell_type": "markdown",
   "metadata": {},
   "source": [
    "## FirstCost Function - calculate the cost of the first valid route\n",
    "\n"
   ]
  },
  {
   "cell_type": "code",
   "execution_count": 39,
   "metadata": {},
   "outputs": [],
   "source": [
    "def firstcost(graph, start, flightlist, routes, path =[],a=0, cost=0): \n",
    "    path = path + [start]\n",
    "    cost+=a\n",
    "    if len(path)==len(flightlist) and home in graph[start]:\n",
    "        path.append(home)\n",
    "        cost += getcost(start, home, costgraph)\n",
    "        return path, cost\n",
    "    for node in graph[start]: \n",
    "        if node not in path: \n",
    "            start_string = start +\":\" + node\n",
    "            a = routes[start][start_string]\n",
    "            newpath = firstcost(graph, node, flightlist, path,a, cost) \n",
    "            if newpath:  \n",
    "                return newpath \n",
    "    return None"
   ]
  },
  {
   "cell_type": "code",
   "execution_count": 28,
   "metadata": {},
   "outputs": [
    {
     "ename": "NameError",
     "evalue": "name 'graph' is not defined",
     "output_type": "error",
     "traceback": [
      "\u001b[0;31m---------------------------------------------------------------------------\u001b[0m",
      "\u001b[0;31mNameError\u001b[0m                                 Traceback (most recent call last)",
      "\u001b[0;32m<ipython-input-28-9b5934f6c51b>\u001b[0m in \u001b[0;36m<module>\u001b[0;34m\u001b[0m\n\u001b[0;32m----> 1\u001b[0;31m \u001b[0mfirstroute\u001b[0m\u001b[0;34m,\u001b[0m \u001b[0mbestcost\u001b[0m \u001b[0;34m=\u001b[0m \u001b[0mfirstcost\u001b[0m\u001b[0;34m(\u001b[0m\u001b[0mgraph\u001b[0m\u001b[0;34m,\u001b[0m \u001b[0mhome\u001b[0m\u001b[0;34m,\u001b[0m \u001b[0mflightlist\u001b[0m\u001b[0;34m)\u001b[0m\u001b[0;34m\u001b[0m\u001b[0;34m\u001b[0m\u001b[0m\n\u001b[0m",
      "\u001b[0;31mNameError\u001b[0m: name 'graph' is not defined"
     ]
    }
   ],
   "source": []
  },
  {
   "cell_type": "code",
   "execution_count": 29,
   "metadata": {},
   "outputs": [
    {
     "ename": "NameError",
     "evalue": "name 'bestcost' is not defined",
     "output_type": "error",
     "traceback": [
      "\u001b[0;31m---------------------------------------------------------------------------\u001b[0m",
      "\u001b[0;31mNameError\u001b[0m                                 Traceback (most recent call last)",
      "\u001b[0;32m<ipython-input-29-f8a733937b50>\u001b[0m in \u001b[0;36m<module>\u001b[0;34m\u001b[0m\n\u001b[0;32m----> 1\u001b[0;31m \u001b[0mbestcost\u001b[0m\u001b[0;34m\u001b[0m\u001b[0;34m\u001b[0m\u001b[0m\n\u001b[0m",
      "\u001b[0;31mNameError\u001b[0m: name 'bestcost' is not defined"
     ]
    }
   ],
   "source": [
    "bestcost"
   ]
  },
  {
   "cell_type": "markdown",
   "metadata": {},
   "source": [
    "## MyDFS - calculate all valid routes, and dynamically discard if they are greater in cost than the lower bound established by FirstCost"
   ]
  },
  {
   "cell_type": "code",
   "execution_count": 30,
   "metadata": {},
   "outputs": [],
   "source": [
    "\n",
    "def myDFS(graph,start,cost,flightlist, bestcost, path=[],a=0): \n",
    "    path=path+[start] \n",
    "#     print(\"path is\", path)\n",
    "    cost+=a\n",
    "    if len(path)==len(flightlist) and home in graph[start]:\n",
    "#         print(\"last cost is\", cost)\n",
    "        path.append(home)\n",
    "        cost += getcost(start, home, costgraph)\n",
    "        paths[cost]=path\n",
    "    for node in childrenOf(start):\n",
    "        a = getcost(start, node, costgraph)\n",
    "        if node not in path and cost+a<bestcost:\n",
    "#             print(\"node is\", node)\n",
    "            myDFS(graph,node,cost,flightlist, bestcost,path,a)\n"
   ]
  },
  {
   "cell_type": "markdown",
   "metadata": {},
   "source": [
    "# Build Flight Possibilities \n",
    "- looks at all airports in a list as well as an aircraft, and creates a graph based on where the aircraft can fly to "
   ]
  },
  {
   "cell_type": "code",
   "execution_count": 31,
   "metadata": {},
   "outputs": [],
   "source": [
    "def build_flight_possibilities(list_of_airports, possibilities_lookup, plane):\n",
    "    for i in range(len(list_of_airports)):\n",
    "        possibilities_lookup[list_of_airports[i].getName()] = {}\n",
    "        for j in range(len(list_of_airports)):\n",
    "            if i != j and Route.calculate_distance(list_of_airports[i], list_of_airports[j]) <= plane.getRange():\n",
    "                possibilities_lookup[list_of_airports[i].getName()][list_of_airports[j].getName()] = list_of_airports[j]\n",
    "\n",
    "    return possibilities_lookup\n"
   ]
  },
  {
   "cell_type": "code",
   "execution_count": 32,
   "metadata": {},
   "outputs": [],
   "source": [
    "# dummy list of airports\n",
    "\n",
    "list_of_airports = [paris, dublin, london, NYC, hk, hawaii, shanghai]"
   ]
  },
  {
   "cell_type": "code",
   "execution_count": 34,
   "metadata": {},
   "outputs": [
    {
     "name": "stdout",
     "output_type": "stream",
     "text": [
      "{'Paris': {'Dublin': <__main__.Airport object at 0x10b437240>, 'London': <__main__.Airport object at 0x10b41eef0>, 'New York': <__main__.Airport object at 0x10b437048>}, 'Dublin': {'Paris': <__main__.Airport object at 0x10b41efd0>, 'London': <__main__.Airport object at 0x10b41eef0>, 'New York': <__main__.Airport object at 0x10b437048>}, 'London': {'Paris': <__main__.Airport object at 0x10b41efd0>, 'Dublin': <__main__.Airport object at 0x10b437240>, 'New York': <__main__.Airport object at 0x10b437048>}, 'New York': {'Paris': <__main__.Airport object at 0x10b41efd0>, 'Dublin': <__main__.Airport object at 0x10b437240>, 'London': <__main__.Airport object at 0x10b41eef0>, 'Honolulu': <__main__.Airport object at 0x10b41ecf8>}, 'Hong Kong': {'Honolulu': <__main__.Airport object at 0x10b41ecf8>, 'Shanghai': <__main__.Airport object at 0x10b41ee48>}, 'Honolulu': {'New York': <__main__.Airport object at 0x10b437048>, 'Hong Kong': <__main__.Airport object at 0x10b41eb00>, 'Shanghai': <__main__.Airport object at 0x10b41ee48>}, 'Shanghai': {'Hong Kong': <__main__.Airport object at 0x10b41eb00>, 'Honolulu': <__main__.Airport object at 0x10b41ecf8>}}\n"
     ]
    }
   ],
   "source": [
    "possibilities = build_flight_possibilities(list_of_airports, {}, plane)\n",
    "\n",
    "print(possibilities)"
   ]
  },
  {
   "cell_type": "code",
   "execution_count": 36,
   "metadata": {
    "scrolled": true
   },
   "outputs": [],
   "source": [
    "def buildRouteCosts(list_of_airports):\n",
    "    costs = {}\n",
    "\n",
    "    for airport in list_of_airports: \n",
    "        costs[airport.getName()] = {}\n",
    "        get_costs_from = possibilities[airport.getName()]\n",
    "        for key in get_costs_from: \n",
    "            costs_key = airport.getName() + \":\" + key\n",
    "            costs[airport.getName()][costs_key] = Route.calculate_score(airport, possibilities[airport.getName()][key])\n",
    "\n",
    "    return costs\n",
    "\n",
    "routes = buildRouteCosts(list_of_airports)\n",
    "\n",
    "\n",
    "\n"
   ]
  },
  {
   "cell_type": "code",
   "execution_count": null,
   "metadata": {},
   "outputs": [],
   "source": [
    "firstroute, bestcost = firstcost(possibilties, home, flightlist, routes)"
   ]
  },
  {
   "cell_type": "code",
   "execution_count": null,
   "metadata": {},
   "outputs": [],
   "source": [
    "print(bestcost)"
   ]
  },
  {
   "cell_type": "code",
   "execution_count": null,
   "metadata": {},
   "outputs": [],
   "source": [
    "\n",
    "\n",
    "def createRoute(key, came_from, cost, description, routes, home, complete_routes):\n",
    "    for complete_route in complete_routes:\n",
    "        if complete_route == description:\n",
    "            return\n",
    "    full_description = True\n",
    "    for item in routes:\n",
    "        if item not in description:\n",
    "            full_description = False\n",
    "            break\n",
    "    \n",
    "    counter = 0\n",
    "    for dict_key in routes[key]:\n",
    "        destination = dict_key[len(key)+1:]\n",
    "        if destination in description:\n",
    "            # this bit needs to change. We need to go through the routes and find the one that is closest to the home\n",
    "            counter += 1\n",
    "                \n",
    "            if full_description: \n",
    "                # if we reach this point, it means that we've been everywhere \n",
    "                # firstly, check if we can go home:\n",
    "                home_key = key + \":\" + home\n",
    "                if home_key in routes[key]:\n",
    "                    new_description = description\n",
    "                    new_description += \":\" + home\n",
    "                    new_cost = cost\n",
    "                    new_cost += routes[key][home_key]\n",
    "                    if new_description not in complete_routes:\n",
    "                        complete_routes[new_description] = new_cost\n",
    "                    return\n",
    "                else:\n",
    "                    for item in routes[key]:\n",
    "                        potential_destination = item[len(key)+1:]\n",
    "                        home_key = potential_destination + \":\" + home\n",
    "                        if home_key in routes[potential_destination]:\n",
    "                            new_description = description\n",
    "                            new_description += \":\" + potential_destination\n",
    "                            new_cost = cost\n",
    "                            new_cost += routes[key][item]\n",
    "                            return createRoute(potential_destination, key, new_cost, new_description, routes, home, complete_routes)\n",
    "            if counter == len(routes[key]):\n",
    "                \n",
    "                # this means we've tried to go everywhere, which means we have to go back to where we came from\n",
    "                # but we need to put a check in place to prevent feedback loops\n",
    "\n",
    "                # we need to try and return everywhere possible destination\n",
    "                smallest = [float('inf'), \"\", \"\"]\n",
    "                for destination_key in routes[key]:\n",
    "                    potential_destination = destination_key[len(key)+1:]\n",
    "                    location = description.index(potential_destination)\n",
    "                    if location <= smallest[0]:\n",
    "                        smallest = [location, destination_key, potential_destination]\n",
    "\n",
    "                new_description = description\n",
    "                new_description += \":\" + smallest[2]\n",
    "                new_cost = cost\n",
    "                new_cost += routes[key][smallest[1]]\n",
    "                return createRoute(smallest[2], key, new_cost, new_description, routes, home, complete_routes)\n",
    "\n",
    "\n",
    "                # back_key = key + \":\" + came_from\n",
    "                # banned_key = came_from + \":\" + key\n",
    "                # if back_key in banned_routes:\n",
    "                #     continue\n",
    "                # else:\n",
    "                #     banned_routes.append(banned_key)\n",
    "                # new_description = description\n",
    "                # new_description += \":\" + came_from\n",
    "                # new_cost = cost\n",
    "                # new_cost += routes[key][back_key]\n",
    "                # return createRoute(came_from, key, new_cost, new_description, routes, home, complete_routes, banned_routes)\n",
    "            else: \n",
    "                continue\n",
    "        else:\n",
    "            new_description = description\n",
    "            new_description += \":\" + destination\n",
    "            new_cost = cost\n",
    "            new_cost += routes[key][dict_key]\n",
    "            createRoute(destination, key, new_cost, new_description, routes, home, complete_routes)\n",
    "    return complete_routes"
   ]
  }
 ],
 "metadata": {
  "kernelspec": {
   "display_name": "Python 3",
   "language": "python",
   "name": "python3"
  },
  "language_info": {
   "codemirror_mode": {
    "name": "ipython",
    "version": 3
   },
   "file_extension": ".py",
   "mimetype": "text/x-python",
   "name": "python",
   "nbconvert_exporter": "python",
   "pygments_lexer": "ipython3",
   "version": "3.7.1"
  }
 },
 "nbformat": 4,
 "nbformat_minor": 2
}
