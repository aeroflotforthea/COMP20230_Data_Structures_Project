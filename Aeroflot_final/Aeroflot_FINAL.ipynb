{
 "cells": [
  {
   "cell_type": "markdown",
   "metadata": {},
   "source": [
    "# Aeroflot "
   ]
  },
  {
   "cell_type": "markdown",
   "metadata": {},
   "source": [
    "## Classes: Airport, Aircraft and Route"
   ]
  },
  {
   "cell_type": "code",
   "execution_count": 1,
   "metadata": {},
   "outputs": [],
   "source": [
    "import math"
   ]
  },
  {
   "cell_type": "code",
   "execution_count": 3,
   "metadata": {},
   "outputs": [],
   "source": [
    "import pandas as pd"
   ]
  },
  {
   "cell_type": "code",
   "execution_count": 4,
   "metadata": {},
   "outputs": [],
   "source": [
    "class Airport:\n",
    "    \n",
    "    def __init__(self, name, longitude, latitude, toEuro):\n",
    "        self.__name = name\n",
    "        self.longitude = longitude\n",
    "        self.latitude = latitude\n",
    "        self.__toEuro = toEuro\n",
    "        \n",
    "    def getExchangeRate(self):\n",
    "        return self.__toEuro\n",
    "    \n",
    "    def getName(self):\n",
    "        return self.__name\n",
    "    \n",
    "#     we don't use it\n",
    "#     def setExchangeRate(self, new_exchange_rate):\n",
    "#         self.__exchange_rate = new_exchange_rate\n",
    "#         print(\"Exchange rate set to \", new_exchange_rate)\n",
    "#         return self.getExchangeRate()\n",
    "\n",
    "\n",
    "\n",
    "class Aircraft:\n",
    "    def __init__(self, code, flight_range, home_airport, units):\n",
    "        self.code = code\n",
    "        self.units = units\n",
    "        self.flight_range = self.convertToMetric(flight_range)\n",
    "        self.home_airport = home_airport\n",
    "        \n",
    "    def convertToMetric(self, flight_range):\n",
    "        if self.units == \"imperial\":\n",
    "            return round(flight_range * 1.60934, 2)\n",
    "        else:\n",
    "            return flight_range\n",
    "        \n",
    "    def getRange(self):\n",
    "        return self.flight_range\n",
    "\n",
    "\n",
    "\n",
    "class Route:\n",
    "    \n",
    "    def __init__(self):\n",
    "        self.__destinations = []\n",
    "        # it would make sense for destinations to be a circular array\n",
    "        self._next = None\n",
    "        self._current = None\n",
    "        self._previous = None\n",
    "        # this sequence has been produced the graph. The graph will go through each airport and will build a route\n",
    "        self.__total_score = 0\n",
    "        self._list_of_scores = []\n",
    "        \n",
    "        \n",
    "    def set_destinations(self, destinations):\n",
    "        self.__destinations = destinations\n",
    "\n",
    "    def append_to_route(self, airport):\n",
    "        self.__destinations.append(airport)\n",
    "\n",
    "    def calculate_score(start_airport, end_airport):\n",
    "        distance = Route.calculate_distance(start_airport, end_airport)\n",
    "        return start_airport.getExchangeRate() * distance\n",
    "           \n",
    "            # self._previous = self._current\n",
    "            # self._current = self._next\n",
    "            \n",
    "            \n",
    "    def calculate_distance(start_airport, end_airport):\n",
    "        latitude1 = start_airport.latitude\n",
    "        longitude1 = start_airport.longitude\n",
    "        latitude2 = end_airport.latitude\n",
    "        longitude2 = end_airport.longitude\n",
    "\n",
    "        # The following formulas assume that angles are expressed in radians.\n",
    "        # So convert to radians.\n",
    "\n",
    "        latitude1 = math.radians(latitude1)\n",
    "        longitude1 = math.radians(longitude1)\n",
    "        latitude2 = math.radians(latitude2)\n",
    "        longitude2 = math.radians(longitude2)\n",
    "\n",
    "        # Compute using the law of cosines.\n",
    "\n",
    "        # Great circle distance in radians\n",
    "        angle1 = math.acos(math.sin(latitude1) * math.sin(latitude2) \\\n",
    "                 + math.cos(latitude1) * math.cos(latitude2) * math.cos(longitude1 - longitude2))\n",
    "\n",
    "        # Convert back to degrees.\n",
    "        angle1 = math.degrees(angle1)\n",
    "\n",
    "        # Each degree on a great circle of Earth is 60 nautical miles.\n",
    "        distance1 = 60.0 * angle1\n",
    "            \n",
    "        in_kilometres = distance1 * 1.852\n",
    "        \n",
    "        return in_kilometres\n",
    "\n",
    "    def get_destinations(self):\n",
    "        return self.__destinations\n",
    "    \n",
    "    def getScores(self):\n",
    "        return self._list_of_scores"
   ]
  },
  {
   "cell_type": "markdown",
   "metadata": {},
   "source": [
    "## Placeholder aircraft and airport objects"
   ]
  },
  {
   "cell_type": "code",
   "execution_count": 4,
   "metadata": {},
   "outputs": [],
   "source": [
    "# plane = Aircraft(\"737\", 5600, \"LHR\", \"imperial\")\n",
    "\n",
    "# madrid = Airport(\"Madrid\", 3.7038, 40.4168, 0.84)\n",
    "# london = Airport(\"London\", 0.1278, 51.5074, 1.17)\n",
    "# moscow = Airport(\"Moscow\", 37.618423, 55.7558, 0.5)\n",
    "# shanghai = Airport(\"Shanghai\", 121.4737, 31.2304, 0.4) \n",
    "# paris = Airport(\"Paris\", 2.3522 , 48.864716, 1)\n",
    "# hk = Airport(\"Hong Kong\", 114.149139, 22.286394, 0.3)\n",
    "# athens = Airport(\"Athens\", 23.727539, 37.983810, 1)\n",
    "# la = Airport(\"Los Angeles\", -118.243683, 34.052235, 1.5)\n",
    "# hawaii = Airport(\"Honolulu\", -157.917480, 21.289373, 1.5)\n",
    "# NYC = Airport(\"New York\", -73.935242, 40.730610, 1.5)\n",
    "# dublin = Airport(\"Dublin\", -6.266155, 53.350140, 1)"
   ]
  },
  {
   "cell_type": "code",
   "execution_count": 5,
   "metadata": {},
   "outputs": [],
   "source": [
    "# home='Dublin'"
   ]
  },
  {
   "cell_type": "markdown",
   "metadata": {},
   "source": [
    "## Import CSV's"
   ]
  },
  {
   "cell_type": "markdown",
   "metadata": {},
   "source": [
    "### Aircraft"
   ]
  },
  {
   "cell_type": "code",
   "execution_count": 5,
   "metadata": {},
   "outputs": [],
   "source": [
    "df_aircraft = pd.read_csv(\"aircraft.csv\")"
   ]
  },
  {
   "cell_type": "code",
   "execution_count": 7,
   "metadata": {},
   "outputs": [
    {
     "name": "stdout",
     "output_type": "stream",
     "text": [
      "{'A319': ['A319', 'jet', 'metric', 'Airbus', 3750], 'A320': ['A320', 'jet', 'metric', 'Airbus', 12000], 'A321': ['A321', 'jet', 'metric', 'Airbus', 12000], 'A330': ['A330', 'jet', 'metric', 'Airbus', 13430], '737': ['737', 'jet', 'imperial', 'Boeing', 5600], '747': ['747', 'jet', 'imperial', 'Boeing', 9800], '757': ['757', 'jet', 'imperial', 'Boeing', 7222], '767': ['767', 'jet', 'imperial', 'Boeing', 7130], '777': ['777', 'jet', 'imperial', 'Boeing', 9700], 'BAE146': ['BAE146', 'turboprop', 'metric', 'BAE', 2909], 'DC8': ['DC8', 'jet', 'imperial', 'Douglas', 4800], 'F50': ['F50', 'turboprop', 'metric', 'Fokker', 2055], 'MD11': ['MD11', 'jet', 'imperial', 'McDonallDouglas', 12670], 'A400M': ['A400M', 'turboprop', 'metric', 'Airbus', 3298], 'C212': ['C212', 'turboprop', 'metric', 'Airbus', 1811], 'V22': ['V22', 'turboprop', 'imperial', 'Boeing ', 1622], 'BB1': ['BB1', 'helicopter', 'imperial', 'Bell Boeing', 1011], 'BA10': ['BA10', 'helicopter', 'imperial', 'Bell Agusta', 852], 'SIS99': ['SIS99', 'helicopter', 'imperial', 'Sikorsky', 808], 'SAH': ['SAH', 'helicopter', 'imperial', 'Sud Aviation', 808]}\n"
     ]
    }
   ],
   "source": [
    "# turn all aircrafts into dictionary - key is aircraft code\n",
    "aircraft_dict = df_aircraft.set_index('code').T.to_dict('list')"
   ]
  },
  {
   "cell_type": "code",
   "execution_count": 8,
   "metadata": {},
   "outputs": [],
   "source": [
    "# \n",
    "aircraftList =[]\n",
    "for key in aircraft_dict.keys():\n",
    "    aircraftList.append(key)"
   ]
  },
  {
   "cell_type": "code",
   "execution_count": 9,
   "metadata": {},
   "outputs": [
    {
     "name": "stdout",
     "output_type": "stream",
     "text": [
      "['A319', 'A320', 'A321', 'A330', '737', '747', '757', '767', '777', 'BAE146', 'DC8', 'F50', 'MD11', 'A400M', 'C212', 'V22', 'BB1', 'BA10', 'SIS99', 'SAH']\n"
     ]
    }
   ],
   "source": [
    "print(aircraftList)"
   ]
  },
  {
   "cell_type": "code",
   "execution_count": null,
   "metadata": {},
   "outputs": [],
   "source": []
  },
  {
   "cell_type": "markdown",
   "metadata": {},
   "source": [
    "# Note for team: What should the x in aircraftObjects be? "
   ]
  },
  {
   "cell_type": "code",
   "execution_count": 10,
   "metadata": {},
   "outputs": [],
   "source": [
    "aircraftObjects = {} # this is the thislist\n",
    "for aircraft in aircraftList:\n",
    "    myobject = Aircraft((aircraft_dict[aircraft])[0], (aircraft_dict[aircraft])[4], 'x', (aircraft_dict[aircraft])[2])\n",
    "    aircraftObjects[aircraft]=myobject"
   ]
  },
  {
   "cell_type": "code",
   "execution_count": 11,
   "metadata": {},
   "outputs": [
    {
     "data": {
      "text/plain": [
       "13430"
      ]
     },
     "execution_count": 11,
     "metadata": {},
     "output_type": "execute_result"
    }
   ],
   "source": [
    "aircraftObjects['A330'].getRange()"
   ]
  },
  {
   "cell_type": "markdown",
   "metadata": {},
   "source": [
    "### Airports and currency information"
   ]
  },
  {
   "cell_type": "code",
   "execution_count": 12,
   "metadata": {},
   "outputs": [],
   "source": [
    "df_airportcurr = pd.read_csv(\"airportcurrency.csv\")"
   ]
  },
  {
   "cell_type": "code",
   "execution_count": 13,
   "metadata": {},
   "outputs": [],
   "source": [
    "airportcurr_dict = df_airportcurr.set_index('airportcode').T.to_dict('list')"
   ]
  },
  {
   "cell_type": "code",
   "execution_count": 14,
   "metadata": {},
   "outputs": [],
   "source": [
    "airportList = []\n",
    "for key in airportcurr_dict.keys():\n",
    "    airportList.append(key)\n",
    "    \n",
    "airportObjects = {}\n",
    "for airport in airportList:\n",
    "    myobject = Airport((airportcurr_dict[airport])[0], (airportcurr_dict[airport])[4], (airportcurr_dict[airport])[5], (airportcurr_dict[airport])[7])\n",
    "    airportObjects[airport]=myobject"
   ]
  },
  {
   "cell_type": "code",
   "execution_count": 15,
   "metadata": {},
   "outputs": [
    {
     "data": {
      "text/plain": [
       "0.1081"
      ]
     },
     "execution_count": 15,
     "metadata": {},
     "output_type": "execute_result"
    }
   ],
   "source": [
    "airportObjects['EZE'].getExchangeRate()"
   ]
  },
  {
   "cell_type": "code",
   "execution_count": 16,
   "metadata": {},
   "outputs": [
    {
     "name": "stdout",
     "output_type": "stream",
     "text": [
      "{'LHR': <__main__.Airport object at 0x12041b4e0>, 'JFK': <__main__.Airport object at 0x12017efd0>, 'SVO': <__main__.Airport object at 0x1203df048>, 'SXF': <__main__.Airport object at 0x1206c38d0>, 'XDB': <__main__.Airport object at 0x1206c3470>}\n",
      "[<__main__.Airport object at 0x12041b4e0>, <__main__.Airport object at 0x12017efd0>, <__main__.Airport object at 0x1203df048>, <__main__.Airport object at 0x1206c38d0>, <__main__.Airport object at 0x1206c3470>]\n"
     ]
    }
   ],
   "source": [
    "list_of_airports = ['LHR', 'JFK', 'SVO', 'SXF','XDB']\n",
    "list_of_airport_dict = {}\n",
    "\n",
    "list_airports_just = [airportObjects[x] for x in list_of_airports]\n",
    "\n",
    "for i in list_of_airports:\n",
    "    list_of_airport_dict[i] = airportObjects[i]\n",
    "\n",
    "print(list_of_airport_dict)\n",
    "print(list_airports_just)"
   ]
  },
  {
   "cell_type": "code",
   "execution_count": null,
   "metadata": {},
   "outputs": [],
   "source": []
  },
  {
   "cell_type": "markdown",
   "metadata": {},
   "source": [
    "# Build Flight Possibilities \n",
    "- looks at all airports in a list as well as an aircraft, and creates a graph based on where the aircraft can fly to "
   ]
  },
  {
   "cell_type": "code",
   "execution_count": 17,
   "metadata": {},
   "outputs": [],
   "source": [
    "def build_flight_possibilities(list_of_airports, possibilities_lookup, plane):\n",
    "    for i in range(len(list_of_airports)):\n",
    "        possibilities_lookup[list_of_airports[i].getName()] = {}\n",
    "        for j in range(len(list_of_airports)):\n",
    "            if i != j and Route.calculate_distance(list_of_airports[i], list_of_airports[j]) <= plane.getRange():\n",
    "                possibilities_lookup[list_of_airports[i].getName()][list_of_airports[j].getName()] = list_of_airports[j]\n",
    "\n",
    "    return possibilities_lookup"
   ]
  },
  {
   "cell_type": "code",
   "execution_count": 18,
   "metadata": {},
   "outputs": [
    {
     "name": "stdout",
     "output_type": "stream",
     "text": [
      "{'LHR': {'JFK': <__main__.Airport object at 0x12017efd0>, 'SVO': <__main__.Airport object at 0x1203df048>, 'SXF': <__main__.Airport object at 0x1206c38d0>, 'XDB': <__main__.Airport object at 0x1206c3470>}, 'JFK': {'LHR': <__main__.Airport object at 0x12041b4e0>, 'SVO': <__main__.Airport object at 0x1203df048>, 'SXF': <__main__.Airport object at 0x1206c38d0>, 'XDB': <__main__.Airport object at 0x1206c3470>}, 'SVO': {'LHR': <__main__.Airport object at 0x12041b4e0>, 'JFK': <__main__.Airport object at 0x12017efd0>, 'SXF': <__main__.Airport object at 0x1206c38d0>, 'XDB': <__main__.Airport object at 0x1206c3470>}, 'SXF': {'LHR': <__main__.Airport object at 0x12041b4e0>, 'JFK': <__main__.Airport object at 0x12017efd0>, 'SVO': <__main__.Airport object at 0x1203df048>, 'XDB': <__main__.Airport object at 0x1206c3470>}, 'XDB': {'LHR': <__main__.Airport object at 0x12041b4e0>, 'JFK': <__main__.Airport object at 0x12017efd0>, 'SVO': <__main__.Airport object at 0x1203df048>, 'SXF': <__main__.Airport object at 0x1206c38d0>}}\n"
     ]
    }
   ],
   "source": [
    "possibilities = build_flight_possibilities(list_airports_just, {}, aircraftObjects['747'])\n",
    "\n",
    "print(possibilities)"
   ]
  },
  {
   "cell_type": "code",
   "execution_count": 19,
   "metadata": {},
   "outputs": [],
   "source": [
    "def buildRouteCosts(list_of_airports):\n",
    "    costs = {}\n",
    "\n",
    "    for airport in list_of_airports: \n",
    "        costs[airport.getName()] = {}\n",
    "        get_costs_from = possibilities[airport.getName()]\n",
    "        for key in get_costs_from: \n",
    "            costs_key = airport.getName() + \":\" + key\n",
    "            costs[airport.getName()][costs_key] = Route.calculate_score(airport, possibilities[airport.getName()][key])\n",
    "\n",
    "    return costs\n",
    "\n",
    "routes = buildRouteCosts(list_airports_just)"
   ]
  },
  {
   "cell_type": "code",
   "execution_count": 20,
   "metadata": {},
   "outputs": [
    {
     "data": {
      "text/plain": [
       "{'LHR': {'JFK': <__main__.Airport at 0x12017efd0>,\n",
       "  'SVO': <__main__.Airport at 0x1203df048>,\n",
       "  'SXF': <__main__.Airport at 0x1206c38d0>,\n",
       "  'XDB': <__main__.Airport at 0x1206c3470>},\n",
       " 'JFK': {'LHR': <__main__.Airport at 0x12041b4e0>,\n",
       "  'SVO': <__main__.Airport at 0x1203df048>,\n",
       "  'SXF': <__main__.Airport at 0x1206c38d0>,\n",
       "  'XDB': <__main__.Airport at 0x1206c3470>},\n",
       " 'SVO': {'LHR': <__main__.Airport at 0x12041b4e0>,\n",
       "  'JFK': <__main__.Airport at 0x12017efd0>,\n",
       "  'SXF': <__main__.Airport at 0x1206c38d0>,\n",
       "  'XDB': <__main__.Airport at 0x1206c3470>},\n",
       " 'SXF': {'LHR': <__main__.Airport at 0x12041b4e0>,\n",
       "  'JFK': <__main__.Airport at 0x12017efd0>,\n",
       "  'SVO': <__main__.Airport at 0x1203df048>,\n",
       "  'XDB': <__main__.Airport at 0x1206c3470>},\n",
       " 'XDB': {'LHR': <__main__.Airport at 0x12041b4e0>,\n",
       "  'JFK': <__main__.Airport at 0x12017efd0>,\n",
       "  'SVO': <__main__.Airport at 0x1203df048>,\n",
       "  'SXF': <__main__.Airport at 0x1206c38d0>}}"
      ]
     },
     "execution_count": 20,
     "metadata": {},
     "output_type": "execute_result"
    }
   ],
   "source": [
    "possibilities"
   ]
  },
  {
   "cell_type": "code",
   "execution_count": 21,
   "metadata": {},
   "outputs": [
    {
     "name": "stdout",
     "output_type": "stream",
     "text": [
      "{'LHR': {'LHR:JFK': 11475.909811700216, 'LHR:SVO': 5939.947326818718, 'LHR:SXF': 2184.4055071247167, 'LHR:XDB': 571.3651279668778}, 'JFK': {'JFK:LHR': 7761.311019560314, 'JFK:SVO': 11774.456533623836, 'JFK:SXF': 9238.602719725977, 'JFK:XDB': 8130.0098911853665}, 'SVO': {'SVO:LHR': 64.52690659399619, 'SVO:JFK': 189.12596708729689, 'SVO:SXF': 40.82255628627873, 'SVO:XDB': 58.73589153461604}, 'SXF': {'SXF:LHR': 1557.064300466688, 'SXF:JFK': 9737.144519104108, 'SXF:SVO': 2678.645425608841, 'SXF:XDB': 1176.50660530499}, 'XDB': {'XDB:LHR': 407.27430890788924, 'XDB:JFK': 8568.728806055404, 'XDB:SVO': 3854.0611243186377, 'XDB:SXF': 1176.50660530499}}\n"
     ]
    }
   ],
   "source": [
    "print(routes)"
   ]
  },
  {
   "cell_type": "code",
   "execution_count": null,
   "metadata": {},
   "outputs": [],
   "source": []
  },
  {
   "cell_type": "markdown",
   "metadata": {},
   "source": [
    "A string-based version of Possibilities, to work with firstcost function:"
   ]
  },
  {
   "cell_type": "code",
   "execution_count": 22,
   "metadata": {},
   "outputs": [
    {
     "name": "stdout",
     "output_type": "stream",
     "text": [
      "{'LHR': ['JFK', 'SVO', 'SXF', 'XDB'], 'JFK': ['LHR', 'SVO', 'SXF', 'XDB'], 'SVO': ['LHR', 'JFK', 'SXF', 'XDB'], 'SXF': ['LHR', 'JFK', 'SVO', 'XDB'], 'XDB': ['LHR', 'JFK', 'SVO', 'SXF']}\n"
     ]
    }
   ],
   "source": [
    "def build_route_string(list_of_airports, string_route_lookup, plane):\n",
    "    for i in range(len(list_of_airports)):\n",
    "        string_route_lookup[list_of_airports[i].getName()] = []\n",
    "        for j in range(len(list_of_airports)):\n",
    "            if i != j and Route.calculate_distance(list_of_airports[i], list_of_airports[j]) <= plane.getRange():\n",
    "                if list_of_airports[i].getName() in string_route_lookup:\n",
    "                    string_route_lookup[list_of_airports[i].getName()].append(list_of_airports[j].getName())\n",
    "                else:\n",
    "                    string_route_lookup[list_of_airports[i].getName()]=list_of_airports[j].getName()\n",
    "\n",
    "    return string_route_lookup\n",
    "\n",
    "mygraph=build_route_string(list_airports_just, {}, aircraftObjects['747'])\n",
    "print(mygraph)"
   ]
  },
  {
   "cell_type": "code",
   "execution_count": null,
   "metadata": {},
   "outputs": [],
   "source": []
  },
  {
   "cell_type": "markdown",
   "metadata": {},
   "source": [
    "## Nominate a Home airport"
   ]
  },
  {
   "cell_type": "markdown",
   "metadata": {},
   "source": [
    "Note to team: should we ask for input of a home, list_airports_just and aircraftObject at the start, so we don't have to hardcode it in there throughout?"
   ]
  },
  {
   "cell_type": "code",
   "execution_count": 23,
   "metadata": {},
   "outputs": [],
   "source": [
    "home='LHR'"
   ]
  },
  {
   "cell_type": "code",
   "execution_count": null,
   "metadata": {},
   "outputs": [],
   "source": []
  },
  {
   "cell_type": "markdown",
   "metadata": {},
   "source": [
    "## FirstCost Function - calculate the cost of the first valid route\n",
    "\n"
   ]
  },
  {
   "cell_type": "code",
   "execution_count": 24,
   "metadata": {},
   "outputs": [],
   "source": [
    "def firstcost(graph, start, flightlist, routes, path =[],a=0, cost=0): \n",
    "    path = path + [start]\n",
    "    cost+=a\n",
    "    if len(path)==len(flightlist) and home in graph[start]:\n",
    "        path.append(home)\n",
    "        start_string = start +\":\" + home\n",
    "        a = routes[start][start_string]\n",
    "        cost += a\n",
    "        return path, cost\n",
    "    for node in graph[start]: \n",
    "        if node not in path: \n",
    "            start_string = start +\":\" + node\n",
    "            a = routes[start][start_string]\n",
    "            newpath = firstcost(graph, node, flightlist, routes,path,a, cost) \n",
    "            if newpath:  \n",
    "                return newpath \n",
    "    return \"Error: Aircraft is too small to successfully traverse flightplan\""
   ]
  },
  {
   "cell_type": "code",
   "execution_count": 25,
   "metadata": {},
   "outputs": [],
   "source": [
    "firstroute, bestcost = firstcost(mygraph, home, list_of_airports, routes)"
   ]
  },
  {
   "cell_type": "code",
   "execution_count": 26,
   "metadata": {},
   "outputs": [
    {
     "data": {
      "text/plain": [
       "24874.96981582321"
      ]
     },
     "execution_count": 26,
     "metadata": {},
     "output_type": "execute_result"
    }
   ],
   "source": [
    "bestcost"
   ]
  },
  {
   "cell_type": "code",
   "execution_count": 27,
   "metadata": {},
   "outputs": [],
   "source": [
    "paths={}"
   ]
  },
  {
   "cell_type": "markdown",
   "metadata": {},
   "source": [
    "## MyDFS - calculate all valid routes, and dynamically discard if they are greater in cost than the lower bound established by FirstCost"
   ]
  },
  {
   "cell_type": "code",
   "execution_count": 28,
   "metadata": {},
   "outputs": [],
   "source": [
    "\n",
    "def myDFS(graph,start,cost,flightlist, routes,bestcost, path=[],a=0): \n",
    "    path=path+[start] \n",
    "#     print(\"path is\", path)\n",
    "    cost+=a\n",
    "    if len(path)==len(flightlist) and home in graph[start]:\n",
    "#         print(\"last cost is\", cost)\n",
    "        path.append(home)\n",
    "        start_string = start +\":\" + home\n",
    "        a = routes[start][start_string]\n",
    "        cost += a        \n",
    "        paths[cost]=path\n",
    "    for node in graph[start]:\n",
    "        start_string = start +\":\" + node\n",
    "        a = routes[start][start_string]\n",
    "        if node not in path and cost+a<bestcost:\n",
    "#             print(\"node is\", node)\n",
    "            myDFS(graph,node,cost,flightlist,routes,bestcost,path,a)\n"
   ]
  },
  {
   "cell_type": "code",
   "execution_count": 29,
   "metadata": {},
   "outputs": [],
   "source": [
    "myDFS(mygraph, home,0, list_of_airports, routes, bestcost)"
   ]
  },
  {
   "cell_type": "code",
   "execution_count": 30,
   "metadata": {},
   "outputs": [
    {
     "data": {
      "text/plain": [
       "{24874.96981582321: ['LHR', 'JFK', 'SVO', 'SXF', 'XDB', 'LHR'],\n",
       " 26042.673142630345: ['LHR', 'JFK', 'SVO', 'XDB', 'SXF', 'LHR'],\n",
       " 23859.16815747754: ['LHR', 'JFK', 'SXF', 'SVO', 'XDB', 'LHR'],\n",
       " 25057.86768395719: ['LHR', 'JFK', 'XDB', 'SVO', 'SXF', 'LHR'],\n",
       " 23525.598640393408: ['LHR', 'JFK', 'XDB', 'SXF', 'SVO', 'LHR'],\n",
       " 16951.456927844873: ['LHR', 'SVO', 'JFK', 'SXF', 'XDB', 'LHR'],\n",
       " 16992.65409086306: ['LHR', 'SVO', 'JFK', 'XDB', 'SXF', 'LHR'],\n",
       " 24255.19860230236: ['LHR', 'SVO', 'SXF', 'JFK', 'XDB', 'LHR'],\n",
       " 23487.316314025706: ['LHR', 'SVO', 'SXF', 'XDB', 'JFK', 'LHR'],\n",
       " 25363.079044601403: ['LHR', 'SVO', 'XDB', 'JFK', 'SXF', 'LHR'],\n",
       " 24673.645362322746: ['LHR', 'SVO', 'XDB', 'SXF', 'JFK', 'LHR'],\n",
       " 24162.016760295166: ['LHR', 'SXF', 'JFK', 'SVO', 'XDB', 'LHR'],\n",
       " 23970.147948326823: ['LHR', 'SXF', 'JFK', 'XDB', 'SVO', 'LHR'],\n",
       " 13589.46109991411: ['LHR', 'SXF', 'SVO', 'JFK', 'XDB', 'LHR'],\n",
       " 21251.826649883893: ['LHR', 'SXF', 'SVO', 'XDB', 'JFK', 'LHR'],\n",
       " 23768.624358702942: ['LHR', 'SXF', 'XDB', 'JFK', 'SVO', 'LHR'],\n",
       " 15165.410223395957: ['LHR', 'SXF', 'XDB', 'SVO', 'JFK', 'LHR'],\n",
       " 22512.437324399085: ['LHR', 'XDB', 'JFK', 'SVO', 'SXF', 'LHR'],\n",
       " 21121.868985951096: ['LHR', 'XDB', 'JFK', 'SXF', 'SVO', 'LHR'],\n",
       " 15410.219239565478: ['LHR', 'XDB', 'SVO', 'JFK', 'SXF', 'LHR'],\n",
       " 21964.704347236217: ['LHR', 'XDB', 'SVO', 'SXF', 'JFK', 'LHR'],\n",
       " 23323.999692593807: ['LHR', 'XDB', 'SXF', 'JFK', 'SVO', 'LHR'],\n",
       " 12376.95414552832: ['LHR', 'XDB', 'SXF', 'SVO', 'JFK', 'LHR']}"
      ]
     },
     "execution_count": 30,
     "metadata": {},
     "output_type": "execute_result"
    }
   ],
   "source": [
    "paths"
   ]
  },
  {
   "cell_type": "markdown",
   "metadata": {},
   "source": [
    "## Solution"
   ]
  },
  {
   "cell_type": "code",
   "execution_count": 31,
   "metadata": {},
   "outputs": [
    {
     "name": "stdout",
     "output_type": "stream",
     "text": [
      "Most economical route is: ['LHR', 'XDB', 'SXF', 'SVO', 'JFK', 'LHR']\n",
      "Cost of route is:  12376.95414552832\n"
     ]
    }
   ],
   "source": [
    "smallest_price=(sorted(paths.keys()))[0]\n",
    "final_route=paths[smallest_price]\n",
    "print(\"Most economical route is:\", final_route)\n",
    "print(\"Cost of route is: \", smallest_price)"
   ]
  },
  {
   "cell_type": "code",
   "execution_count": null,
   "metadata": {},
   "outputs": [],
   "source": []
  },
  {
   "cell_type": "code",
   "execution_count": null,
   "metadata": {},
   "outputs": [],
   "source": []
  },
  {
   "cell_type": "code",
   "execution_count": null,
   "metadata": {},
   "outputs": [],
   "source": []
  },
  {
   "cell_type": "code",
   "execution_count": null,
   "metadata": {},
   "outputs": [],
   "source": []
  },
  {
   "cell_type": "code",
   "execution_count": null,
   "metadata": {},
   "outputs": [],
   "source": []
  },
  {
   "cell_type": "code",
   "execution_count": null,
   "metadata": {},
   "outputs": [],
   "source": []
  }
 ],
 "metadata": {
  "kernelspec": {
   "display_name": "Python 3",
   "language": "python",
   "name": "python3"
  },
  "language_info": {
   "codemirror_mode": {
    "name": "ipython",
    "version": 3
   },
   "file_extension": ".py",
   "mimetype": "text/x-python",
   "name": "python",
   "nbconvert_exporter": "python",
   "pygments_lexer": "ipython3",
   "version": "3.7.2"
  }
 },
 "nbformat": 4,
 "nbformat_minor": 2
}
