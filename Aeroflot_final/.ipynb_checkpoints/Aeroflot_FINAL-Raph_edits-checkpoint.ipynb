{
 "cells": [
  {
   "cell_type": "markdown",
   "metadata": {},
   "source": [
    "# Aeroflot "
   ]
  },
  {
   "cell_type": "markdown",
   "metadata": {},
   "source": [
    "## Classes: Airport, Aircraft and Route"
   ]
  },
  {
   "cell_type": "code",
   "execution_count": 161,
   "metadata": {},
   "outputs": [],
   "source": [
    "import math"
   ]
  },
  {
   "cell_type": "code",
   "execution_count": 162,
   "metadata": {},
   "outputs": [],
   "source": [
    "import pandas as pd"
   ]
  },
  {
   "cell_type": "code",
   "execution_count": 163,
   "metadata": {},
   "outputs": [],
   "source": [
    "class Airport:\n",
    "    \n",
    "    def __init__(self, name, airport_name, city_name, latitude, longitude, toEuro):\n",
    "        self.__name = name\n",
    "        self.__airport_name = airport_name\n",
    "        self.__city_name = city_name\n",
    "        self.longitude = longitude\n",
    "        self.latitude = latitude\n",
    "        self.__toEuro = toEuro\n",
    "        \n",
    "        '''\n",
    "        RAPH EDIT - I've switched latitude and longitude round to conform to the airports dictionary\n",
    "        \n",
    "        '''\n",
    "        \n",
    "    def getAirportName(self):\n",
    "        return self.__airport_name\n",
    "    \n",
    "    def getCityName(self):\n",
    "        return self.__city_name\n",
    "        \n",
    "    def getExchangeRate(self):\n",
    "        return self.__toEuro\n",
    "    \n",
    "    def getName(self):\n",
    "        return self.__name\n",
    "    \n",
    "#     we don't use it\n",
    "#     def setExchangeRate(self, new_exchange_rate):\n",
    "#         self.__exchange_rate = new_exchange_rate\n",
    "#         print(\"Exchange rate set to \", new_exchange_rate)\n",
    "#         return self.getExchangeRate()\n",
    "\n",
    "\n",
    "\n",
    "class Aircraft:\n",
    "    def __init__(self, code, flight_range, units):\n",
    "        self.code = code\n",
    "        self.units = units\n",
    "        self.flight_range = self.convertToMetric(flight_range)\n",
    "        \n",
    "        '''\n",
    "        RAPH EDIT!!!! \n",
    "        \n",
    "        I've removed home_aiport from the Aircraft object - we don't need it\n",
    "        \n",
    "        '''\n",
    "    def convertToMetric(self, flight_range):\n",
    "        if self.units == \"imperial\":\n",
    "            return round(flight_range * 1.60934, 2)\n",
    "        else:\n",
    "            return flight_range\n",
    "        \n",
    "    def getRange(self):\n",
    "        return self.flight_range\n",
    "    \n",
    "    def getName(self):\n",
    "        return self.code\n",
    "\n",
    "\n",
    "\n",
    "class Route:\n",
    "    \n",
    "    def __init__(self):\n",
    "        self.__destinations = []\n",
    "        # it would make sense for destinations to be a circular array\n",
    "        self._next = None\n",
    "        self._current = None\n",
    "        self._previous = None\n",
    "        # this sequence has been produced the graph. The graph will go through each airport and will build a route\n",
    "        self.__total_score = 0\n",
    "        self._list_of_scores = []\n",
    "        \n",
    "        \n",
    "    def set_destinations(self, destinations):\n",
    "        self.__destinations = destinations\n",
    "\n",
    "    def append_to_route(self, airport):\n",
    "        self.__destinations.append(airport)\n",
    "\n",
    "    def calculate_score(start_airport, end_airport):\n",
    "        distance = Route.calculate_distance(start_airport, end_airport)\n",
    "        return start_airport.getExchangeRate() * distance\n",
    "           \n",
    "            # self._previous = self._current\n",
    "            # self._current = self._next\n",
    "            \n",
    "            \n",
    "    def calculate_distance(start_airport, end_airport):\n",
    "        latitude1 = start_airport.latitude\n",
    "        longitude1 = start_airport.longitude\n",
    "        latitude2 = end_airport.latitude\n",
    "        longitude2 = end_airport.longitude\n",
    "\n",
    "        # The following formulas assume that angles are expressed in radians.\n",
    "        # So convert to radians.\n",
    "\n",
    "        latitude1 = math.radians(latitude1)\n",
    "        longitude1 = math.radians(longitude1)\n",
    "        latitude2 = math.radians(latitude2)\n",
    "        longitude2 = math.radians(longitude2)\n",
    "\n",
    "        # Compute using the law of cosines.\n",
    "\n",
    "        # Great circle distance in radians\n",
    "        angle1 = math.acos(math.sin(latitude1) * math.sin(latitude2) \\\n",
    "                 + math.cos(latitude1) * math.cos(latitude2) * math.cos(longitude1 - longitude2))\n",
    "\n",
    "        # Convert back to degrees.\n",
    "        angle1 = math.degrees(angle1)\n",
    "\n",
    "        # Each degree on a great circle of Earth is 60 nautical miles.\n",
    "        distance1 = 60.0 * angle1\n",
    "            \n",
    "        in_kilometres = distance1 * 1.852\n",
    "        \n",
    "        return in_kilometres\n",
    "\n",
    "    def get_destinations(self):\n",
    "        return self.__destinations\n",
    "    \n",
    "    def getScores(self):\n",
    "        return self._list_of_scores\n"
   ]
  },
  {
   "cell_type": "markdown",
   "metadata": {},
   "source": [
    "## Placeholder aircraft and airport objects"
   ]
  },
  {
   "cell_type": "code",
   "execution_count": 164,
   "metadata": {},
   "outputs": [],
   "source": [
    "# plane = Aircraft(\"737\", 5600, \"LHR\", \"imperial\")\n",
    "\n",
    "# madrid = Airport(\"Madrid\", 3.7038, 40.4168, 0.84)\n",
    "# london = Airport(\"London\", 0.1278, 51.5074, 1.17)\n",
    "# moscow = Airport(\"Moscow\", 37.618423, 55.7558, 0.5)\n",
    "# shanghai = Airport(\"Shanghai\", 121.4737, 31.2304, 0.4) \n",
    "# paris = Airport(\"Paris\", 2.3522 , 48.864716, 1)\n",
    "# hk = Airport(\"Hong Kong\", 114.149139, 22.286394, 0.3)\n",
    "# athens = Airport(\"Athens\", 23.727539, 37.983810, 1)\n",
    "# la = Airport(\"Los Angeles\", -118.243683, 34.052235, 1.5)\n",
    "# hawaii = Airport(\"Honolulu\", -157.917480, 21.289373, 1.5)\n",
    "# NYC = Airport(\"New York\", -73.935242, 40.730610, 1.5)\n",
    "# dublin = Airport(\"Dublin\", -6.266155, 53.350140, 1)"
   ]
  },
  {
   "cell_type": "code",
   "execution_count": 165,
   "metadata": {},
   "outputs": [],
   "source": [
    "# home='Dublin'"
   ]
  },
  {
   "cell_type": "markdown",
   "metadata": {},
   "source": [
    "## Import CSV's"
   ]
  },
  {
   "cell_type": "markdown",
   "metadata": {},
   "source": [
    "### Aircraft"
   ]
  },
  {
   "cell_type": "code",
   "execution_count": 166,
   "metadata": {},
   "outputs": [],
   "source": [
    "df_aircraft = pd.read_csv(\"aircraft.csv\")"
   ]
  },
  {
   "cell_type": "code",
   "execution_count": 167,
   "metadata": {},
   "outputs": [
    {
     "name": "stdout",
     "output_type": "stream",
     "text": [
      "{'A319': ['A319', 'jet', 'metric', 'Airbus', 3750], 'A320': ['A320', 'jet', 'metric', 'Airbus', 12000], 'A321': ['A321', 'jet', 'metric', 'Airbus', 12000], 'A330': ['A330', 'jet', 'metric', 'Airbus', 13430], '737': ['737', 'jet', 'imperial', 'Boeing', 5600], '747': ['747', 'jet', 'imperial', 'Boeing', 9800], '757': ['757', 'jet', 'imperial', 'Boeing', 7222], '767': ['767', 'jet', 'imperial', 'Boeing', 7130], '777': ['777', 'jet', 'imperial', 'Boeing', 9700], 'BAE146': ['BAE146', 'turboprop', 'metric', 'BAE', 2909], 'DC8': ['DC8', 'jet', 'imperial', 'Douglas', 4800], 'F50': ['F50', 'turboprop', 'metric', 'Fokker', 2055], 'MD11': ['MD11', 'jet', 'imperial', 'McDonallDouglas', 12670], 'A400M': ['A400M', 'turboprop', 'metric', 'Airbus', 3298], 'C212': ['C212', 'turboprop', 'metric', 'Airbus', 1811], 'V22': ['V22', 'turboprop', 'imperial', 'Boeing ', 1622], 'BB1': ['BB1', 'helicopter', 'imperial', 'Bell Boeing', 1011], 'BA10': ['BA10', 'helicopter', 'imperial', 'Bell Agusta', 852], 'SIS99': ['SIS99', 'helicopter', 'imperial', 'Sikorsky', 808], 'SAH': ['SAH', 'helicopter', 'imperial', 'Sud Aviation', 808]}\n"
     ]
    }
   ],
   "source": [
    "# turn all aircrafts into dictionary - key is aircraft code\n",
    "aircraft_dict = df_aircraft.set_index('code').T.to_dict('list')\n",
    "print(aircraft_dict)"
   ]
  },
  {
   "cell_type": "code",
   "execution_count": 168,
   "metadata": {},
   "outputs": [],
   "source": [
    "# \n",
    "aircraftList =[]\n",
    "for key in aircraft_dict.keys():\n",
    "    aircraftList.append(key)"
   ]
  },
  {
   "cell_type": "code",
   "execution_count": 169,
   "metadata": {},
   "outputs": [
    {
     "name": "stdout",
     "output_type": "stream",
     "text": [
      "['A319', 'A320', 'A321', 'A330', '737', '747', '757', '767', '777', 'BAE146', 'DC8', 'F50', 'MD11', 'A400M', 'C212', 'V22', 'BB1', 'BA10', 'SIS99', 'SAH']\n"
     ]
    }
   ],
   "source": [
    "print(aircraftList)"
   ]
  },
  {
   "cell_type": "code",
   "execution_count": null,
   "metadata": {},
   "outputs": [],
   "source": []
  },
  {
   "cell_type": "markdown",
   "metadata": {},
   "source": [
    "<del>Note for team: What should the x in aircraftObjects be?</del>"
   ]
  },
  {
   "cell_type": "code",
   "execution_count": 170,
   "metadata": {},
   "outputs": [
    {
     "data": {
      "text/plain": [
       "'\\nRAPH EDIT - the aircraft object looks like this: Aircraft(code, flight range, units)\\n'"
      ]
     },
     "execution_count": 170,
     "metadata": {},
     "output_type": "execute_result"
    }
   ],
   "source": [
    "aircraftObjects = {} # this is the thislist\n",
    "for aircraft in aircraftList:\n",
    "    myobject = Aircraft((aircraft_dict[aircraft])[0], (aircraft_dict[aircraft])[4], (aircraft_dict[aircraft])[2])\n",
    "    aircraftObjects[aircraft]=myobject\n",
    "    \n",
    "    \n",
    "'''\n",
    "RAPH EDIT - the aircraft object looks like this: Aircraft(code, flight range, units)\n",
    "'''\n"
   ]
  },
  {
   "cell_type": "code",
   "execution_count": 171,
   "metadata": {},
   "outputs": [
    {
     "data": {
      "text/plain": [
       "3750"
      ]
     },
     "execution_count": 171,
     "metadata": {},
     "output_type": "execute_result"
    }
   ],
   "source": [
    "aircraftObjects['A319'].getRange()"
   ]
  },
  {
   "cell_type": "markdown",
   "metadata": {},
   "source": [
    "### Airports and currency information"
   ]
  },
  {
   "cell_type": "code",
   "execution_count": 172,
   "metadata": {},
   "outputs": [],
   "source": [
    "df_airportcurr = pd.read_csv(\"airportcurrency.csv\")"
   ]
  },
  {
   "cell_type": "code",
   "execution_count": 173,
   "metadata": {},
   "outputs": [
    {
     "data": {
      "text/html": [
       "<div>\n",
       "<style scoped>\n",
       "    .dataframe tbody tr th:only-of-type {\n",
       "        vertical-align: middle;\n",
       "    }\n",
       "\n",
       "    .dataframe tbody tr th {\n",
       "        vertical-align: top;\n",
       "    }\n",
       "\n",
       "    .dataframe thead th {\n",
       "        text-align: right;\n",
       "    }\n",
       "</style>\n",
       "<table border=\"1\" class=\"dataframe\">\n",
       "  <thead>\n",
       "    <tr style=\"text-align: right;\">\n",
       "      <th></th>\n",
       "      <th>airportcode</th>\n",
       "      <th>airportcodecopy</th>\n",
       "      <th>airport</th>\n",
       "      <th>city</th>\n",
       "      <th>country</th>\n",
       "      <th>lat</th>\n",
       "      <th>long</th>\n",
       "      <th>currencycode</th>\n",
       "      <th>toeuro</th>\n",
       "      <th>fromeuro</th>\n",
       "    </tr>\n",
       "  </thead>\n",
       "  <tbody>\n",
       "    <tr>\n",
       "      <th>0</th>\n",
       "      <td>AUH</td>\n",
       "      <td>AUH</td>\n",
       "      <td>Abu Dhabi Intl</td>\n",
       "      <td>Abu Dhabi</td>\n",
       "      <td>United Arab Emirates</td>\n",
       "      <td>24.432972</td>\n",
       "      <td>54.651138</td>\n",
       "      <td>AED</td>\n",
       "      <td>0.2584</td>\n",
       "      <td>3.8722</td>\n",
       "    </tr>\n",
       "    <tr>\n",
       "      <th>1</th>\n",
       "      <td>AZI</td>\n",
       "      <td>AZI</td>\n",
       "      <td>Bateen</td>\n",
       "      <td>Abu Dhabi</td>\n",
       "      <td>United Arab Emirates</td>\n",
       "      <td>24.428333</td>\n",
       "      <td>54.458084</td>\n",
       "      <td>AED</td>\n",
       "      <td>0.2584</td>\n",
       "      <td>3.8722</td>\n",
       "    </tr>\n",
       "  </tbody>\n",
       "</table>\n",
       "</div>"
      ],
      "text/plain": [
       "  airportcode airportcodecopy         airport       city  \\\n",
       "0         AUH             AUH  Abu Dhabi Intl  Abu Dhabi   \n",
       "1         AZI             AZI          Bateen  Abu Dhabi   \n",
       "\n",
       "                country        lat       long currencycode  toeuro  fromeuro  \n",
       "0  United Arab Emirates  24.432972  54.651138          AED  0.2584    3.8722  \n",
       "1  United Arab Emirates  24.428333  54.458084          AED  0.2584    3.8722  "
      ]
     },
     "execution_count": 173,
     "metadata": {},
     "output_type": "execute_result"
    }
   ],
   "source": [
    "df_airportcurr.head(2)"
   ]
  },
  {
   "cell_type": "code",
   "execution_count": 174,
   "metadata": {
    "scrolled": true
   },
   "outputs": [],
   "source": [
    "airportcurr_dict = df_airportcurr.set_index('airportcode').T.to_dict('list')\n"
   ]
  },
  {
   "cell_type": "code",
   "execution_count": 175,
   "metadata": {},
   "outputs": [
    {
     "data": {
      "text/plain": [
       "'\\nRAPH EDIT - The aiport object looks like this:\\nAirport(name, longitude, latitude, toEuro)\\n'"
      ]
     },
     "execution_count": 175,
     "metadata": {},
     "output_type": "execute_result"
    }
   ],
   "source": [
    "airportList = []\n",
    "for key in airportcurr_dict.keys():\n",
    "    airportList.append(key)\n",
    "    \n",
    "airportObjects = {}\n",
    "for airport in airportList:\n",
    "    myobject = Airport((airportcurr_dict[airport])[0], (airportcurr_dict[airport])[1], (airportcurr_dict[airport])[2], (airportcurr_dict[airport])[4], (airportcurr_dict[airport])[5], (airportcurr_dict[airport])[7])\n",
    "    airportObjects[airport]=myobject\n",
    "    \n",
    "'''\n",
    "RAPH EDIT - The aiport object looks like this:\n",
    "Airport(name, longitude, latitude, toEuro)\n",
    "'''"
   ]
  },
  {
   "cell_type": "code",
   "execution_count": 176,
   "metadata": {},
   "outputs": [
    {
     "data": {
      "text/plain": [
       "0.1081"
      ]
     },
     "execution_count": 176,
     "metadata": {},
     "output_type": "execute_result"
    }
   ],
   "source": [
    "airportObjects['EZE'].getExchangeRate()"
   ]
  },
  {
   "cell_type": "code",
   "execution_count": 177,
   "metadata": {},
   "outputs": [
    {
     "name": "stdout",
     "output_type": "stream",
     "text": [
      "{'LHR': <__main__.Airport object at 0x118254908>, 'JFK': <__main__.Airport object at 0x118cbf438>, 'SVO': <__main__.Airport object at 0x118183ba8>, 'SXF': <__main__.Airport object at 0x118dcdcf8>, 'XDB': <__main__.Airport object at 0x118dcd898>}\n",
      "[<__main__.Airport object at 0x118254908>, <__main__.Airport object at 0x118cbf438>, <__main__.Airport object at 0x118183ba8>, <__main__.Airport object at 0x118dcdcf8>, <__main__.Airport object at 0x118dcd898>]\n"
     ]
    }
   ],
   "source": [
    "list_of_airports = ['LHR', 'JFK', 'SVO', 'SXF','XDB']\n",
    "list_of_airport_dict = {}\n",
    "\n",
    "# list_airports_just = [airportObjects[x] for x in list_of_airports]\n",
    "example_airports_list = [airportObjects[x] for x in list_of_airports]\n",
    "\n",
    "'''\n",
    "RAPH EDIT!!\n",
    "\n",
    "I'm renaming 'list_airports_just' to 'example_airports_list'\n",
    "'''\n",
    "\n",
    "for i in list_of_airports:\n",
    "    list_of_airport_dict[i] = airportObjects[i]\n",
    "\n",
    "print(list_of_airport_dict)\n",
    "print(example_airports_list)"
   ]
  },
  {
   "cell_type": "code",
   "execution_count": null,
   "metadata": {},
   "outputs": [],
   "source": []
  },
  {
   "cell_type": "markdown",
   "metadata": {},
   "source": [
    "# Build Flight Possibilities \n",
    "- looks at all airports in a list as well as an aircraft, and creates a graph based on where the aircraft can fly to "
   ]
  },
  {
   "cell_type": "code",
   "execution_count": 178,
   "metadata": {},
   "outputs": [],
   "source": [
    "def build_flight_possibilities(list_of_airports, possibilities_lookup, plane):\n",
    "    for i in range(len(list_of_airports)):\n",
    "        possibilities_lookup[list_of_airports[i].getName()] = {}\n",
    "        for j in range(len(list_of_airports)):\n",
    "            if i != j and Route.calculate_distance(list_of_airports[i], list_of_airports[j]) <= plane.getRange():\n",
    "                possibilities_lookup[list_of_airports[i].getName()][list_of_airports[j].getName()] = list_of_airports[j]\n",
    "\n",
    "    return possibilities_lookup"
   ]
  },
  {
   "cell_type": "code",
   "execution_count": 179,
   "metadata": {},
   "outputs": [
    {
     "name": "stdout",
     "output_type": "stream",
     "text": [
      "{'LHR': {'JFK': <__main__.Airport object at 0x118cbf438>, 'SVO': <__main__.Airport object at 0x118183ba8>, 'SXF': <__main__.Airport object at 0x118dcdcf8>, 'XDB': <__main__.Airport object at 0x118dcd898>}, 'JFK': {'LHR': <__main__.Airport object at 0x118254908>, 'SVO': <__main__.Airport object at 0x118183ba8>, 'SXF': <__main__.Airport object at 0x118dcdcf8>, 'XDB': <__main__.Airport object at 0x118dcd898>}, 'SVO': {'LHR': <__main__.Airport object at 0x118254908>, 'JFK': <__main__.Airport object at 0x118cbf438>, 'SXF': <__main__.Airport object at 0x118dcdcf8>, 'XDB': <__main__.Airport object at 0x118dcd898>}, 'SXF': {'LHR': <__main__.Airport object at 0x118254908>, 'JFK': <__main__.Airport object at 0x118cbf438>, 'SVO': <__main__.Airport object at 0x118183ba8>, 'XDB': <__main__.Airport object at 0x118dcd898>}, 'XDB': {'LHR': <__main__.Airport object at 0x118254908>, 'JFK': <__main__.Airport object at 0x118cbf438>, 'SVO': <__main__.Airport object at 0x118183ba8>, 'SXF': <__main__.Airport object at 0x118dcdcf8>}}\n"
     ]
    }
   ],
   "source": [
    "possibilities = build_flight_possibilities(example_airports_list, {}, aircraftObjects['747'])\n",
    "\n",
    "print(possibilities)"
   ]
  },
  {
   "cell_type": "code",
   "execution_count": 180,
   "metadata": {},
   "outputs": [],
   "source": [
    "def buildRouteCosts(list_of_airports, potential_routes):\n",
    "    \n",
    "    '''\n",
    "    RAPH EDIT!!!\n",
    "    \n",
    "    I'm making buildRouteCosts take possibilities (potential_routes) as a parameter\n",
    "    '''\n",
    "    costs = {}\n",
    "\n",
    "    for airport in list_of_airports: \n",
    "        costs[airport.getName()] = {}\n",
    "        get_costs_from = potential_routes[airport.getName()]\n",
    "        for key in get_costs_from: \n",
    "            costs_key = airport.getName() + \":\" + key\n",
    "            costs[airport.getName()][costs_key] = Route.calculate_score(airport, potential_routes[airport.getName()][key])\n",
    "\n",
    "    return costs\n",
    "\n",
    "routes = buildRouteCosts(example_airports_list, possibilities)"
   ]
  },
  {
   "cell_type": "code",
   "execution_count": 181,
   "metadata": {},
   "outputs": [
    {
     "data": {
      "text/plain": [
       "{'LHR': {'JFK': <__main__.Airport at 0x118cbf438>,\n",
       "  'SVO': <__main__.Airport at 0x118183ba8>,\n",
       "  'SXF': <__main__.Airport at 0x118dcdcf8>,\n",
       "  'XDB': <__main__.Airport at 0x118dcd898>},\n",
       " 'JFK': {'LHR': <__main__.Airport at 0x118254908>,\n",
       "  'SVO': <__main__.Airport at 0x118183ba8>,\n",
       "  'SXF': <__main__.Airport at 0x118dcdcf8>,\n",
       "  'XDB': <__main__.Airport at 0x118dcd898>},\n",
       " 'SVO': {'LHR': <__main__.Airport at 0x118254908>,\n",
       "  'JFK': <__main__.Airport at 0x118cbf438>,\n",
       "  'SXF': <__main__.Airport at 0x118dcdcf8>,\n",
       "  'XDB': <__main__.Airport at 0x118dcd898>},\n",
       " 'SXF': {'LHR': <__main__.Airport at 0x118254908>,\n",
       "  'JFK': <__main__.Airport at 0x118cbf438>,\n",
       "  'SVO': <__main__.Airport at 0x118183ba8>,\n",
       "  'XDB': <__main__.Airport at 0x118dcd898>},\n",
       " 'XDB': {'LHR': <__main__.Airport at 0x118254908>,\n",
       "  'JFK': <__main__.Airport at 0x118cbf438>,\n",
       "  'SVO': <__main__.Airport at 0x118183ba8>,\n",
       "  'SXF': <__main__.Airport at 0x118dcdcf8>}}"
      ]
     },
     "execution_count": 181,
     "metadata": {},
     "output_type": "execute_result"
    }
   ],
   "source": [
    "possibilities"
   ]
  },
  {
   "cell_type": "code",
   "execution_count": 182,
   "metadata": {},
   "outputs": [
    {
     "name": "stdout",
     "output_type": "stream",
     "text": [
      "{'LHR': {'LHR:JFK': 7766.056875427617, 'LHR:SVO': 3516.27494332, 'LHR:SXF': 1349.4483662756859, 'LHR:XDB': 376.0583906241243}, 'JFK': {'JFK:LHR': 5252.287948824381, 'JFK:SVO': 7093.111568740596, 'JFK:SXF': 6059.477882809027, 'JFK:XDB': 5506.296098490362}, 'SVO': {'SVO:LHR': 38.19803987183463, 'SVO:JFK': 113.93235698525157, 'SVO:SXF': 24.315168833388732, 'SVO:XDB': 35.547271544608904}, 'SXF': {'SXF:LHR': 961.8991847428084, 'SXF:JFK': 6386.464884916765, 'SXF:SVO': 1595.4835192512292, 'SXF:XDB': 749.1644923971476}, 'XDB': {'XDB:LHR': 268.05787342228547, 'XDB:JFK': 5803.431807009235, 'XDB:SVO': 2332.498132848353, 'XDB:SXF': 749.1644923971476}}\n"
     ]
    }
   ],
   "source": [
    "print(routes)"
   ]
  },
  {
   "cell_type": "code",
   "execution_count": null,
   "metadata": {},
   "outputs": [],
   "source": []
  },
  {
   "cell_type": "markdown",
   "metadata": {},
   "source": [
    "A string-based version of Possibilities, to work with firstcost function:"
   ]
  },
  {
   "cell_type": "code",
   "execution_count": 183,
   "metadata": {},
   "outputs": [
    {
     "name": "stdout",
     "output_type": "stream",
     "text": [
      "{'LHR': ['JFK', 'SVO', 'SXF', 'XDB'], 'JFK': ['LHR', 'SVO', 'SXF', 'XDB'], 'SVO': ['LHR', 'JFK', 'SXF', 'XDB'], 'SXF': ['LHR', 'JFK', 'SVO', 'XDB'], 'XDB': ['LHR', 'JFK', 'SVO', 'SXF']}\n"
     ]
    }
   ],
   "source": [
    "def build_route_string(list_of_airports, string_route_lookup, plane):\n",
    "    for i in range(len(list_of_airports)):\n",
    "        string_route_lookup[list_of_airports[i].getName()] = []\n",
    "        for j in range(len(list_of_airports)):\n",
    "            if i != j and Route.calculate_distance(list_of_airports[i], list_of_airports[j]) <= plane.getRange():\n",
    "                if list_of_airports[i].getName() in string_route_lookup:\n",
    "                    string_route_lookup[list_of_airports[i].getName()].append(list_of_airports[j].getName())\n",
    "                else:\n",
    "                    string_route_lookup[list_of_airports[i].getName()]=list_of_airports[j].getName()\n",
    "\n",
    "    return string_route_lookup\n",
    "\n",
    "mygraph=build_route_string(example_airports_list, {}, aircraftObjects['747'])\n",
    "print(mygraph)"
   ]
  },
  {
   "cell_type": "code",
   "execution_count": null,
   "metadata": {},
   "outputs": [],
   "source": []
  },
  {
   "cell_type": "markdown",
   "metadata": {},
   "source": [
    "## Nominate a Home airport"
   ]
  },
  {
   "cell_type": "markdown",
   "metadata": {},
   "source": [
    "Note to team: should we ask for input of a home, list_airports_just and aircraftObject at the start, so we don't have to hardcode it in there throughout?"
   ]
  },
  {
   "cell_type": "code",
   "execution_count": 184,
   "metadata": {},
   "outputs": [],
   "source": [
    "home='LHR'"
   ]
  },
  {
   "cell_type": "code",
   "execution_count": null,
   "metadata": {},
   "outputs": [],
   "source": []
  },
  {
   "cell_type": "markdown",
   "metadata": {},
   "source": [
    "## FirstCost Function - calculate the cost of the first valid route\n",
    "\n"
   ]
  },
  {
   "cell_type": "code",
   "execution_count": 185,
   "metadata": {},
   "outputs": [],
   "source": [
    "def firstcost(graph, start, flightlist, routes, path =[],a=0, cost=0): \n",
    "    path = path + [start]\n",
    "    cost+=a\n",
    "    if len(path)==len(flightlist) and home in graph[start]:\n",
    "        path.append(home)\n",
    "        start_string = start +\":\" + home\n",
    "        a = routes[start][start_string]\n",
    "        cost += a\n",
    "        return path, cost\n",
    "    for node in graph[start]: \n",
    "        if node not in path: \n",
    "            start_string = start +\":\" + node\n",
    "            a = routes[start][start_string]\n",
    "            newpath = firstcost(graph, node, flightlist, routes,path,a, cost) \n",
    "            if newpath:  \n",
    "                return newpath \n",
    "    return path, \"Error: Aircraft is too small to successfully traverse flightplan\""
   ]
  },
  {
   "cell_type": "code",
   "execution_count": 186,
   "metadata": {},
   "outputs": [],
   "source": [
    "firstroute, boundcost = firstcost(mygraph, home, list_of_airports, routes)"
   ]
  },
  {
   "cell_type": "code",
   "execution_count": 187,
   "metadata": {},
   "outputs": [
    {
     "data": {
      "text/plain": [
       "15900.705978821035"
      ]
     },
     "execution_count": 187,
     "metadata": {},
     "output_type": "execute_result"
    }
   ],
   "source": [
    "boundcost"
   ]
  },
  {
   "cell_type": "code",
   "execution_count": null,
   "metadata": {},
   "outputs": [],
   "source": []
  },
  {
   "cell_type": "markdown",
   "metadata": {},
   "source": [
    "## MyDFS - calculate all valid routes, and dynamically discard if they are greater in cost than the lower bound established by FirstCost"
   ]
  },
  {
   "cell_type": "code",
   "execution_count": 188,
   "metadata": {},
   "outputs": [],
   "source": [
    "def myDFS(graph, start, cost, flightlist, routes, boundcost, paths, path=[],a=0): \n",
    "    path=path+[start] \n",
    "#     print(\"path is\", path)\n",
    "    cost+=a\n",
    "    if len(path)==len(flightlist) and home in graph[start]:\n",
    "#         print(\"last cost is\", cost)\n",
    "        path.append(home)\n",
    "        start_string = start +\":\" + home\n",
    "        a = routes[start][start_string]\n",
    "        cost += a        \n",
    "        paths[cost]=path\n",
    "    for node in graph[start]:\n",
    "        start_string = start +\":\" + node\n",
    "        a = routes[start][start_string]\n",
    "        if node not in path and cost+a<boundcost:\n",
    "#             print(\"node is\", node)\n",
    "            myDFS(graph,node,cost,flightlist,routes,boundcost,paths, path, a)\n",
    "    return paths"
   ]
  },
  {
   "cell_type": "code",
   "execution_count": 189,
   "metadata": {},
   "outputs": [
    {
     "name": "stdout",
     "output_type": "stream",
     "text": [
      "{15900.705978821035: ['LHR', 'JFK', 'SVO', 'SXF', 'XDB', 'LHR'], 16605.77939285278: ['LHR', 'JFK', 'SVO', 'XDB', 'SXF', 'LHR'], 15724.623422454768: ['LHR', 'JFK', 'SXF', 'SVO', 'XDB', 'LHR'], 16591.065460342532: ['LHR', 'JFK', 'XDB', 'SVO', 'SXF', 'LHR'], 15655.19902543819: ['LHR', 'JFK', 'XDB', 'SXF', 'SVO', 'LHR'], 10706.90754893371: ['LHR', 'SVO', 'JFK', 'SXF', 'XDB', 'LHR'], 10847.567075935569: ['LHR', 'SVO', 'JFK', 'XDB', 'SXF', 'LHR'], 15701.408968982802: ['LHR', 'SVO', 'SXF', 'JFK', 'XDB', 'LHR'], 15345.474360384153: ['LHR', 'SVO', 'SXF', 'XDB', 'JFK', 'LHR'], 16376.631089425679: ['LHR', 'SVO', 'XDB', 'JFK', 'SXF', 'LHR'], 15939.739541002902: ['LHR', 'SVO', 'XDB', 'SXF', 'JFK', 'LHR'], 15132.629964899941: ['LHR', 'SXF', 'JFK', 'SVO', 'XDB', 'LHR'], 15612.905522403002: ['LHR', 'SXF', 'JFK', 'XDB', 'SVO', 'LHR'], 8833.218214424815: ['LHR', 'SXF', 'SVO', 'JFK', 'XDB', 'LHR'], 14036.19891290514: ['LHR', 'SXF', 'SVO', 'XDB', 'JFK', 'LHR'], 15033.354274294501: ['LHR', 'SXF', 'XDB', 'JFK', 'SVO', 'LHR'], 9797.33129733082: ['LHR', 'SXF', 'XDB', 'SVO', 'JFK', 'LHR'], 14258.816119950152: ['LHR', 'XDB', 'JFK', 'SVO', 'SXF', 'LHR'], 13872.64963956545: ['LHR', 'XDB', 'JFK', 'SXF', 'SVO', 'LHR'], 9843.865948009563: ['LHR', 'XDB', 'SVO', 'JFK', 'SXF', 'LHR'], 14371.624526047013: ['LHR', 'XDB', 'SVO', 'SXF', 'JFK', 'LHR'], 14642.997376550467: ['LHR', 'XDB', 'SXF', 'JFK', 'SVO', 'LHR'], 8086.926708082134: ['LHR', 'XDB', 'SXF', 'SVO', 'JFK', 'LHR']}\n"
     ]
    }
   ],
   "source": [
    "special_paths = myDFS(mygraph, home,0, list_of_airports, routes, boundcost, {})\n",
    "\n",
    "print(special_paths)"
   ]
  },
  {
   "cell_type": "code",
   "execution_count": null,
   "metadata": {},
   "outputs": [],
   "source": []
  },
  {
   "cell_type": "markdown",
   "metadata": {},
   "source": [
    "# Sorting the results with Quicksort\n",
    "\n",
    "Quicksort relies on choosing a pivot - for us that will be simply the middle index of the paths returned.\n",
    "\n",
    "It was between merge sort and quick sort for the optimal sorting algorithm - we went for quick sort because it doesn't require the extra array that merge sort would need. \n"
   ]
  },
  {
   "cell_type": "code",
   "execution_count": null,
   "metadata": {},
   "outputs": [],
   "source": [
    "\n",
    "def partitioner(items_to_sort, first_item, last_item):\n",
    "    \n",
    "    pivot = items_to_sort[first_item]\n",
    "    left_point = first_item + 1\n",
    "    right_point = last_item\n",
    "\n",
    "    done = False\n",
    "    while not done:\n",
    "\n",
    "        while left_point <= right_point and items_to_sort[left_point] <= pivot:\n",
    "            # if the item on the left is smaller than the pivot, move the left_point across (i.e ignore it)\n",
    "               left_point = left_point + 1\n",
    "\n",
    "                    \n",
    "        while items_to_sort[right_point] >= pivot and right_point >= left_point:\n",
    "               right_point = right_point -1\n",
    "            # likewise, if the point on the right is bigger than the pivot, just close the right in towards the middle\n",
    "\n",
    "        if right_point < left_point:\n",
    "               done = True\n",
    "        else:\n",
    "            # switch them round\n",
    "            temp_store = items_to_sort[left_point]\n",
    "            items_to_sort[left_point] = items_to_sort[right_point]\n",
    "            items_to_sort[right_point] = temp_store\n",
    "\n",
    "    temp_store = items_to_sort[first_item]\n",
    "    items_to_sort[first_item] = items_to_sort[right_point]\n",
    "    items_to_sort[right_point] = temp_store\n",
    "\n",
    "\n",
    "    return right_point\n",
    "        \n",
    "        \n",
    "def actual_quick_sort(items_to_sort, first_item, last_item):\n",
    "        if first_item < last_item:\n",
    "            # this is our base case - once the first_item is the same as the last_item the recursion will stop.\n",
    "            \n",
    "            divider = partitioner(items_to_sort, first_item, last_item)\n",
    "            \n",
    "            actual_quick_sort(items_to_sort,first_item,divider-1)\n",
    "            actual_quick_sort(items_to_sort,divider+1,last_item)\n",
    "            \n",
    "            \n",
    "def sortMe(items_to_sort):\n",
    "    actual_quick_sort(items_to_sort, 0, len(items_to_sort)-1)\n",
    "    return items_to_sort\n",
    "    \n",
    "\n",
    "\n",
    "path_list = [key for key in paths]\n",
    "\n",
    "\n",
    "\n",
    "\n",
    "best_route = sortMe(path_list)[0]\n",
    "print(\"The cheapest route to take is \", paths[best_route], \" and it costs \", best_route)"
   ]
  },
  {
   "cell_type": "markdown",
   "metadata": {},
   "source": [
    "\n",
    "## Solution"
   ]
  },
  {
   "cell_type": "code",
   "execution_count": 211,
   "metadata": {},
   "outputs": [],
   "source": [
    "def BuildRoute():\n",
    "    home_query = input(\"Please enter the code of your designated 'home' airport: \")\n",
    "    print(\"Home has been set as: \", home_query, \" - \", airportObjects[home_query].getAirportName(), \" in \", airportObjects[home_query].getCityName())\n",
    "    list_of_airports_query = \"\" \n",
    "    list_of_airports = []\n",
    "    print(\"Please enter the codes of every airport you would like to travel to, not including \", home_query, \". Please type 'done' when you have finished entering destinations.\")\n",
    "    while list_of_airports_query != \"done\":\n",
    "        list_of_airports_query = input(\"Enter the code of an airport:\")\n",
    "        if list_of_airports_query == \"done\":\n",
    "            break\n",
    "        if list_of_airports_query not in airportcurr_dict:\n",
    "            print(\"That airport wasn't found.\")\n",
    "        else:\n",
    "            list_of_airports.append(list_of_airports_query)\n",
    "            print(\"airport successfully added.\")\n",
    "            print(list_of_airports)\n",
    "    \n",
    "    list_of_airports.append(home_query)\n",
    "    print(\"The list of destinations you have entered is: \", list_of_airports, \"with \", home_query, \" as the start point.\")\n",
    "    plane_code = input(\"Please enter the code of the aircraft you would like to use.\")\n",
    "    \n",
    "    dictionary_of_airports = {}\n",
    "\n",
    "    # list_airports_just = [airportObjects[x] for x in list_of_airports]\n",
    "    list_of_airport_objects = [airportObjects[x] for x in list_of_airports]\n",
    "\n",
    "    '''\n",
    "    RAPH EDIT!!\n",
    "\n",
    "    I'm renaming 'list_airports_just' to 'example_airports_list'\n",
    "    '''\n",
    "\n",
    "    for i in list_of_airports:\n",
    "        dictionary_of_airports[i] = airportObjects[i]\n",
    "\n",
    "#     print(dictionary_of_airports)\n",
    "#     print(list_of_airport_objects)\n",
    "    \n",
    "    plane = aircraftObjects[plane_code]\n",
    "#     print(plane.getName())\n",
    "    \n",
    "    possibilities = build_flight_possibilities(list_of_airport_objects, {}, plane)\n",
    "    \n",
    "#     print(\"The flight graph looks like: \", possibilities)\n",
    "    for key in possibilities: \n",
    "        if len(possibilities[key]) == 0:\n",
    "            print(\"This is an invalid route for this aircraft. The aircraft's maximum range is too small to travel to one of the chosen destinations\")\n",
    "            return\n",
    "        \n",
    "    routes = buildRouteCosts(list_of_airport_objects, possibilities)\n",
    "    mygraph= build_route_string(list_of_airport_objects, {}, plane)\n",
    "    print(mygraph)\n",
    "    print(routes)\n",
    "    firstroute, boundcost = firstcost(mygraph, home_query, list_of_airports, routes)\n",
    "    print(firstroute, boundcost)\n",
    "    \n",
    "    paths = myDFS(mygraph, home_query, 0, list_of_airports, routes, boundcost, {})\n",
    "    print(paths)\n",
    "    \n",
    "#     path_list = [key for key in paths]\n",
    "\n",
    "#     best_route = sortMe(path_list)[0]\n",
    "    \n",
    "#     print(\"The cheapest route to take is \", paths[best_route], \" and it costs \", best_route)\n",
    "    \n",
    "   \n",
    "    \n",
    "    "
   ]
  },
  {
   "cell_type": "code",
   "execution_count": null,
   "metadata": {},
   "outputs": [],
   "source": []
  },
  {
   "cell_type": "code",
   "execution_count": 213,
   "metadata": {},
   "outputs": [
    {
     "name": "stdout",
     "output_type": "stream",
     "text": [
      "Please enter the code of your designated 'home' airport: SEA\n",
      "Home has been set as:  SEA  -  Seattle Tacoma Intl  in  Seattle\n",
      "Please enter the codes of every airport you would like to travel to, not including  SEA . Please type 'done' when you have finished entering destinations.\n",
      "Enter the code of an airport:LAX\n",
      "airport successfully added.\n",
      "['LAX']\n",
      "Enter the code of an airport:PDF\n",
      "That airport wasn't found.\n",
      "Enter the code of an airport:PDX\n",
      "airport successfully added.\n",
      "['LAX', 'PDX']\n",
      "Enter the code of an airport:SFO\n",
      "airport successfully added.\n",
      "['LAX', 'PDX', 'SFO']\n",
      "Enter the code of an airport:done\n",
      "The list of destinations you have entered is:  ['LAX', 'PDX', 'SFO', 'SEA'] with  SEA  as the start point.\n",
      "Please enter the code of the aircraft you would like to use.747\n",
      "{'LAX': ['PDX', 'SFO', 'SEA'], 'PDX': ['LAX', 'SFO', 'SEA'], 'SFO': ['LAX', 'PDX', 'SEA'], 'SEA': ['LAX', 'PDX', 'SFO']}\n",
      "{'LAX': {'LAX:PDX': 1273.4511639231237, 'LAX:SFO': 515.0151184529666, 'LAX:SEA': 1457.237473189321}, 'PDX': {'PDX:LAX': 1273.4511639231237, 'PDX:SFO': 840.438229702385, 'PDX:SEA': 197.24118607110006}, 'SFO': {'SFO:LAX': 515.0151184529666, 'SFO:PDX': 840.438229702385, 'SFO:SEA': 1036.3987162838403}, 'SEA': {'SEA:LAX': 1457.237473189321, 'SEA:PDX': 197.24118607110006, 'SEA:SFO': 1036.3987162838403}}\n",
      "['SEA', 'LAX', 'PDX', 'SFO'] Error: Aircraft is too small to successfully traverse flightplan\n"
     ]
    },
    {
     "ename": "TypeError",
     "evalue": "'<' not supported between instances of 'float' and 'str'",
     "output_type": "error",
     "traceback": [
      "\u001b[0;31m---------------------------------------------------------------------------\u001b[0m",
      "\u001b[0;31mTypeError\u001b[0m                                 Traceback (most recent call last)",
      "\u001b[0;32m<ipython-input-213-3963c3af37a6>\u001b[0m in \u001b[0;36m<module>\u001b[0;34m\u001b[0m\n\u001b[0;32m----> 1\u001b[0;31m \u001b[0mBuildRoute\u001b[0m\u001b[0;34m(\u001b[0m\u001b[0;34m)\u001b[0m\u001b[0;34m\u001b[0m\u001b[0;34m\u001b[0m\u001b[0m\n\u001b[0m",
      "\u001b[0;32m<ipython-input-211-14ae47ad50ea>\u001b[0m in \u001b[0;36mBuildRoute\u001b[0;34m()\u001b[0m\n\u001b[1;32m     55\u001b[0m     \u001b[0mprint\u001b[0m\u001b[0;34m(\u001b[0m\u001b[0mfirstroute\u001b[0m\u001b[0;34m,\u001b[0m \u001b[0mboundcost\u001b[0m\u001b[0;34m)\u001b[0m\u001b[0;34m\u001b[0m\u001b[0;34m\u001b[0m\u001b[0m\n\u001b[1;32m     56\u001b[0m \u001b[0;34m\u001b[0m\u001b[0m\n\u001b[0;32m---> 57\u001b[0;31m     \u001b[0mpaths\u001b[0m \u001b[0;34m=\u001b[0m \u001b[0mmyDFS\u001b[0m\u001b[0;34m(\u001b[0m\u001b[0mmygraph\u001b[0m\u001b[0;34m,\u001b[0m \u001b[0mhome_query\u001b[0m\u001b[0;34m,\u001b[0m \u001b[0;36m0\u001b[0m\u001b[0;34m,\u001b[0m \u001b[0mlist_of_airports\u001b[0m\u001b[0;34m,\u001b[0m \u001b[0mroutes\u001b[0m\u001b[0;34m,\u001b[0m \u001b[0mboundcost\u001b[0m\u001b[0;34m,\u001b[0m \u001b[0;34m{\u001b[0m\u001b[0;34m}\u001b[0m\u001b[0;34m)\u001b[0m\u001b[0;34m\u001b[0m\u001b[0;34m\u001b[0m\u001b[0m\n\u001b[0m\u001b[1;32m     58\u001b[0m     \u001b[0mprint\u001b[0m\u001b[0;34m(\u001b[0m\u001b[0mpaths\u001b[0m\u001b[0;34m)\u001b[0m\u001b[0;34m\u001b[0m\u001b[0;34m\u001b[0m\u001b[0m\n\u001b[1;32m     59\u001b[0m \u001b[0;34m\u001b[0m\u001b[0m\n",
      "\u001b[0;32m<ipython-input-188-a503b5299ab2>\u001b[0m in \u001b[0;36mmyDFS\u001b[0;34m(graph, start, cost, flightlist, routes, boundcost, paths, path, a)\u001b[0m\n\u001b[1;32m     13\u001b[0m         \u001b[0mstart_string\u001b[0m \u001b[0;34m=\u001b[0m \u001b[0mstart\u001b[0m \u001b[0;34m+\u001b[0m\u001b[0;34m\":\"\u001b[0m \u001b[0;34m+\u001b[0m \u001b[0mnode\u001b[0m\u001b[0;34m\u001b[0m\u001b[0;34m\u001b[0m\u001b[0m\n\u001b[1;32m     14\u001b[0m         \u001b[0ma\u001b[0m \u001b[0;34m=\u001b[0m \u001b[0mroutes\u001b[0m\u001b[0;34m[\u001b[0m\u001b[0mstart\u001b[0m\u001b[0;34m]\u001b[0m\u001b[0;34m[\u001b[0m\u001b[0mstart_string\u001b[0m\u001b[0;34m]\u001b[0m\u001b[0;34m\u001b[0m\u001b[0;34m\u001b[0m\u001b[0m\n\u001b[0;32m---> 15\u001b[0;31m         \u001b[0;32mif\u001b[0m \u001b[0mnode\u001b[0m \u001b[0;32mnot\u001b[0m \u001b[0;32min\u001b[0m \u001b[0mpath\u001b[0m \u001b[0;32mand\u001b[0m \u001b[0mcost\u001b[0m\u001b[0;34m+\u001b[0m\u001b[0ma\u001b[0m\u001b[0;34m<\u001b[0m\u001b[0mboundcost\u001b[0m\u001b[0;34m:\u001b[0m\u001b[0;34m\u001b[0m\u001b[0;34m\u001b[0m\u001b[0m\n\u001b[0m\u001b[1;32m     16\u001b[0m \u001b[0;31m#             print(\"node is\", node)\u001b[0m\u001b[0;34m\u001b[0m\u001b[0;34m\u001b[0m\u001b[0;34m\u001b[0m\u001b[0m\n\u001b[1;32m     17\u001b[0m             \u001b[0mmyDFS\u001b[0m\u001b[0;34m(\u001b[0m\u001b[0mgraph\u001b[0m\u001b[0;34m,\u001b[0m\u001b[0mnode\u001b[0m\u001b[0;34m,\u001b[0m\u001b[0mcost\u001b[0m\u001b[0;34m,\u001b[0m\u001b[0mflightlist\u001b[0m\u001b[0;34m,\u001b[0m\u001b[0mroutes\u001b[0m\u001b[0;34m,\u001b[0m\u001b[0mboundcost\u001b[0m\u001b[0;34m,\u001b[0m\u001b[0mpaths\u001b[0m\u001b[0;34m,\u001b[0m \u001b[0mpath\u001b[0m\u001b[0;34m,\u001b[0m \u001b[0ma\u001b[0m\u001b[0;34m)\u001b[0m\u001b[0;34m\u001b[0m\u001b[0;34m\u001b[0m\u001b[0m\n",
      "\u001b[0;31mTypeError\u001b[0m: '<' not supported between instances of 'float' and 'str'"
     ]
    }
   ],
   "source": [
    "BuildRoute()\n"
   ]
  },
  {
   "cell_type": "code",
   "execution_count": null,
   "metadata": {},
   "outputs": [],
   "source": []
  },
  {
   "cell_type": "code",
   "execution_count": null,
   "metadata": {},
   "outputs": [],
   "source": []
  },
  {
   "cell_type": "code",
   "execution_count": null,
   "metadata": {},
   "outputs": [],
   "source": []
  },
  {
   "cell_type": "code",
   "execution_count": null,
   "metadata": {},
   "outputs": [],
   "source": []
  }
 ],
 "metadata": {
  "kernelspec": {
   "display_name": "Python 3",
   "language": "python",
   "name": "python3"
  },
  "language_info": {
   "codemirror_mode": {
    "name": "ipython",
    "version": 3
   },
   "file_extension": ".py",
   "mimetype": "text/x-python",
   "name": "python",
   "nbconvert_exporter": "python",
   "pygments_lexer": "ipython3",
   "version": "3.7.2"
  }
 },
 "nbformat": 4,
 "nbformat_minor": 2
}
