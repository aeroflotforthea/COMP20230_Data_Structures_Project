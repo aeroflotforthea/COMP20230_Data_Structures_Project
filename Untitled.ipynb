{
 "cells": [
  {
   "cell_type": "code",
   "execution_count": null,
   "metadata": {},
   "outputs": [],
   "source": []
  },
  {
   "cell_type": "code",
   "execution_count": 39,
   "metadata": {},
   "outputs": [],
   "source": [
    "graph ={ \n",
    "'Dublin':['London', 'Berlin', 'Madrid', 'Rome'], \n",
    "'Madrid':['London', 'Berlin', 'Dublin', 'Rome'], \n",
    "'London':['Rome', 'Berlin', 'Madrid', 'Dublin'], \n",
    "'Berlin':['London', 'Dublin', 'Madrid', 'Rome'], \n",
    "'Rome':['London', 'Berlin', 'Madrid', 'Dublin'] \n",
    "}"
   ]
  },
  {
   "cell_type": "code",
   "execution_count": 40,
   "metadata": {},
   "outputs": [],
   "source": [
    "def find_all_paths(graph, start, path=[]):\n",
    "    path = path + [start]\n",
    "    paths = []\n",
    "   \n",
    "    if len(path)==len(graph)+1:\n",
    "        return [path]\n",
    "    \n",
    "    for node in graph[start]:\n",
    "        if node not in path:\n",
    "            newpaths = find_all_paths(graph, node, path)\n",
    "            print(\"newpaths\", newpaths)\n",
    "            for newpath in newpaths:\n",
    "#                 print(\"newpath\", newpath)\n",
    "                if len(newpath)>=len(graph):\n",
    "                    paths.append(newpath)\n",
    "    return paths"
   ]
  },
  {
   "cell_type": "code",
   "execution_count": 41,
   "metadata": {},
   "outputs": [
    {
     "name": "stdout",
     "output_type": "stream",
     "text": [
      "newpaths []\n",
      "newpaths []\n",
      "newpaths []\n",
      "newpaths []\n",
      "newpaths []\n",
      "newpaths []\n",
      "newpaths []\n",
      "newpaths []\n",
      "newpaths []\n",
      "newpaths []\n",
      "newpaths []\n",
      "newpaths []\n",
      "newpaths []\n",
      "newpaths []\n",
      "newpaths []\n",
      "newpaths []\n",
      "newpaths []\n",
      "newpaths []\n",
      "newpaths []\n",
      "newpaths []\n",
      "newpaths []\n",
      "newpaths []\n",
      "newpaths []\n",
      "newpaths []\n",
      "newpaths []\n",
      "newpaths []\n",
      "newpaths []\n",
      "newpaths []\n",
      "newpaths []\n",
      "newpaths []\n",
      "newpaths []\n",
      "newpaths []\n",
      "newpaths []\n",
      "newpaths []\n",
      "newpaths []\n",
      "newpaths []\n",
      "newpaths []\n",
      "newpaths []\n",
      "newpaths []\n",
      "newpaths []\n",
      "newpaths []\n",
      "newpaths []\n",
      "newpaths []\n",
      "newpaths []\n",
      "newpaths []\n",
      "newpaths []\n",
      "newpaths []\n",
      "newpaths []\n",
      "newpaths []\n",
      "newpaths []\n",
      "newpaths []\n",
      "newpaths []\n",
      "newpaths []\n",
      "newpaths []\n",
      "newpaths []\n",
      "newpaths []\n",
      "newpaths []\n",
      "newpaths []\n",
      "newpaths []\n",
      "newpaths []\n",
      "newpaths []\n",
      "newpaths []\n",
      "newpaths []\n",
      "newpaths []\n",
      "[]\n"
     ]
    }
   ],
   "source": [
    "mylist=find_all_paths(graph, 'Dublin')\n",
    "print(mylist)"
   ]
  },
  {
   "cell_type": "code",
   "execution_count": 42,
   "metadata": {},
   "outputs": [
    {
     "name": "stdout",
     "output_type": "stream",
     "text": [
      "0\n"
     ]
    }
   ],
   "source": [
    "print(len(mylist))"
   ]
  },
  {
   "cell_type": "code",
   "execution_count": 43,
   "metadata": {},
   "outputs": [
    {
     "data": {
      "text/plain": [
       "False"
      ]
     },
     "execution_count": 43,
     "metadata": {},
     "output_type": "execute_result"
    }
   ],
   "source": [
    "any(mylist.count(x) > 1 for x in mylist)"
   ]
  },
  {
   "cell_type": "code",
   "execution_count": null,
   "metadata": {},
   "outputs": [],
   "source": []
  },
  {
   "cell_type": "code",
   "execution_count": 22,
   "metadata": {},
   "outputs": [],
   "source": [
    "def factorial(n):\n",
    "    print(\"n is \", n)\n",
    "    if n < 2:\n",
    "        return 1\n",
    "    return n * factorial(n - 1)"
   ]
  },
  {
   "cell_type": "code",
   "execution_count": 23,
   "metadata": {},
   "outputs": [
    {
     "name": "stdout",
     "output_type": "stream",
     "text": [
      "n is  4\n",
      "n is  3\n",
      "n is  2\n",
      "n is  1\n"
     ]
    },
    {
     "data": {
      "text/plain": [
       "24"
      ]
     },
     "execution_count": 23,
     "metadata": {},
     "output_type": "execute_result"
    }
   ],
   "source": [
    "factorial(4)"
   ]
  },
  {
   "cell_type": "code",
   "execution_count": null,
   "metadata": {},
   "outputs": [],
   "source": []
  },
  {
   "cell_type": "code",
   "execution_count": 28,
   "metadata": {},
   "outputs": [],
   "source": [
    "def factorial1d(n, acc=1):\n",
    "    \n",
    "    print(\"n is \", n)\n",
    "    print(\"acc is \", acc)\n",
    "    while n > 1:\n",
    "        (n, acc) = (n - 1, acc * n)\n",
    "        print(\"acc is \", acc)\n",
    "    return acc"
   ]
  },
  {
   "cell_type": "code",
   "execution_count": 29,
   "metadata": {},
   "outputs": [
    {
     "name": "stdout",
     "output_type": "stream",
     "text": [
      "n is  4\n",
      "n is  3\n",
      "n is  2\n",
      "n is  1\n"
     ]
    },
    {
     "data": {
      "text/plain": [
       "24"
      ]
     },
     "execution_count": 29,
     "metadata": {},
     "output_type": "execute_result"
    }
   ],
   "source": [
    "factorial(4)"
   ]
  },
  {
   "cell_type": "code",
   "execution_count": null,
   "metadata": {},
   "outputs": [],
   "source": []
  },
  {
   "cell_type": "code",
   "execution_count": null,
   "metadata": {},
   "outputs": [],
   "source": []
  }
 ],
 "metadata": {
  "kernelspec": {
   "display_name": "Python 3",
   "language": "python",
   "name": "python3"
  },
  "language_info": {
   "codemirror_mode": {
    "name": "ipython",
    "version": 3
   },
   "file_extension": ".py",
   "mimetype": "text/x-python",
   "name": "python",
   "nbconvert_exporter": "python",
   "pygments_lexer": "ipython3",
   "version": "3.7.1"
  }
 },
 "nbformat": 4,
 "nbformat_minor": 2
}
