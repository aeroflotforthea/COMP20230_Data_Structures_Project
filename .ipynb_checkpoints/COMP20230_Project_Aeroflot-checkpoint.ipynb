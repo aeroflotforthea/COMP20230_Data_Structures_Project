{
 "cells": [
  {
   "cell_type": "markdown",
   "metadata": {},
   "source": [
    "# Initial Classes and concepts"
   ]
  },
  {
   "cell_type": "code",
   "execution_count": 15,
   "metadata": {},
   "outputs": [
    {
     "name": "stdout",
     "output_type": "stream",
     "text": [
      "[462.99886443239825, 1477.1960524873757, 2643.29322671239, 8921.5488503119]\n"
     ]
    }
   ],
   "source": [
    "import math\n",
    "\n",
    "class Airport:\n",
    "    \n",
    "    def __init__(self, name, longitude, latitude, exchange_rate):\n",
    "        self.__name = name\n",
    "        self.longitude = longitude\n",
    "        self.latitude = latitude\n",
    "        self.__exchange_rate = exchange_rate\n",
    "        \n",
    "    def getExchangeRate(self):\n",
    "        return self.__exchange_rate\n",
    "    \n",
    "    def setExchangeRate(self, new_exchange_rate):\n",
    "        self.__exchange_rate = new_exchange_rate\n",
    "        print(\"Exchange rate set to \", new_exchange_rate)\n",
    "        return self.getExchangeRate()\n",
    "\n",
    "airport = Airport(\"LHR\", \"101\", \"102\", 1.34)\n",
    "\n",
    "airport.getExchangeRate()\n",
    "\n",
    "# airport.setExchangeRate(1.55)\n",
    "\n",
    "class Aircraft:\n",
    "    def __init__(self, code, flight_range, home_airport, units):\n",
    "        self.code = code\n",
    "        self.units = units\n",
    "        self.flight_range = self.convertToMetric(flight_range)\n",
    "        self.home_airport = home_airport\n",
    "        \n",
    "    def convertToMetric(self, flight_range):\n",
    "        if self.units == \"imperial\":\n",
    "            return round(flight_range * 1.60934, 2)\n",
    "        else:\n",
    "            return flight_range\n",
    "        \n",
    "    def getRange(self):\n",
    "        return self.flight_range\n",
    "        \n",
    "plane = Aircraft(\"737\", 5600, \"LHR\", \"imperial\")\n",
    "\n",
    "\n",
    "class Route:\n",
    "    \n",
    "    def __init__(self):\n",
    "        self.__destinations = []\n",
    "        # it would make sense for destinations to be a circular array\n",
    "        self._next = None\n",
    "        self._current = None\n",
    "        self._previous = None\n",
    "        # this sequence has been produced the graph. The graph will go through each airport and will build a route\n",
    "        self.__total_score = 0\n",
    "        self._list_of_scores = []\n",
    "        \n",
    "        \n",
    "    def set_destinations(self, destinations):\n",
    "        self.__destinations = destinations\n",
    "\n",
    "    def append_to_route(self, airport):\n",
    "        self.__destinations.append(airport)\n",
    "\n",
    "    def calculate_score(self):\n",
    "        self._previous = self.__destinations[0]\n",
    "        # set the first airport to previous and current\n",
    "        for i in range(len(self.__destinations)):\n",
    "            self._current = self.__destinations[i]\n",
    "            try:\n",
    "                self._next = self.__destinations[i + 1]\n",
    "            except:\n",
    "                self._next = self.__destinations[0]\n",
    "            distance = self.calculate_distance(self._current, self._next)\n",
    "            current_score = self._current.getExchangeRate() * distance\n",
    "            self._list_of_scores.append(current_score)\n",
    "            # self._previous = self._current\n",
    "            # self._current = self._next\n",
    "            \n",
    "            \n",
    "    def calculate_distance(self, start_airport, end_airport):\n",
    "        latitude1 = start_airport.latitude\n",
    "        longitude1 = start_airport.longitude\n",
    "        latitude2 = end_airport.latitude\n",
    "        longitude2 = end_airport.longitude\n",
    "\n",
    "        # The following formulas assume that angles are expressed in radians.\n",
    "        # So convert to radians.\n",
    "\n",
    "        latitude1 = math.radians(latitude1)\n",
    "        longitude1 = math.radians(longitude1)\n",
    "        latitude2 = math.radians(latitude2)\n",
    "        longitude2 = math.radians(longitude2)\n",
    "\n",
    "        # Compute using the law of cosines.\n",
    "\n",
    "        # Great circle distance in radians\n",
    "        angle1 = math.acos(math.sin(latitude1) * math.sin(latitude2) \\\n",
    "                 + math.cos(latitude1) * math.cos(latitude2) * math.cos(longitude1 - longitude2))\n",
    "\n",
    "        # Convert back to degrees.\n",
    "        angle1 = math.degrees(angle1)\n",
    "\n",
    "        # Each degree on a great circle of Earth is 60 nautical miles.\n",
    "        distance1 = 60.0 * angle1\n",
    "            \n",
    "        in_kilometres = distance1 * 1.852\n",
    "        \n",
    "        return in_kilometres\n",
    "\n",
    "    def get_destinations(self):\n",
    "        return self.__destinations\n",
    "    \n",
    "    def getScores(self):\n",
    "        return self._list_of_scores\n",
    "        \n",
    "madrid = Airport(\"Madrid\", 3.7038, 40.4168, 0.84)\n",
    "london = Airport(\"London\", 0.1278, 51.5074, 1.17)\n",
    "dublin = Airport(\"Dublin\", 6.2603, 53.3498, 1)\n",
    "berlin = Airport(\"Berlin\", 13.4050, 13.4050, 1.99)\n",
    "\n",
    "our_route = Route()\n",
    "our_route.set_destinations([dublin, london, madrid, berlin, dublin])\n",
    "our_route.calculate_score()\n",
    "print(our_route.getScores())\n",
    "\n",
    "\n",
    "\n",
    "    "
   ]
  },
  {
   "cell_type": "code",
   "execution_count": 5,
   "metadata": {},
   "outputs": [
    {
     "data": {
      "text/plain": [
       "[<__main__.Airport at 0x1048e0160>,\n",
       " <__main__.Airport at 0x1048e0e10>,\n",
       " <__main__.Airport at 0x1048e0cf8>,\n",
       " <__main__.Airport at 0x1048e0e48>,\n",
       " <__main__.Airport at 0x1048e0160>]"
      ]
     },
     "execution_count": 5,
     "metadata": {},
     "output_type": "execute_result"
    }
   ],
   "source": [
    "our_route.get_destinations()"
   ]
  },
  {
   "cell_type": "code",
   "execution_count": null,
   "metadata": {},
   "outputs": [],
   "source": []
  }
 ],
 "metadata": {
  "kernelspec": {
   "display_name": "Python 3",
   "language": "python",
   "name": "python3"
  },
  "language_info": {
   "codemirror_mode": {
    "name": "ipython",
    "version": 3
   },
   "file_extension": ".py",
   "mimetype": "text/x-python",
   "name": "python",
   "nbconvert_exporter": "python",
   "pygments_lexer": "ipython3",
   "version": "3.7.2"
  }
 },
 "nbformat": 4,
 "nbformat_minor": 2
}
