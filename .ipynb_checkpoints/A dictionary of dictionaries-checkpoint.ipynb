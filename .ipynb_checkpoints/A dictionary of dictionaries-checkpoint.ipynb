{
 "cells": [
  {
   "cell_type": "code",
   "execution_count": 4,
   "metadata": {},
   "outputs": [],
   "source": []
  },
  {
   "cell_type": "markdown",
   "metadata": {},
   "source": [
    "I need to end up with a graph that looks like this:"
   ]
  },
  {
   "cell_type": "code",
   "execution_count": 14,
   "metadata": {},
   "outputs": [],
   "source": [
    "testgraph = {'Dublin': {'London': 2, 'Moscow':8, 'Athens': 7}, 'London': { 'Dublin':2, 'Athens': 4, 'Moscow':5}, 'Moscow': {'Dublin': 8, 'London': 5, 'Athens': 3}, 'Athens': {'Moscow': 3, 'Dublin':7, 'London':4}}\n"
   ]
  },
  {
   "cell_type": "code",
   "execution_count": 15,
   "metadata": {},
   "outputs": [
    {
     "name": "stdout",
     "output_type": "stream",
     "text": [
      "{'Dublin': {'London': 2, 'Moscow': 8, 'Athens': 7}, 'London': {'Dublin': 2, 'Athens': 4, 'Moscow': 5}, 'Moscow': {'Dublin': 8, 'London': 5, 'Athens': 3}, 'Athens': {'Moscow': 3, 'Dublin': 7, 'London': 4}}\n"
     ]
    }
   ],
   "source": [
    "print(testgraph)"
   ]
  },
  {
   "cell_type": "code",
   "execution_count": 16,
   "metadata": {},
   "outputs": [],
   "source": [
    "from collections import defaultdict"
   ]
  },
  {
   "cell_type": "markdown",
   "metadata": {},
   "source": [
    "Class to build a graph:"
   ]
  },
  {
   "cell_type": "markdown",
   "metadata": {},
   "source": [
    "Build a temporary dictionary, because each key in the testgraph dictionary has a dictionary as a value"
   ]
  },
  {
   "cell_type": "code",
   "execution_count": 17,
   "metadata": {},
   "outputs": [],
   "source": [
    "class Graph:\n",
    "    def __init__(self):\n",
    "        self.nodes = set()\n",
    "        self.edges = defaultdict(list)\n",
    "        self.distances = {}\n",
    "        self.thisdict={}\n",
    "        self.thatdict={}\n",
    "\n",
    "    def add_node(self, value):\n",
    "        self.nodes.add(value)\n",
    "\n",
    "    def add_edge(self, from_node, to_node, distance):\n",
    "        thisdict={}\n",
    "        thatdict={}\n",
    "        self.edges[from_node].append(to_node)\n",
    "        self.edges[to_node].append(from_node)\n",
    "\n",
    "#         thisdict[to_node]=distance\n",
    "#         thatdict[from_node]=distance\n",
    "#         print(\"thisdict\", thisdict)\n",
    "#         print(\"thatdict\", thatdict)\n",
    "#         self.distances[from_node] = thisdict\n",
    "#         self.distances[to_node] = thatdict\n",
    "#         print(\"thisdict2\", thisdict)\n",
    "#         print(\"thatdict2\", thatdict)\n",
    "#         print(\"__________________\")\n",
    "        \n",
    "        self.thisdict[to_node]=distance\n",
    "        self.thatdict[from_node]=distance\n",
    "        print(\"thisdict\", self.thisdict)\n",
    "        print(\"thatdict\", self.thatdict)\n",
    "        self.distances[from_node] = self.thisdict\n",
    "        self.distances[to_node] = self.thatdict\n",
    "        print(\"thisdict2\", self.thisdict)\n",
    "        print(\"thatdict2\", self.thatdict)\n",
    "        print(\"__________________\")"
   ]
  },
  {
   "cell_type": "code",
   "execution_count": 18,
   "metadata": {},
   "outputs": [
    {
     "name": "stdout",
     "output_type": "stream",
     "text": [
      "{'London', 'Athens', 'Dublin', 'Moscow'}\n"
     ]
    }
   ],
   "source": [
    "mygraph = Graph()\n",
    "mygraph.add_node('Dublin')\n",
    "mygraph.add_node('London')\n",
    "mygraph.add_node('Moscow')\n",
    "mygraph.add_node('Athens')\n",
    "print(mygraph.nodes)"
   ]
  },
  {
   "cell_type": "code",
   "execution_count": 19,
   "metadata": {},
   "outputs": [
    {
     "name": "stdout",
     "output_type": "stream",
     "text": [
      "thisdict {'London': 2}\n",
      "thatdict {'Dublin': 2}\n",
      "thisdict2 {'London': 2}\n",
      "thatdict2 {'Dublin': 2}\n",
      "__________________\n",
      "thisdict {'London': 2, 'Moscow': 8}\n",
      "thatdict {'Dublin': 8}\n",
      "thisdict2 {'London': 2, 'Moscow': 8}\n",
      "thatdict2 {'Dublin': 8}\n",
      "__________________\n"
     ]
    }
   ],
   "source": [
    "mygraph.add_edge('Dublin', 'London', 2)\n",
    "mygraph.add_edge('Dublin', 'Moscow', 8)\n",
    "# mygraph.add_edge('Dublin', 'Athens', 7)\n",
    "# mygraph.add_edge('London', 'Athens', 4)\n",
    "# mygraph.add_edge('London', 'Moscow', 5)\n",
    "# mygraph.add_edge('Athens', 'Moscow', 3)"
   ]
  },
  {
   "cell_type": "markdown",
   "metadata": {},
   "source": [
    "The distance from London to Dublin should be 8, not 2:"
   ]
  },
  {
   "cell_type": "code",
   "execution_count": 21,
   "metadata": {},
   "outputs": [
    {
     "data": {
      "text/plain": [
       "{'Dublin': {'London': 2, 'Moscow': 8},\n",
       " 'London': {'Dublin': 8},\n",
       " 'Moscow': {'Dublin': 8}}"
      ]
     },
     "execution_count": 21,
     "metadata": {},
     "output_type": "execute_result"
    }
   ],
   "source": [
    "mygraph.distances"
   ]
  },
  {
   "cell_type": "code",
   "execution_count": 22,
   "metadata": {},
   "outputs": [
    {
     "data": {
      "text/plain": [
       "{'nodes': {'Athens', 'Dublin', 'London', 'Moscow'},\n",
       " 'edges': defaultdict(list,\n",
       "             {'Dublin': ['London', 'Moscow'],\n",
       "              'London': ['Dublin'],\n",
       "              'Moscow': ['Dublin']}),\n",
       " 'distances': {'Dublin': {'London': 2, 'Moscow': 8},\n",
       "  'London': {'Dublin': 8},\n",
       "  'Moscow': {'Dublin': 8}},\n",
       " 'thisdict': {'London': 2, 'Moscow': 8},\n",
       " 'thatdict': {'Dublin': 8}}"
      ]
     },
     "execution_count": 22,
     "metadata": {},
     "output_type": "execute_result"
    }
   ],
   "source": [
    "mygraph.__dict__"
   ]
  },
  {
   "cell_type": "code",
   "execution_count": null,
   "metadata": {},
   "outputs": [],
   "source": []
  },
  {
   "cell_type": "code",
   "execution_count": null,
   "metadata": {},
   "outputs": [],
   "source": []
  }
 ],
 "metadata": {
  "kernelspec": {
   "display_name": "Python 3",
   "language": "python",
   "name": "python3"
  },
  "language_info": {
   "codemirror_mode": {
    "name": "ipython",
    "version": 3
   },
   "file_extension": ".py",
   "mimetype": "text/x-python",
   "name": "python",
   "nbconvert_exporter": "python",
   "pygments_lexer": "ipython3",
   "version": "3.7.1"
  }
 },
 "nbformat": 4,
 "nbformat_minor": 2
}
