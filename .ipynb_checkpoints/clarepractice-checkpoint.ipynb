{
 "cells": [
  {
   "cell_type": "code",
   "execution_count": 1,
   "metadata": {
    "scrolled": true
   },
   "outputs": [],
   "source": [
    "def dynamicFibo(n,table = []):\n",
    "    while len(table) < n+1: \n",
    "        table.append(0) \n",
    "        print(\"table here\", table)\n",
    "        print()\n",
    "        print()\n",
    "    #this does the same thing except it doesn't change the reference to `table`\n",
    "   #base case\n",
    "    if n <= 1:\n",
    "        print(\"table there\", table)\n",
    "        return n\n",
    "   #recursive case\n",
    "    else:\n",
    "        if table[n-1] ==  0:\n",
    "            print(\"*******\")\n",
    "            print(\"n is\", n)\n",
    "            print(\"*******\")\n",
    "            print(\"n-1 position is zero\")\n",
    "            print(\"hello\", table[n-1])\n",
    "            table[n-1] = dynamicFibo(n-1)\n",
    "            print(\"goodble\", table[n-1])\n",
    "            print(\"clare\", table)\n",
    "\n",
    "\n",
    "        if table[n-2] ==  0:\n",
    "            print(\"n is\", n)\n",
    "            print(\"n-2 is zero\")\n",
    "            table[n-2] = dynamicFibo(n-2)\n",
    "\n",
    "        table[n] = table[n-2] + table[n-1]\n",
    "        print(\"table[n]\", table[n])\n",
    "        print(\"table[n-2]\", table[n-2])\n",
    "        print(\"table[n-1]\", table[n-1])\n",
    "        print(\"table\", table)\n",
    "        print(\"-----------------\")\n",
    "    return table[n]"
   ]
  },
  {
   "cell_type": "code",
   "execution_count": 2,
   "metadata": {
    "scrolled": true
   },
   "outputs": [
    {
     "name": "stdout",
     "output_type": "stream",
     "text": [
      "table here [0]\n",
      "\n",
      "\n",
      "table here [0, 0]\n",
      "\n",
      "\n",
      "table here [0, 0, 0]\n",
      "\n",
      "\n",
      "table here [0, 0, 0, 0]\n",
      "\n",
      "\n",
      "table here [0, 0, 0, 0, 0]\n",
      "\n",
      "\n",
      "*******\n",
      "n is 4\n",
      "*******\n",
      "n-1 position is zero\n",
      "hello 0\n",
      "*******\n",
      "n is 3\n",
      "*******\n",
      "n-1 position is zero\n",
      "hello 0\n",
      "*******\n",
      "n is 2\n",
      "*******\n",
      "n-1 position is zero\n",
      "hello 0\n",
      "table there [0, 0, 0, 0, 0]\n",
      "goodble 1\n",
      "clare [0, 1, 0, 0, 0]\n",
      "n is 2\n",
      "n-2 is zero\n",
      "table there [0, 1, 0, 0, 0]\n",
      "table[n] 1\n",
      "table[n-2] 0\n",
      "table[n-1] 1\n",
      "table [0, 1, 1, 0, 0]\n",
      "-----------------\n",
      "goodble 1\n",
      "clare [0, 1, 1, 0, 0]\n",
      "table[n] 2\n",
      "table[n-2] 1\n",
      "table[n-1] 1\n",
      "table [0, 1, 1, 2, 0]\n",
      "-----------------\n",
      "goodble 2\n",
      "clare [0, 1, 1, 2, 0]\n",
      "table[n] 3\n",
      "table[n-2] 1\n",
      "table[n-1] 2\n",
      "table [0, 1, 1, 2, 3]\n",
      "-----------------\n"
     ]
    },
    {
     "data": {
      "text/plain": [
       "3"
      ]
     },
     "execution_count": 2,
     "metadata": {},
     "output_type": "execute_result"
    }
   ],
   "source": [
    "dynamicFibo(4)"
   ]
  },
  {
   "cell_type": "code",
   "execution_count": null,
   "metadata": {
    "scrolled": true
   },
   "outputs": [],
   "source": [
    "# Python program to display the Fibonacci sequence up to n-th term using recursive functions\n",
    "\n",
    "def recur_fibo(n):\n",
    "#    \"\"\"Recursive function to print Fibonacci sequence\"\"\"\n",
    "    if n <= 1:\n",
    "        return n\n",
    "    else:\n",
    "        return(recur_fibo(n-1) + recur_fibo(n-2))"
   ]
  },
  {
   "cell_type": "code",
   "execution_count": null,
   "metadata": {
    "scrolled": true
   },
   "outputs": [],
   "source": [
    "recur_fibo(4)"
   ]
  },
  {
   "cell_type": "code",
   "execution_count": null,
   "metadata": {
    "scrolled": true
   },
   "outputs": [],
   "source": []
  },
  {
   "cell_type": "code",
   "execution_count": null,
   "metadata": {
    "scrolled": true
   },
   "outputs": [],
   "source": []
  },
  {
   "cell_type": "code",
   "execution_count": null,
   "metadata": {
    "scrolled": true
   },
   "outputs": [],
   "source": []
  },
  {
   "cell_type": "code",
   "execution_count": null,
   "metadata": {
    "scrolled": true
   },
   "outputs": [],
   "source": []
  },
  {
   "cell_type": "markdown",
   "metadata": {},
   "source": [
    "start here"
   ]
  },
  {
   "cell_type": "code",
   "execution_count": null,
   "metadata": {
    "scrolled": true
   },
   "outputs": [],
   "source": []
  },
  {
   "cell_type": "code",
   "execution_count": 344,
   "metadata": {
    "scrolled": true
   },
   "outputs": [],
   "source": [
    "class Airplane:\n",
    "    def __init__(self, maxdist):\n",
    "        self.maxdist=maxdist"
   ]
  },
  {
   "cell_type": "code",
   "execution_count": 345,
   "metadata": {
    "scrolled": true
   },
   "outputs": [],
   "source": [
    "myjumbo = Airplane(6)"
   ]
  },
  {
   "cell_type": "markdown",
   "metadata": {},
   "source": [
    "Create a graph based on distance capacity of specific airplane"
   ]
  },
  {
   "cell_type": "code",
   "execution_count": 346,
   "metadata": {
    "scrolled": true
   },
   "outputs": [],
   "source": [
    "from collections import defaultdict"
   ]
  },
  {
   "cell_type": "code",
   "execution_count": 347,
   "metadata": {
    "scrolled": true
   },
   "outputs": [],
   "source": [
    "class Graph:\n",
    "    def __init__(self, airplane):\n",
    "        self.nodes = set()\n",
    "        self.edges = defaultdict(list)\n",
    "        self.distances = {}\n",
    "\n",
    "        self.maxdistance = airplane.maxdist\n",
    "\n",
    "    def add_node(self, value):\n",
    "        self.nodes.add(value)\n",
    "\n",
    "    def add_edge(self, from_node, to_node, distance):\n",
    "        firstdict={}\n",
    "        seconddict={}\n",
    "        if distance <= self.maxdistance:\n",
    "            self.edges[from_node].append(to_node)\n",
    "            self.edges[to_node].append(from_node)\n",
    "\n",
    "            firstdict[to_node]=distance\n",
    "            seconddict[from_node]=distance\n",
    "            if to_node in self.distances:\n",
    "                self.distances[to_node].update(seconddict)\n",
    "            else:\n",
    "                self.distances[to_node]=seconddict\n",
    "            if from_node in self.distances:\n",
    "                self.distances[from_node].update(firstdict)\n",
    "            else:\n",
    "                self.distances[from_node]=firstdict"
   ]
  },
  {
   "cell_type": "code",
   "execution_count": 348,
   "metadata": {
    "scrolled": true
   },
   "outputs": [
    {
     "name": "stdout",
     "output_type": "stream",
     "text": [
      "{'Moscow', 'Dublin', 'London', 'Athens', 'Madrid'}\n",
      "6\n"
     ]
    }
   ],
   "source": [
    "mygraph = Graph(myjumbo)\n",
    "mygraph.add_node('Dublin')\n",
    "mygraph.add_node('London')\n",
    "mygraph.add_node('Moscow')\n",
    "mygraph.add_node('Athens')\n",
    "mygraph.add_node('Madrid')\n",
    "print(mygraph.nodes)\n",
    "print(mygraph.maxdistance)\n"
   ]
  },
  {
   "cell_type": "code",
   "execution_count": 349,
   "metadata": {
    "scrolled": true
   },
   "outputs": [],
   "source": [
    "mygraph.add_edge('Dublin', 'London', 2)\n",
    "mygraph.add_edge('Dublin', 'Moscow', 8)\n",
    "mygraph.add_edge('Dublin', 'Athens', 7)\n",
    "mygraph.add_edge('Dublin', 'Madrid', 6)\n",
    "mygraph.add_edge('London', 'Athens', 4)\n",
    "mygraph.add_edge('London', 'Moscow', 5)\n",
    "mygraph.add_edge('London', 'Madrid', 2)\n",
    "mygraph.add_edge('Athens', 'Moscow', 3)\n",
    "mygraph.add_edge('Athens', 'Madrid', 4)\n",
    "mygraph.add_edge('Moscow', 'Madrid', 9)"
   ]
  },
  {
   "cell_type": "code",
   "execution_count": 350,
   "metadata": {
    "scrolled": true
   },
   "outputs": [
    {
     "data": {
      "text/plain": [
       "defaultdict(list,\n",
       "            {'Dublin': ['London', 'Madrid'],\n",
       "             'London': ['Dublin', 'Athens', 'Moscow', 'Madrid'],\n",
       "             'Madrid': ['Dublin', 'London', 'Athens'],\n",
       "             'Athens': ['London', 'Moscow', 'Madrid'],\n",
       "             'Moscow': ['London', 'Athens']})"
      ]
     },
     "execution_count": 350,
     "metadata": {},
     "output_type": "execute_result"
    }
   ],
   "source": [
    "mygraph.edges"
   ]
  },
  {
   "cell_type": "code",
   "execution_count": 351,
   "metadata": {
    "scrolled": true
   },
   "outputs": [
    {
     "data": {
      "text/plain": [
       "{'London': {'Dublin': 2, 'Athens': 4, 'Moscow': 5, 'Madrid': 2},\n",
       " 'Dublin': {'London': 2, 'Madrid': 6},\n",
       " 'Madrid': {'Dublin': 6, 'London': 2, 'Athens': 4},\n",
       " 'Athens': {'London': 4, 'Moscow': 3, 'Madrid': 4},\n",
       " 'Moscow': {'London': 5, 'Athens': 3}}"
      ]
     },
     "execution_count": 351,
     "metadata": {},
     "output_type": "execute_result"
    }
   ],
   "source": [
    "mygraph.distances"
   ]
  },
  {
   "cell_type": "markdown",
   "metadata": {},
   "source": [
    "this is a cost graph, we will use a function in our final answer"
   ]
  },
  {
   "cell_type": "code",
   "execution_count": 352,
   "metadata": {},
   "outputs": [],
   "source": [
    "costgraph = {'London': {'Dublin': 5, 'Athens': 3, 'Moscow': 11, 'Madrid': 12},\n",
    " 'Dublin': {'London': 2, 'Moscow': 8, 'Athens': 7, 'Madrid': 6},\n",
    " 'Moscow': {'Dublin': 9, 'London': 8, 'Athens': 2, 'Madrid': 4},\n",
    " 'Athens': {'Dublin': 7, 'London': 3, 'Moscow': 11, 'Madrid': 5},\n",
    " 'Madrid': {'Dublin': 9, 'London': 3, 'Athens': 6, 'Moscow': 8}}"
   ]
  },
  {
   "cell_type": "code",
   "execution_count": null,
   "metadata": {},
   "outputs": [],
   "source": []
  },
  {
   "cell_type": "code",
   "execution_count": null,
   "metadata": {
    "scrolled": true
   },
   "outputs": [],
   "source": [
    "\n",
    "        "
   ]
  },
  {
   "cell_type": "markdown",
   "metadata": {},
   "source": [
    "Draft history object"
   ]
  },
  {
   "cell_type": "code",
   "execution_count": 353,
   "metadata": {
    "scrolled": true
   },
   "outputs": [],
   "source": [
    "class History:\n",
    "\n",
    "    def __init__(self, home, flightlist, costgraph):\n",
    "        self.visited = set()\n",
    "        self.visited1 = set()\n",
    "        self.home = home\n",
    "        self.start = home\n",
    "        self.flightlist = flightlist\n",
    "#         self.flightlist=self.getlist(self.myflightlist, self.start)\n",
    "        self.accum = 24\n",
    "        self.route=[]\n",
    "        self.nextnode=\"\"\n",
    "        self.costgraph=costgraph\n",
    "#         self.distances = self.distances(home,flightlist)\n",
    "    \n",
    "#     def getlist(self, flist, start):\n",
    "#         self.mylist = flist\n",
    "#         self.start = start\n",
    "#         flist.remove(start)\n",
    "#         return flist\n",
    "\n"
   ]
  },
  {
   "cell_type": "code",
   "execution_count": 354,
   "metadata": {
    "scrolled": true
   },
   "outputs": [],
   "source": [
    "a = History('Dublin',['Dublin', 'London', 'Berlin', 'Madrid', 'Rome'], costgraph)"
   ]
  },
  {
   "cell_type": "code",
   "execution_count": null,
   "metadata": {},
   "outputs": [],
   "source": []
  },
  {
   "cell_type": "markdown",
   "metadata": {},
   "source": [
    "the original function we used to get all possible pathways. In our solution, we only want to generate the best route; but we have to try them all"
   ]
  },
  {
   "cell_type": "code",
   "execution_count": 355,
   "metadata": {
    "scrolled": true
   },
   "outputs": [],
   "source": [
    "def find_all_paths(graph, start, path=[]):\n",
    "    path = path + [start]\n",
    "    paths = []\n",
    "   \n",
    "    if len(path)>=len(graph):\n",
    "        return [path]\n",
    "    \n",
    "    for node in graph[start]:\n",
    "#         if node not in path:\n",
    "        newpaths = find_all_paths(graph, node, path)\n",
    "        for newpath in newpaths:\n",
    "#                 print(\"newpath\", newpath)\n",
    "            if len(newpath)>=len(graph):\n",
    "                paths.append(newpath)\n",
    "    return paths"
   ]
  },
  {
   "cell_type": "code",
   "execution_count": 356,
   "metadata": {
    "scrolled": false
   },
   "outputs": [
    {
     "name": "stdout",
     "output_type": "stream",
     "text": [
      "[['Dublin', 'London', 'Dublin', 'London', 'Dublin'], ['Dublin', 'London', 'Dublin', 'London', 'Athens'], ['Dublin', 'London', 'Dublin', 'London', 'Moscow'], ['Dublin', 'London', 'Dublin', 'London', 'Madrid'], ['Dublin', 'London', 'Dublin', 'Madrid', 'Dublin'], ['Dublin', 'London', 'Dublin', 'Madrid', 'London'], ['Dublin', 'London', 'Dublin', 'Madrid', 'Athens'], ['Dublin', 'London', 'Athens', 'London', 'Dublin'], ['Dublin', 'London', 'Athens', 'London', 'Athens'], ['Dublin', 'London', 'Athens', 'London', 'Moscow'], ['Dublin', 'London', 'Athens', 'London', 'Madrid'], ['Dublin', 'London', 'Athens', 'Moscow', 'London'], ['Dublin', 'London', 'Athens', 'Moscow', 'Athens'], ['Dublin', 'London', 'Athens', 'Madrid', 'Dublin'], ['Dublin', 'London', 'Athens', 'Madrid', 'London'], ['Dublin', 'London', 'Athens', 'Madrid', 'Athens'], ['Dublin', 'London', 'Moscow', 'London', 'Dublin'], ['Dublin', 'London', 'Moscow', 'London', 'Athens'], ['Dublin', 'London', 'Moscow', 'London', 'Moscow'], ['Dublin', 'London', 'Moscow', 'London', 'Madrid'], ['Dublin', 'London', 'Moscow', 'Athens', 'London'], ['Dublin', 'London', 'Moscow', 'Athens', 'Moscow'], ['Dublin', 'London', 'Moscow', 'Athens', 'Madrid'], ['Dublin', 'London', 'Madrid', 'Dublin', 'London'], ['Dublin', 'London', 'Madrid', 'Dublin', 'Madrid'], ['Dublin', 'London', 'Madrid', 'London', 'Dublin'], ['Dublin', 'London', 'Madrid', 'London', 'Athens'], ['Dublin', 'London', 'Madrid', 'London', 'Moscow'], ['Dublin', 'London', 'Madrid', 'London', 'Madrid'], ['Dublin', 'London', 'Madrid', 'Athens', 'London'], ['Dublin', 'London', 'Madrid', 'Athens', 'Moscow'], ['Dublin', 'London', 'Madrid', 'Athens', 'Madrid'], ['Dublin', 'Madrid', 'Dublin', 'London', 'Dublin'], ['Dublin', 'Madrid', 'Dublin', 'London', 'Athens'], ['Dublin', 'Madrid', 'Dublin', 'London', 'Moscow'], ['Dublin', 'Madrid', 'Dublin', 'London', 'Madrid'], ['Dublin', 'Madrid', 'Dublin', 'Madrid', 'Dublin'], ['Dublin', 'Madrid', 'Dublin', 'Madrid', 'London'], ['Dublin', 'Madrid', 'Dublin', 'Madrid', 'Athens'], ['Dublin', 'Madrid', 'London', 'Dublin', 'London'], ['Dublin', 'Madrid', 'London', 'Dublin', 'Madrid'], ['Dublin', 'Madrid', 'London', 'Athens', 'London'], ['Dublin', 'Madrid', 'London', 'Athens', 'Moscow'], ['Dublin', 'Madrid', 'London', 'Athens', 'Madrid'], ['Dublin', 'Madrid', 'London', 'Moscow', 'London'], ['Dublin', 'Madrid', 'London', 'Moscow', 'Athens'], ['Dublin', 'Madrid', 'London', 'Madrid', 'Dublin'], ['Dublin', 'Madrid', 'London', 'Madrid', 'London'], ['Dublin', 'Madrid', 'London', 'Madrid', 'Athens'], ['Dublin', 'Madrid', 'Athens', 'London', 'Dublin'], ['Dublin', 'Madrid', 'Athens', 'London', 'Athens'], ['Dublin', 'Madrid', 'Athens', 'London', 'Moscow'], ['Dublin', 'Madrid', 'Athens', 'London', 'Madrid'], ['Dublin', 'Madrid', 'Athens', 'Moscow', 'London'], ['Dublin', 'Madrid', 'Athens', 'Moscow', 'Athens'], ['Dublin', 'Madrid', 'Athens', 'Madrid', 'Dublin'], ['Dublin', 'Madrid', 'Athens', 'Madrid', 'London'], ['Dublin', 'Madrid', 'Athens', 'Madrid', 'Athens']]\n"
     ]
    }
   ],
   "source": [
    "mylist=find_all_paths(mygraph.distances, 'Dublin')\n",
    "print(mylist)"
   ]
  },
  {
   "cell_type": "code",
   "execution_count": 357,
   "metadata": {
    "scrolled": true
   },
   "outputs": [
    {
     "data": {
      "text/plain": [
       "['Dublin', 'London', 'Berlin', 'Madrid', 'Rome']"
      ]
     },
     "execution_count": 357,
     "metadata": {},
     "output_type": "execute_result"
    }
   ],
   "source": [
    "a.flightlist"
   ]
  },
  {
   "cell_type": "code",
   "execution_count": null,
   "metadata": {
    "scrolled": true
   },
   "outputs": [],
   "source": []
  },
  {
   "cell_type": "markdown",
   "metadata": {},
   "source": [
    "To get the cost, we will use a different function in our final answer (this was easy for now)"
   ]
  },
  {
   "cell_type": "code",
   "execution_count": 358,
   "metadata": {
    "scrolled": true
   },
   "outputs": [],
   "source": [
    "def getcost(node1, node2, graph):\n",
    "    return(graph[node1][node2])\n",
    "    \n",
    "    "
   ]
  },
  {
   "cell_type": "code",
   "execution_count": 359,
   "metadata": {},
   "outputs": [
    {
     "data": {
      "text/plain": [
       "6"
      ]
     },
     "execution_count": 359,
     "metadata": {},
     "output_type": "execute_result"
    }
   ],
   "source": [
    "getcost('Dublin', 'Madrid', mygraph.distances)"
   ]
  },
  {
   "cell_type": "code",
   "execution_count": null,
   "metadata": {},
   "outputs": [],
   "source": []
  },
  {
   "cell_type": "code",
   "execution_count": null,
   "metadata": {},
   "outputs": [],
   "source": []
  },
  {
   "cell_type": "markdown",
   "metadata": {},
   "source": [
    "Draft answer function"
   ]
  },
  {
   "cell_type": "code",
   "execution_count": 360,
   "metadata": {
    "scrolled": true
   },
   "outputs": [],
   "source": [
    "def Routechecker(graph, history, n=0, route=[0], count=0):\n",
    "#     add this airport to visited set (and visited1)\n",
    "    history.visited.add(history.start)\n",
    "    history.visited1.add(history.start)\n",
    "    print(\"history.accum \", history.accum)\n",
    "    print(\"count is \", count)\n",
    "\n",
    "#     where does this line go?\n",
    "#     while count < history.accum:\n",
    "\n",
    "#     if you have visited everywhere on the flightlist\n",
    "    if len(history.visited1)==len(history.flightlist):\n",
    "#         remove this last node from flightlist and visited... but will these be reset?\n",
    "        history.flightlist.remove(history.start)\n",
    "        history.visited1.remove(history.start)\n",
    "#         add the cost of the flight back to home\n",
    "        thiscost = getcost(history.start, history.home, history.costgraph)\n",
    "        count+=thiscost\n",
    "        \n",
    "#         the next node is this node\n",
    "        route[n+1]=history.start\n",
    "        print(\"n+1 is: \", n+1)\n",
    "        \n",
    "#         the last node is the home node\n",
    "        route.append(0)\n",
    "        route[n+2]=(history.home)\n",
    "        n+=1\n",
    "\n",
    "#         return this node\n",
    "        return history.start\n",
    "    else:\n",
    "        \n",
    "        for node in graph[history.start]:\n",
    "            if node not in history.visited:\n",
    "#                 add an extra space to the route list\n",
    "                route.append(0)\n",
    "                route[n]=history.start\n",
    "                thiscost = getcost(history.start, node, history.costgraph)\n",
    "                print(\"the cost is\", thiscost)\n",
    "                count+=thiscost\n",
    "                history.start=node\n",
    "                print(\"the next node to visit is: \", history.start)\n",
    "#                 print(\"route is\", route)\n",
    "                print(\"n is: \", n)\n",
    "                print(\"___________________________\")\n",
    "\n",
    "                history.nextnode=Routechecker(graph, history, n+1, route, count)\n",
    "                \n",
    "    return route, count\n",
    "        \n",
    "\n",
    "    "
   ]
  },
  {
   "cell_type": "code",
   "execution_count": 361,
   "metadata": {
    "scrolled": true
   },
   "outputs": [
    {
     "name": "stdout",
     "output_type": "stream",
     "text": [
      "history.accum  24\n",
      "count is  0\n",
      "the cost is 2\n",
      "the next node to visit is:  London\n",
      "n is:  0\n",
      "___________________________\n",
      "history.accum  24\n",
      "count is  2\n",
      "the cost is 3\n",
      "the next node to visit is:  Athens\n",
      "n is:  1\n",
      "___________________________\n",
      "history.accum  24\n",
      "count is  5\n",
      "the cost is 11\n",
      "the next node to visit is:  Moscow\n",
      "n is:  2\n",
      "___________________________\n",
      "history.accum  24\n",
      "count is  16\n",
      "the cost is 4\n",
      "the next node to visit is:  Madrid\n",
      "n is:  2\n",
      "___________________________\n",
      "history.accum  24\n",
      "count is  20\n",
      "n+1 is:  4\n"
     ]
    }
   ],
   "source": [
    "b = Routechecker(mygraph.distances, a)"
   ]
  },
  {
   "cell_type": "code",
   "execution_count": 362,
   "metadata": {
    "scrolled": true
   },
   "outputs": [
    {
     "name": "stdout",
     "output_type": "stream",
     "text": [
      "(['Dublin', 'London', 'Moscow', 0, 'Madrid', 'Dublin'], 2)\n"
     ]
    }
   ],
   "source": [
    "print(b)"
   ]
  },
  {
   "cell_type": "code",
   "execution_count": null,
   "metadata": {
    "scrolled": true
   },
   "outputs": [],
   "source": []
  },
  {
   "cell_type": "code",
   "execution_count": null,
   "metadata": {},
   "outputs": [],
   "source": []
  },
  {
   "cell_type": "code",
   "execution_count": null,
   "metadata": {},
   "outputs": [],
   "source": []
  },
  {
   "cell_type": "code",
   "execution_count": null,
   "metadata": {},
   "outputs": [],
   "source": []
  },
  {
   "cell_type": "code",
   "execution_count": null,
   "metadata": {},
   "outputs": [],
   "source": []
  },
  {
   "cell_type": "code",
   "execution_count": null,
   "metadata": {},
   "outputs": [],
   "source": []
  },
  {
   "cell_type": "code",
   "execution_count": null,
   "metadata": {
    "scrolled": true
   },
   "outputs": [],
   "source": []
  },
  {
   "cell_type": "markdown",
   "metadata": {},
   "source": [
    "This is another classic problem in dynamic programming (knapsack problem)"
   ]
  },
  {
   "cell_type": "code",
   "execution_count": null,
   "metadata": {
    "scrolled": true
   },
   "outputs": [],
   "source": [
    "import numpy as np  "
   ]
  },
  {
   "cell_type": "code",
   "execution_count": null,
   "metadata": {
    "scrolled": true
   },
   "outputs": [],
   "source": [
    "def knapsack(W, w, v):  \n",
    "    # create a W x n solution matrix to store the sub-problem results\n",
    "    n = len(v)\n",
    "    S = [[0 for x in range(W)] for k in range(n)]\n",
    "    print(\"s is \", S)\n",
    "    for x in range(1, W):\n",
    "        for k in range(1, n):\n",
    "            # using this notation k is the number of items in the solution and x is the max weight of the solution,\n",
    "            # so the initial assumption is that the optimal solution with k items at weight x is at least as good\n",
    "            # as the optimal solution with k-1 items for the same max weight\n",
    "            S[k][x] = S[k-1][x]\n",
    "            # if the current item weighs less than the max weight and the optimal solution including this item is \n",
    "            # better than the current optimum, the new optimum is the one resulting from including the current item\n",
    "            if w[k] < x and S[k-1][x-w[k]] + v[k] > S[k][x]:\n",
    "                S[k][x] = S[k-1][x-w[k]] + v[k]\n",
    "    return S"
   ]
  },
  {
   "cell_type": "code",
   "execution_count": null,
   "metadata": {
    "scrolled": true
   },
   "outputs": [],
   "source": [
    "w = list(np.random.randint(0, 10, 5))  \n",
    "v = list(np.random.randint(0, 100, 5))  \n",
    "w, v"
   ]
  },
  {
   "cell_type": "code",
   "execution_count": null,
   "metadata": {
    "scrolled": true
   },
   "outputs": [],
   "source": [
    "knapsack(15, w, v)"
   ]
  },
  {
   "cell_type": "code",
   "execution_count": null,
   "metadata": {
    "scrolled": true
   },
   "outputs": [],
   "source": []
  }
 ],
 "metadata": {
  "kernelspec": {
   "display_name": "Python 3",
   "language": "python",
   "name": "python3"
  },
  "language_info": {
   "codemirror_mode": {
    "name": "ipython",
    "version": 3
   },
   "file_extension": ".py",
   "mimetype": "text/x-python",
   "name": "python",
   "nbconvert_exporter": "python",
   "pygments_lexer": "ipython3",
   "version": "3.7.2"
  }
 },
 "nbformat": 4,
 "nbformat_minor": 2
}
