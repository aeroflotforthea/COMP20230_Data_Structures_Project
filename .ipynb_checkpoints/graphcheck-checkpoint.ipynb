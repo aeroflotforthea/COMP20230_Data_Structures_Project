{
 "cells": [
  {
   "cell_type": "code",
   "execution_count": 1,
   "metadata": {
    "scrolled": true
   },
   "outputs": [],
   "source": [
    "# Python program for  \n",
    "# validation of a graph \n",
    "  \n",
    "# import dictionary for graph \n",
    "from collections import defaultdict"
   ]
  },
  {
   "cell_type": "markdown",
   "metadata": {},
   "source": [
    "To make a graph, add edges"
   ]
  },
  {
   "cell_type": "code",
   "execution_count": 2,
   "metadata": {
    "scrolled": true
   },
   "outputs": [],
   "source": [
    "# function for adding edge to graph \n",
    "graph = defaultdict(list) \n",
    "\n",
    "def addEdge(graph,u,v): \n",
    "    graph[u].append(v) \n",
    "  \n",
    "# definition of function \n",
    "def generate_edges(graph): \n",
    "    edges = [] \n",
    "  \n",
    "    # for each node in graph \n",
    "    for node in graph: \n",
    "          \n",
    "        # for each neighbour node of a single node \n",
    "        for neighbour in graph[node]: \n",
    "              \n",
    "            # if edge exists then append \n",
    "            edges.append((node, neighbour)) \n",
    "    return edges "
   ]
  },
  {
   "cell_type": "code",
   "execution_count": 3,
   "metadata": {
    "scrolled": true
   },
   "outputs": [
    {
     "name": "stdout",
     "output_type": "stream",
     "text": [
      "[('Dublin', 'London'), ('Madrid', 'London'), ('Madrid', 'Rome'), ('London', 'Berlin'), ('London', 'Rome'), ('London', 'Dublin'), ('London', 'Madrid'), ('Rome', 'Madrid'), ('Rome', 'London'), ('Berlin', 'London')]\n"
     ]
    }
   ],
   "source": [
    "addEdge(graph,'Dublin','London') \n",
    "addEdge(graph,'Madrid','London') \n",
    "addEdge(graph,'Madrid','Rome') \n",
    "addEdge(graph,'London','Berlin') \n",
    "addEdge(graph,'London','Rome') \n",
    "addEdge(graph,'London','Dublin') \n",
    "addEdge(graph,'London','Madrid') \n",
    "addEdge(graph,'Rome','Madrid') \n",
    "addEdge(graph,'Berlin','London') \n",
    "addEdge(graph,'Rome','London') \n",
    "\n",
    "# Driver Function call  \n",
    "# to print generated graph \n",
    "print(generate_edges(graph)) "
   ]
  },
  {
   "cell_type": "code",
   "execution_count": null,
   "metadata": {},
   "outputs": [],
   "source": []
  },
  {
   "cell_type": "code",
   "execution_count": null,
   "metadata": {
    "scrolled": true
   },
   "outputs": [],
   "source": []
  },
  {
   "cell_type": "markdown",
   "metadata": {},
   "source": [
    "TO build the initial dictionary:"
   ]
  },
  {
   "cell_type": "markdown",
   "metadata": {},
   "source": [
    "import from csv\n",
    "get all airport names from containing data structure\n",
    "initialise empty dictionary\n",
    "for every airport, add to dictionary:\n",
    "    key: 1 airport name\n",
    "    value: list of all airports, minus our 1 airport name"
   ]
  },
  {
   "cell_type": "code",
   "execution_count": null,
   "metadata": {
    "scrolled": true
   },
   "outputs": [],
   "source": []
  },
  {
   "cell_type": "code",
   "execution_count": null,
   "metadata": {
    "scrolled": true
   },
   "outputs": [],
   "source": []
  },
  {
   "cell_type": "code",
   "execution_count": null,
   "metadata": {
    "scrolled": true
   },
   "outputs": [],
   "source": []
  },
  {
   "cell_type": "code",
   "execution_count": null,
   "metadata": {
    "scrolled": true
   },
   "outputs": [],
   "source": []
  },
  {
   "cell_type": "code",
   "execution_count": null,
   "metadata": {
    "scrolled": true
   },
   "outputs": [],
   "source": []
  },
  {
   "cell_type": "code",
   "execution_count": null,
   "metadata": {
    "scrolled": true
   },
   "outputs": [],
   "source": []
  },
  {
   "cell_type": "code",
   "execution_count": 26,
   "metadata": {
    "scrolled": true
   },
   "outputs": [],
   "source": [
    "graph ={ \n",
    "'Dublin':['London', 'Berlin', 'Madrid', 'Rome'], \n",
    "'Madrid':['London', 'Berlin', 'Dublin', 'Rome'], \n",
    "'London':['Rome', 'Berlin', 'Madrid', 'Dublin'], \n",
    "'Berlin':['London', 'Dublin', 'Madrid', 'Rome'], \n",
    "'Rome':['London', 'Berlin', 'Madrid', 'Dublin'] \n",
    "}"
   ]
  },
  {
   "cell_type": "code",
   "execution_count": null,
   "metadata": {
    "scrolled": true
   },
   "outputs": [],
   "source": []
  },
  {
   "cell_type": "code",
   "execution_count": null,
   "metadata": {
    "scrolled": true
   },
   "outputs": [],
   "source": []
  },
  {
   "cell_type": "code",
   "execution_count": 27,
   "metadata": {
    "scrolled": true
   },
   "outputs": [],
   "source": [
    "def find_all_paths(graph, start, path=[]):\n",
    "    path = path + [start]\n",
    "    paths = []\n",
    "   \n",
    "    if len(path)==len(graph):\n",
    "        return [path]\n",
    "    \n",
    "    for node in graph[start]:\n",
    "#         if node not in path:\n",
    "        newpaths = find_all_paths(graph, node, path)\n",
    "        for newpath in newpaths:\n",
    "#                 print(\"newpath\", newpath)\n",
    "            if len(newpath)>=len(graph):\n",
    "                paths.append(newpath)\n",
    "    return paths"
   ]
  },
  {
   "cell_type": "code",
   "execution_count": 28,
   "metadata": {
    "scrolled": true
   },
   "outputs": [
    {
     "name": "stdout",
     "output_type": "stream",
     "text": [
      "[['Dublin', 'London', 'Rome', 'London', 'Rome'], ['Dublin', 'London', 'Rome', 'London', 'Berlin'], ['Dublin', 'London', 'Rome', 'London', 'Madrid'], ['Dublin', 'London', 'Rome', 'London', 'Dublin'], ['Dublin', 'London', 'Rome', 'Berlin', 'London'], ['Dublin', 'London', 'Rome', 'Berlin', 'Dublin'], ['Dublin', 'London', 'Rome', 'Berlin', 'Madrid'], ['Dublin', 'London', 'Rome', 'Berlin', 'Rome'], ['Dublin', 'London', 'Rome', 'Madrid', 'London'], ['Dublin', 'London', 'Rome', 'Madrid', 'Berlin'], ['Dublin', 'London', 'Rome', 'Madrid', 'Dublin'], ['Dublin', 'London', 'Rome', 'Madrid', 'Rome'], ['Dublin', 'London', 'Rome', 'Dublin', 'London'], ['Dublin', 'London', 'Rome', 'Dublin', 'Berlin'], ['Dublin', 'London', 'Rome', 'Dublin', 'Madrid'], ['Dublin', 'London', 'Rome', 'Dublin', 'Rome'], ['Dublin', 'London', 'Berlin', 'London', 'Rome'], ['Dublin', 'London', 'Berlin', 'London', 'Berlin'], ['Dublin', 'London', 'Berlin', 'London', 'Madrid'], ['Dublin', 'London', 'Berlin', 'London', 'Dublin'], ['Dublin', 'London', 'Berlin', 'Dublin', 'London'], ['Dublin', 'London', 'Berlin', 'Dublin', 'Berlin'], ['Dublin', 'London', 'Berlin', 'Dublin', 'Madrid'], ['Dublin', 'London', 'Berlin', 'Dublin', 'Rome'], ['Dublin', 'London', 'Berlin', 'Madrid', 'London'], ['Dublin', 'London', 'Berlin', 'Madrid', 'Berlin'], ['Dublin', 'London', 'Berlin', 'Madrid', 'Dublin'], ['Dublin', 'London', 'Berlin', 'Madrid', 'Rome'], ['Dublin', 'London', 'Berlin', 'Rome', 'London'], ['Dublin', 'London', 'Berlin', 'Rome', 'Berlin'], ['Dublin', 'London', 'Berlin', 'Rome', 'Madrid'], ['Dublin', 'London', 'Berlin', 'Rome', 'Dublin'], ['Dublin', 'London', 'Madrid', 'London', 'Rome'], ['Dublin', 'London', 'Madrid', 'London', 'Berlin'], ['Dublin', 'London', 'Madrid', 'London', 'Madrid'], ['Dublin', 'London', 'Madrid', 'London', 'Dublin'], ['Dublin', 'London', 'Madrid', 'Berlin', 'London'], ['Dublin', 'London', 'Madrid', 'Berlin', 'Dublin'], ['Dublin', 'London', 'Madrid', 'Berlin', 'Madrid'], ['Dublin', 'London', 'Madrid', 'Berlin', 'Rome'], ['Dublin', 'London', 'Madrid', 'Dublin', 'London'], ['Dublin', 'London', 'Madrid', 'Dublin', 'Berlin'], ['Dublin', 'London', 'Madrid', 'Dublin', 'Madrid'], ['Dublin', 'London', 'Madrid', 'Dublin', 'Rome'], ['Dublin', 'London', 'Madrid', 'Rome', 'London'], ['Dublin', 'London', 'Madrid', 'Rome', 'Berlin'], ['Dublin', 'London', 'Madrid', 'Rome', 'Madrid'], ['Dublin', 'London', 'Madrid', 'Rome', 'Dublin'], ['Dublin', 'London', 'Dublin', 'London', 'Rome'], ['Dublin', 'London', 'Dublin', 'London', 'Berlin'], ['Dublin', 'London', 'Dublin', 'London', 'Madrid'], ['Dublin', 'London', 'Dublin', 'London', 'Dublin'], ['Dublin', 'London', 'Dublin', 'Berlin', 'London'], ['Dublin', 'London', 'Dublin', 'Berlin', 'Dublin'], ['Dublin', 'London', 'Dublin', 'Berlin', 'Madrid'], ['Dublin', 'London', 'Dublin', 'Berlin', 'Rome'], ['Dublin', 'London', 'Dublin', 'Madrid', 'London'], ['Dublin', 'London', 'Dublin', 'Madrid', 'Berlin'], ['Dublin', 'London', 'Dublin', 'Madrid', 'Dublin'], ['Dublin', 'London', 'Dublin', 'Madrid', 'Rome'], ['Dublin', 'London', 'Dublin', 'Rome', 'London'], ['Dublin', 'London', 'Dublin', 'Rome', 'Berlin'], ['Dublin', 'London', 'Dublin', 'Rome', 'Madrid'], ['Dublin', 'London', 'Dublin', 'Rome', 'Dublin'], ['Dublin', 'Berlin', 'London', 'Rome', 'London'], ['Dublin', 'Berlin', 'London', 'Rome', 'Berlin'], ['Dublin', 'Berlin', 'London', 'Rome', 'Madrid'], ['Dublin', 'Berlin', 'London', 'Rome', 'Dublin'], ['Dublin', 'Berlin', 'London', 'Berlin', 'London'], ['Dublin', 'Berlin', 'London', 'Berlin', 'Dublin'], ['Dublin', 'Berlin', 'London', 'Berlin', 'Madrid'], ['Dublin', 'Berlin', 'London', 'Berlin', 'Rome'], ['Dublin', 'Berlin', 'London', 'Madrid', 'London'], ['Dublin', 'Berlin', 'London', 'Madrid', 'Berlin'], ['Dublin', 'Berlin', 'London', 'Madrid', 'Dublin'], ['Dublin', 'Berlin', 'London', 'Madrid', 'Rome'], ['Dublin', 'Berlin', 'London', 'Dublin', 'London'], ['Dublin', 'Berlin', 'London', 'Dublin', 'Berlin'], ['Dublin', 'Berlin', 'London', 'Dublin', 'Madrid'], ['Dublin', 'Berlin', 'London', 'Dublin', 'Rome'], ['Dublin', 'Berlin', 'Dublin', 'London', 'Rome'], ['Dublin', 'Berlin', 'Dublin', 'London', 'Berlin'], ['Dublin', 'Berlin', 'Dublin', 'London', 'Madrid'], ['Dublin', 'Berlin', 'Dublin', 'London', 'Dublin'], ['Dublin', 'Berlin', 'Dublin', 'Berlin', 'London'], ['Dublin', 'Berlin', 'Dublin', 'Berlin', 'Dublin'], ['Dublin', 'Berlin', 'Dublin', 'Berlin', 'Madrid'], ['Dublin', 'Berlin', 'Dublin', 'Berlin', 'Rome'], ['Dublin', 'Berlin', 'Dublin', 'Madrid', 'London'], ['Dublin', 'Berlin', 'Dublin', 'Madrid', 'Berlin'], ['Dublin', 'Berlin', 'Dublin', 'Madrid', 'Dublin'], ['Dublin', 'Berlin', 'Dublin', 'Madrid', 'Rome'], ['Dublin', 'Berlin', 'Dublin', 'Rome', 'London'], ['Dublin', 'Berlin', 'Dublin', 'Rome', 'Berlin'], ['Dublin', 'Berlin', 'Dublin', 'Rome', 'Madrid'], ['Dublin', 'Berlin', 'Dublin', 'Rome', 'Dublin'], ['Dublin', 'Berlin', 'Madrid', 'London', 'Rome'], ['Dublin', 'Berlin', 'Madrid', 'London', 'Berlin'], ['Dublin', 'Berlin', 'Madrid', 'London', 'Madrid'], ['Dublin', 'Berlin', 'Madrid', 'London', 'Dublin'], ['Dublin', 'Berlin', 'Madrid', 'Berlin', 'London'], ['Dublin', 'Berlin', 'Madrid', 'Berlin', 'Dublin'], ['Dublin', 'Berlin', 'Madrid', 'Berlin', 'Madrid'], ['Dublin', 'Berlin', 'Madrid', 'Berlin', 'Rome'], ['Dublin', 'Berlin', 'Madrid', 'Dublin', 'London'], ['Dublin', 'Berlin', 'Madrid', 'Dublin', 'Berlin'], ['Dublin', 'Berlin', 'Madrid', 'Dublin', 'Madrid'], ['Dublin', 'Berlin', 'Madrid', 'Dublin', 'Rome'], ['Dublin', 'Berlin', 'Madrid', 'Rome', 'London'], ['Dublin', 'Berlin', 'Madrid', 'Rome', 'Berlin'], ['Dublin', 'Berlin', 'Madrid', 'Rome', 'Madrid'], ['Dublin', 'Berlin', 'Madrid', 'Rome', 'Dublin'], ['Dublin', 'Berlin', 'Rome', 'London', 'Rome'], ['Dublin', 'Berlin', 'Rome', 'London', 'Berlin'], ['Dublin', 'Berlin', 'Rome', 'London', 'Madrid'], ['Dublin', 'Berlin', 'Rome', 'London', 'Dublin'], ['Dublin', 'Berlin', 'Rome', 'Berlin', 'London'], ['Dublin', 'Berlin', 'Rome', 'Berlin', 'Dublin'], ['Dublin', 'Berlin', 'Rome', 'Berlin', 'Madrid'], ['Dublin', 'Berlin', 'Rome', 'Berlin', 'Rome'], ['Dublin', 'Berlin', 'Rome', 'Madrid', 'London'], ['Dublin', 'Berlin', 'Rome', 'Madrid', 'Berlin'], ['Dublin', 'Berlin', 'Rome', 'Madrid', 'Dublin'], ['Dublin', 'Berlin', 'Rome', 'Madrid', 'Rome'], ['Dublin', 'Berlin', 'Rome', 'Dublin', 'London'], ['Dublin', 'Berlin', 'Rome', 'Dublin', 'Berlin'], ['Dublin', 'Berlin', 'Rome', 'Dublin', 'Madrid'], ['Dublin', 'Berlin', 'Rome', 'Dublin', 'Rome'], ['Dublin', 'Madrid', 'London', 'Rome', 'London'], ['Dublin', 'Madrid', 'London', 'Rome', 'Berlin'], ['Dublin', 'Madrid', 'London', 'Rome', 'Madrid'], ['Dublin', 'Madrid', 'London', 'Rome', 'Dublin'], ['Dublin', 'Madrid', 'London', 'Berlin', 'London'], ['Dublin', 'Madrid', 'London', 'Berlin', 'Dublin'], ['Dublin', 'Madrid', 'London', 'Berlin', 'Madrid'], ['Dublin', 'Madrid', 'London', 'Berlin', 'Rome'], ['Dublin', 'Madrid', 'London', 'Madrid', 'London'], ['Dublin', 'Madrid', 'London', 'Madrid', 'Berlin'], ['Dublin', 'Madrid', 'London', 'Madrid', 'Dublin'], ['Dublin', 'Madrid', 'London', 'Madrid', 'Rome'], ['Dublin', 'Madrid', 'London', 'Dublin', 'London'], ['Dublin', 'Madrid', 'London', 'Dublin', 'Berlin'], ['Dublin', 'Madrid', 'London', 'Dublin', 'Madrid'], ['Dublin', 'Madrid', 'London', 'Dublin', 'Rome'], ['Dublin', 'Madrid', 'Berlin', 'London', 'Rome'], ['Dublin', 'Madrid', 'Berlin', 'London', 'Berlin'], ['Dublin', 'Madrid', 'Berlin', 'London', 'Madrid'], ['Dublin', 'Madrid', 'Berlin', 'London', 'Dublin'], ['Dublin', 'Madrid', 'Berlin', 'Dublin', 'London'], ['Dublin', 'Madrid', 'Berlin', 'Dublin', 'Berlin'], ['Dublin', 'Madrid', 'Berlin', 'Dublin', 'Madrid'], ['Dublin', 'Madrid', 'Berlin', 'Dublin', 'Rome'], ['Dublin', 'Madrid', 'Berlin', 'Madrid', 'London'], ['Dublin', 'Madrid', 'Berlin', 'Madrid', 'Berlin'], ['Dublin', 'Madrid', 'Berlin', 'Madrid', 'Dublin'], ['Dublin', 'Madrid', 'Berlin', 'Madrid', 'Rome'], ['Dublin', 'Madrid', 'Berlin', 'Rome', 'London'], ['Dublin', 'Madrid', 'Berlin', 'Rome', 'Berlin'], ['Dublin', 'Madrid', 'Berlin', 'Rome', 'Madrid'], ['Dublin', 'Madrid', 'Berlin', 'Rome', 'Dublin'], ['Dublin', 'Madrid', 'Dublin', 'London', 'Rome'], ['Dublin', 'Madrid', 'Dublin', 'London', 'Berlin'], ['Dublin', 'Madrid', 'Dublin', 'London', 'Madrid'], ['Dublin', 'Madrid', 'Dublin', 'London', 'Dublin'], ['Dublin', 'Madrid', 'Dublin', 'Berlin', 'London'], ['Dublin', 'Madrid', 'Dublin', 'Berlin', 'Dublin'], ['Dublin', 'Madrid', 'Dublin', 'Berlin', 'Madrid'], ['Dublin', 'Madrid', 'Dublin', 'Berlin', 'Rome'], ['Dublin', 'Madrid', 'Dublin', 'Madrid', 'London'], ['Dublin', 'Madrid', 'Dublin', 'Madrid', 'Berlin'], ['Dublin', 'Madrid', 'Dublin', 'Madrid', 'Dublin'], ['Dublin', 'Madrid', 'Dublin', 'Madrid', 'Rome'], ['Dublin', 'Madrid', 'Dublin', 'Rome', 'London'], ['Dublin', 'Madrid', 'Dublin', 'Rome', 'Berlin'], ['Dublin', 'Madrid', 'Dublin', 'Rome', 'Madrid'], ['Dublin', 'Madrid', 'Dublin', 'Rome', 'Dublin'], ['Dublin', 'Madrid', 'Rome', 'London', 'Rome'], ['Dublin', 'Madrid', 'Rome', 'London', 'Berlin'], ['Dublin', 'Madrid', 'Rome', 'London', 'Madrid'], ['Dublin', 'Madrid', 'Rome', 'London', 'Dublin'], ['Dublin', 'Madrid', 'Rome', 'Berlin', 'London'], ['Dublin', 'Madrid', 'Rome', 'Berlin', 'Dublin'], ['Dublin', 'Madrid', 'Rome', 'Berlin', 'Madrid'], ['Dublin', 'Madrid', 'Rome', 'Berlin', 'Rome'], ['Dublin', 'Madrid', 'Rome', 'Madrid', 'London'], ['Dublin', 'Madrid', 'Rome', 'Madrid', 'Berlin'], ['Dublin', 'Madrid', 'Rome', 'Madrid', 'Dublin'], ['Dublin', 'Madrid', 'Rome', 'Madrid', 'Rome'], ['Dublin', 'Madrid', 'Rome', 'Dublin', 'London'], ['Dublin', 'Madrid', 'Rome', 'Dublin', 'Berlin'], ['Dublin', 'Madrid', 'Rome', 'Dublin', 'Madrid'], ['Dublin', 'Madrid', 'Rome', 'Dublin', 'Rome'], ['Dublin', 'Rome', 'London', 'Rome', 'London'], ['Dublin', 'Rome', 'London', 'Rome', 'Berlin'], ['Dublin', 'Rome', 'London', 'Rome', 'Madrid'], ['Dublin', 'Rome', 'London', 'Rome', 'Dublin'], ['Dublin', 'Rome', 'London', 'Berlin', 'London'], ['Dublin', 'Rome', 'London', 'Berlin', 'Dublin'], ['Dublin', 'Rome', 'London', 'Berlin', 'Madrid'], ['Dublin', 'Rome', 'London', 'Berlin', 'Rome'], ['Dublin', 'Rome', 'London', 'Madrid', 'London'], ['Dublin', 'Rome', 'London', 'Madrid', 'Berlin'], ['Dublin', 'Rome', 'London', 'Madrid', 'Dublin'], ['Dublin', 'Rome', 'London', 'Madrid', 'Rome'], ['Dublin', 'Rome', 'London', 'Dublin', 'London'], ['Dublin', 'Rome', 'London', 'Dublin', 'Berlin'], ['Dublin', 'Rome', 'London', 'Dublin', 'Madrid'], ['Dublin', 'Rome', 'London', 'Dublin', 'Rome'], ['Dublin', 'Rome', 'Berlin', 'London', 'Rome'], ['Dublin', 'Rome', 'Berlin', 'London', 'Berlin'], ['Dublin', 'Rome', 'Berlin', 'London', 'Madrid'], ['Dublin', 'Rome', 'Berlin', 'London', 'Dublin'], ['Dublin', 'Rome', 'Berlin', 'Dublin', 'London'], ['Dublin', 'Rome', 'Berlin', 'Dublin', 'Berlin'], ['Dublin', 'Rome', 'Berlin', 'Dublin', 'Madrid'], ['Dublin', 'Rome', 'Berlin', 'Dublin', 'Rome'], ['Dublin', 'Rome', 'Berlin', 'Madrid', 'London'], ['Dublin', 'Rome', 'Berlin', 'Madrid', 'Berlin'], ['Dublin', 'Rome', 'Berlin', 'Madrid', 'Dublin'], ['Dublin', 'Rome', 'Berlin', 'Madrid', 'Rome'], ['Dublin', 'Rome', 'Berlin', 'Rome', 'London'], ['Dublin', 'Rome', 'Berlin', 'Rome', 'Berlin'], ['Dublin', 'Rome', 'Berlin', 'Rome', 'Madrid'], ['Dublin', 'Rome', 'Berlin', 'Rome', 'Dublin'], ['Dublin', 'Rome', 'Madrid', 'London', 'Rome'], ['Dublin', 'Rome', 'Madrid', 'London', 'Berlin'], ['Dublin', 'Rome', 'Madrid', 'London', 'Madrid'], ['Dublin', 'Rome', 'Madrid', 'London', 'Dublin'], ['Dublin', 'Rome', 'Madrid', 'Berlin', 'London'], ['Dublin', 'Rome', 'Madrid', 'Berlin', 'Dublin'], ['Dublin', 'Rome', 'Madrid', 'Berlin', 'Madrid'], ['Dublin', 'Rome', 'Madrid', 'Berlin', 'Rome'], ['Dublin', 'Rome', 'Madrid', 'Dublin', 'London'], ['Dublin', 'Rome', 'Madrid', 'Dublin', 'Berlin'], ['Dublin', 'Rome', 'Madrid', 'Dublin', 'Madrid'], ['Dublin', 'Rome', 'Madrid', 'Dublin', 'Rome'], ['Dublin', 'Rome', 'Madrid', 'Rome', 'London'], ['Dublin', 'Rome', 'Madrid', 'Rome', 'Berlin'], ['Dublin', 'Rome', 'Madrid', 'Rome', 'Madrid'], ['Dublin', 'Rome', 'Madrid', 'Rome', 'Dublin'], ['Dublin', 'Rome', 'Dublin', 'London', 'Rome'], ['Dublin', 'Rome', 'Dublin', 'London', 'Berlin'], ['Dublin', 'Rome', 'Dublin', 'London', 'Madrid'], ['Dublin', 'Rome', 'Dublin', 'London', 'Dublin'], ['Dublin', 'Rome', 'Dublin', 'Berlin', 'London'], ['Dublin', 'Rome', 'Dublin', 'Berlin', 'Dublin'], ['Dublin', 'Rome', 'Dublin', 'Berlin', 'Madrid'], ['Dublin', 'Rome', 'Dublin', 'Berlin', 'Rome'], ['Dublin', 'Rome', 'Dublin', 'Madrid', 'London'], ['Dublin', 'Rome', 'Dublin', 'Madrid', 'Berlin'], ['Dublin', 'Rome', 'Dublin', 'Madrid', 'Dublin'], ['Dublin', 'Rome', 'Dublin', 'Madrid', 'Rome'], ['Dublin', 'Rome', 'Dublin', 'Rome', 'London'], ['Dublin', 'Rome', 'Dublin', 'Rome', 'Berlin'], ['Dublin', 'Rome', 'Dublin', 'Rome', 'Madrid'], ['Dublin', 'Rome', 'Dublin', 'Rome', 'Dublin']]\n"
     ]
    }
   ],
   "source": [
    "# Driver function call to print all  \n",
    "# generated paths \n",
    "# print(find_all_paths(graph, 'Dublin')) \n",
    "mylist=find_all_paths(graph, 'Dublin')\n",
    "print(mylist)\n",
    "        "
   ]
  },
  {
   "cell_type": "code",
   "execution_count": 29,
   "metadata": {
    "scrolled": true
   },
   "outputs": [
    {
     "name": "stdout",
     "output_type": "stream",
     "text": [
      "256\n"
     ]
    }
   ],
   "source": [
    "print(len(mylist))"
   ]
  },
  {
   "cell_type": "code",
   "execution_count": 30,
   "metadata": {
    "scrolled": true
   },
   "outputs": [
    {
     "data": {
      "text/plain": [
       "False"
      ]
     },
     "execution_count": 30,
     "metadata": {},
     "output_type": "execute_result"
    }
   ],
   "source": [
    "any(mylist.count(x) > 1 for x in mylist)"
   ]
  },
  {
   "cell_type": "code",
   "execution_count": 31,
   "metadata": {
    "scrolled": true
   },
   "outputs": [
    {
     "data": {
      "text/plain": [
       "256"
      ]
     },
     "execution_count": 31,
     "metadata": {},
     "output_type": "execute_result"
    }
   ],
   "source": [
    "len(mylist)"
   ]
  },
  {
   "cell_type": "code",
   "execution_count": 35,
   "metadata": {
    "scrolled": true
   },
   "outputs": [
    {
     "name": "stdout",
     "output_type": "stream",
     "text": [
      "[['Dublin', 'London', 'Rome', 'Berlin', 'Madrid'], ['Dublin', 'London', 'Rome', 'Madrid', 'Berlin'], ['Dublin', 'London', 'Berlin', 'Madrid', 'Rome'], ['Dublin', 'London', 'Berlin', 'Rome', 'Madrid'], ['Dublin', 'London', 'Madrid', 'Berlin', 'Rome'], ['Dublin', 'London', 'Madrid', 'Rome', 'Berlin'], ['Dublin', 'Berlin', 'London', 'Rome', 'Madrid'], ['Dublin', 'Berlin', 'London', 'Madrid', 'Rome'], ['Dublin', 'Berlin', 'Madrid', 'London', 'Rome'], ['Dublin', 'Berlin', 'Madrid', 'Rome', 'London'], ['Dublin', 'Berlin', 'Rome', 'London', 'Madrid'], ['Dublin', 'Berlin', 'Rome', 'Madrid', 'London'], ['Dublin', 'Madrid', 'London', 'Rome', 'Berlin'], ['Dublin', 'Madrid', 'London', 'Berlin', 'Rome'], ['Dublin', 'Madrid', 'Berlin', 'London', 'Rome'], ['Dublin', 'Madrid', 'Berlin', 'Rome', 'London'], ['Dublin', 'Madrid', 'Rome', 'London', 'Berlin'], ['Dublin', 'Madrid', 'Rome', 'Berlin', 'London'], ['Dublin', 'Rome', 'London', 'Berlin', 'Madrid'], ['Dublin', 'Rome', 'London', 'Madrid', 'Berlin'], ['Dublin', 'Rome', 'Berlin', 'London', 'Madrid'], ['Dublin', 'Rome', 'Berlin', 'Madrid', 'London'], ['Dublin', 'Rome', 'Madrid', 'London', 'Berlin'], ['Dublin', 'Rome', 'Madrid', 'Berlin', 'London']]\n"
     ]
    }
   ],
   "source": [
    "finallist=[]\n",
    "for path in mylist:\n",
    "    if all(elem in path  for elem in graph)==True:\n",
    "        finallist.append(path)\n",
    "\n",
    "print(finallist)"
   ]
  },
  {
   "cell_type": "code",
   "execution_count": 36,
   "metadata": {
    "scrolled": true
   },
   "outputs": [
    {
     "data": {
      "text/plain": [
       "24"
      ]
     },
     "execution_count": 36,
     "metadata": {},
     "output_type": "execute_result"
    }
   ],
   "source": [
    "len(finallist)"
   ]
  },
  {
   "cell_type": "code",
   "execution_count": null,
   "metadata": {
    "scrolled": true
   },
   "outputs": [],
   "source": []
  },
  {
   "cell_type": "code",
   "execution_count": null,
   "metadata": {
    "scrolled": true
   },
   "outputs": [],
   "source": []
  },
  {
   "cell_type": "code",
   "execution_count": null,
   "metadata": {
    "scrolled": true
   },
   "outputs": [],
   "source": []
  },
  {
   "cell_type": "code",
   "execution_count": null,
   "metadata": {
    "scrolled": true
   },
   "outputs": [],
   "source": []
  },
  {
   "cell_type": "code",
   "execution_count": null,
   "metadata": {
    "scrolled": true
   },
   "outputs": [],
   "source": []
  },
  {
   "cell_type": "code",
   "execution_count": null,
   "metadata": {},
   "outputs": [],
   "source": []
  },
  {
   "cell_type": "markdown",
   "metadata": {},
   "source": [
    "Building a graph in the right format for dijkstra's algoritm (didn't get it to work properly)"
   ]
  },
  {
   "cell_type": "code",
   "execution_count": 82,
   "metadata": {
    "scrolled": true
   },
   "outputs": [],
   "source": [
    "from collections import defaultdict"
   ]
  },
  {
   "cell_type": "code",
   "execution_count": 95,
   "metadata": {
    "scrolled": true
   },
   "outputs": [],
   "source": [
    "class Graph:\n",
    "    def __init__(self):\n",
    "        self.nodes = set()\n",
    "        self.edges = defaultdict(list)\n",
    "        self.distances = {}\n",
    "#         self.thisdict={}\n",
    "#         self.thatdict={}\n",
    "        self.firstdict={}\n",
    "        self.seconddict={}\n",
    "\n",
    "    def add_node(self, value):\n",
    "        self.nodes.add(value)\n",
    "\n",
    "    def add_edge(self, from_node, to_node, distance):\n",
    "        thisdict={}\n",
    "        thatdict={}\n",
    "        self.edges[from_node].append(to_node)\n",
    "        self.edges[to_node].append(from_node)\n",
    "\n",
    "        thisdict[to_node]=distance\n",
    "        thatdict[from_node]=distance\n",
    "        print(\"thisdict\", thisdict)\n",
    "        print(\"thatdict\", thatdict)\n",
    "        self.distances[from_node] = thisdict\n",
    "        self.distances[to_node] = thatdict\n",
    "        self.firstdict[to_node]=self.distances[from_node]\n",
    "        self.seconddict[from_node]=self.distances[to_node]\n",
    "\n",
    "\n",
    "        print(\"thisdict2\", thisdict)\n",
    "        print(\"thatdict2\", thatdict)\n",
    "        print(\"firstdict\", self.firstdict)\n",
    "        print(\"seconddict\", self.seconddict)\n",
    "        print(\"__________________\")\n",
    "        \n",
    "#         self.thisdict[to_node]=distance\n",
    "#         self.thatdict[from_node]=distance\n",
    "#         print(\"thisdict\", self.thisdict)\n",
    "#         print(\"thatdict\", self.thatdict)\n",
    "#         self.distances[from_node] = self.thisdict\n",
    "#         self.distances[to_node] = self.thatdict\n",
    "#         print(\"thisdict2\", self.thisdict)\n",
    "#         print(\"thatdict2\", self.thatdict)\n",
    "#         print(\"__________________\")"
   ]
  },
  {
   "cell_type": "code",
   "execution_count": 96,
   "metadata": {
    "scrolled": true
   },
   "outputs": [
    {
     "name": "stdout",
     "output_type": "stream",
     "text": [
      "{'Dublin', 'Athens', 'Moscow', 'London'}\n"
     ]
    }
   ],
   "source": [
    "mygraph = Graph()\n",
    "mygraph.add_node('Dublin')\n",
    "mygraph.add_node('London')\n",
    "mygraph.add_node('Moscow')\n",
    "mygraph.add_node('Athens')\n",
    "print(mygraph.nodes)\n"
   ]
  },
  {
   "cell_type": "code",
   "execution_count": 97,
   "metadata": {
    "scrolled": true
   },
   "outputs": [
    {
     "name": "stdout",
     "output_type": "stream",
     "text": [
      "thisdict {'London': 2}\n",
      "thatdict {'Dublin': 2}\n",
      "thisdict2 {'London': 2}\n",
      "thatdict2 {'Dublin': 2}\n",
      "firstdict {'London': {'London': 2}}\n",
      "seconddict {'Dublin': {'Dublin': 2}}\n",
      "__________________\n",
      "thisdict {'Moscow': 8}\n",
      "thatdict {'Dublin': 8}\n",
      "thisdict2 {'Moscow': 8}\n",
      "thatdict2 {'Dublin': 8}\n",
      "firstdict {'London': {'London': 2}, 'Moscow': {'Moscow': 8}}\n",
      "seconddict {'Dublin': {'Dublin': 8}}\n",
      "__________________\n"
     ]
    }
   ],
   "source": [
    "mygraph.add_edge('Dublin', 'London', 2)\n",
    "mygraph.add_edge('Dublin', 'Moscow', 8)\n",
    "# mygraph.add_edge('Dublin', 'Athens', 7)\n",
    "# mygraph.add_edge('London', 'Athens', 4)\n",
    "# mygraph.add_edge('London', 'Moscow', 5)\n",
    "# mygraph.add_edge('Athens', 'Moscow', 3)"
   ]
  },
  {
   "cell_type": "code",
   "execution_count": 98,
   "metadata": {},
   "outputs": [
    {
     "data": {
      "text/plain": [
       "{'Dublin': {'Moscow': 8}, 'London': {'Dublin': 2}, 'Moscow': {'Dublin': 8}}"
      ]
     },
     "execution_count": 98,
     "metadata": {},
     "output_type": "execute_result"
    }
   ],
   "source": [
    "mygraph.distances"
   ]
  },
  {
   "cell_type": "code",
   "execution_count": 87,
   "metadata": {},
   "outputs": [
    {
     "data": {
      "text/plain": [
       "{'nodes': {'Athens', 'Dublin', 'London', 'Moscow'},\n",
       " 'edges': defaultdict(list,\n",
       "             {'Dublin': ['London', 'Moscow'],\n",
       "              'London': ['Dublin'],\n",
       "              'Moscow': ['Dublin']}),\n",
       " 'distances': {'Dublin': {'Moscow': 8},\n",
       "  'London': {'Dublin': 2},\n",
       "  'Moscow': {'Dublin': 8}}}"
      ]
     },
     "execution_count": 87,
     "metadata": {},
     "output_type": "execute_result"
    }
   ],
   "source": [
    "mygraph.__dict__"
   ]
  },
  {
   "cell_type": "code",
   "execution_count": null,
   "metadata": {},
   "outputs": [],
   "source": []
  },
  {
   "cell_type": "code",
   "execution_count": null,
   "metadata": {},
   "outputs": [],
   "source": []
  },
  {
   "cell_type": "code",
   "execution_count": null,
   "metadata": {},
   "outputs": [],
   "source": []
  },
  {
   "cell_type": "code",
   "execution_count": null,
   "metadata": {},
   "outputs": [],
   "source": []
  },
  {
   "cell_type": "code",
   "execution_count": null,
   "metadata": {},
   "outputs": [],
   "source": []
  },
  {
   "cell_type": "code",
   "execution_count": null,
   "metadata": {},
   "outputs": [],
   "source": []
  },
  {
   "cell_type": "code",
   "execution_count": null,
   "metadata": {},
   "outputs": [],
   "source": []
  },
  {
   "cell_type": "markdown",
   "metadata": {},
   "source": [
    "Making a test graph to run Dijkstra's algorithm (need to clear every time you run it)"
   ]
  },
  {
   "cell_type": "markdown",
   "metadata": {},
   "source": [
    "https://www.youtube.com/watch?v=IG1QioWSXRI"
   ]
  },
  {
   "cell_type": "code",
   "execution_count": 37,
   "metadata": {},
   "outputs": [],
   "source": [
    "testgraph = {'Dublin': {'London': 2, 'Moscow':8, 'Athens': 7}, 'London': { 'Dublin':2, 'Athens': 4, 'Moscow':5}, 'Moscow': {'Dublin': 8, 'London': 5, 'Athens': 3}, 'Athens': {'Moscow': 3, 'Dublin':7, 'London':4}}\n"
   ]
  },
  {
   "cell_type": "code",
   "execution_count": 38,
   "metadata": {},
   "outputs": [
    {
     "name": "stdout",
     "output_type": "stream",
     "text": [
      "{'Dublin': {'London': 2, 'Moscow': 8, 'Athens': 7}, 'London': {'Dublin': 2, 'Athens': 4, 'Moscow': 5}, 'Moscow': {'Dublin': 8, 'London': 5, 'Athens': 3}, 'Athens': {'Moscow': 3, 'Dublin': 7, 'London': 4}}\n"
     ]
    }
   ],
   "source": [
    "print(testgraph)"
   ]
  },
  {
   "cell_type": "code",
   "execution_count": null,
   "metadata": {},
   "outputs": [],
   "source": [
    "def dijkstra(graph,start,goal):\n",
    "    shortest_distance = {}\n",
    "    predecessor = {}\n",
    "    unseenNodes = graph\n",
    "    infinity = 9999999\n",
    "    path = []\n",
    "    for node in unseenNodes:\n",
    "        shortest_distance[node] = infinity\n",
    "    shortest_distance[start] = 0\n",
    "\n",
    "    while unseenNodes:\n",
    "        minNode = None\n",
    "        for node in unseenNodes:\n",
    "            if minNode is None:\n",
    "                minNode = node\n",
    "            elif shortest_distance[node] < shortest_distance[minNode]:\n",
    "                minNode = node\n",
    "\n",
    "        for childNode, weight in graph[minNode].items():\n",
    "            if weight + shortest_distance[minNode] < shortest_distance[childNode]:\n",
    "                shortest_distance[childNode] = weight + shortest_distance[minNode]\n",
    "                predecessor[childNode] = minNode\n",
    "        unseenNodes.pop(minNode)\n",
    "\n",
    "    currentNode = goal\n",
    "    while currentNode != start:\n",
    "        try:\n",
    "            path.insert(0,currentNode)\n",
    "            currentNode = predecessor[currentNode]\n",
    "        except KeyError:\n",
    "            print('Path not reachable')\n",
    "            break\n",
    "    path.insert(0,start)\n",
    "    if shortest_distance[goal] != infinity:\n",
    "        print('Shortest distance is ' + str(shortest_distance[goal]))\n",
    "        print('And the path is ' + str(path))\n"
   ]
  },
  {
   "cell_type": "code",
   "execution_count": null,
   "metadata": {},
   "outputs": [],
   "source": [
    "dijkstra(testgraph, 'Dublin', 'Athens')"
   ]
  },
  {
   "cell_type": "code",
   "execution_count": null,
   "metadata": {},
   "outputs": [],
   "source": []
  }
 ],
 "metadata": {
  "kernelspec": {
   "display_name": "Python 3",
   "language": "python",
   "name": "python3"
  },
  "language_info": {
   "codemirror_mode": {
    "name": "ipython",
    "version": 3
   },
   "file_extension": ".py",
   "mimetype": "text/x-python",
   "name": "python",
   "nbconvert_exporter": "python",
   "pygments_lexer": "ipython3",
   "version": "3.7.1"
  }
 },
 "nbformat": 4,
 "nbformat_minor": 2
}
