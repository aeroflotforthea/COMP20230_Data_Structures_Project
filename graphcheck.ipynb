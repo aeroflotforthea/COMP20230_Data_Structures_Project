{
 "cells": [
  {
   "cell_type": "code",
   "execution_count": 2,
   "metadata": {
    "scrolled": true
   },
   "outputs": [],
   "source": [
    "# Python program for  \n",
    "# validation of a graph \n",
    "  \n",
    "# import dictionary for graph \n",
    "from collections import defaultdict"
   ]
  },
  {
   "cell_type": "markdown",
   "metadata": {},
   "source": [
    "To make a graph, add edges"
   ]
  },
  {
   "cell_type": "code",
   "execution_count": 3,
   "metadata": {
    "scrolled": true
   },
   "outputs": [],
   "source": [
    "# function for adding edge to graph \n",
    "graph = defaultdict(list) \n",
    "\n",
    "def addEdge(graph,u,v): \n",
    "    graph[u].append(v) \n",
    "  \n",
    "# definition of function \n",
    "def generate_edges(graph): \n",
    "    edges = [] \n",
    "  \n",
    "    # for each node in graph \n",
    "    for node in graph: \n",
    "          \n",
    "        # for each neighbour node of a single node \n",
    "        for neighbour in graph[node]: \n",
    "              \n",
    "            # if edge exists then append \n",
    "            edges.append((node, neighbour)) \n",
    "    return edges "
   ]
  },
  {
   "cell_type": "code",
   "execution_count": 4,
   "metadata": {
    "scrolled": true
   },
   "outputs": [
    {
     "name": "stdout",
     "output_type": "stream",
     "text": [
      "[('Dublin', 'London'), ('Madrid', 'London'), ('Madrid', 'Rome'), ('London', 'Berlin'), ('London', 'Rome'), ('London', 'Dublin'), ('London', 'Madrid'), ('Rome', 'Madrid'), ('Rome', 'London'), ('Berlin', 'London')]\n"
     ]
    }
   ],
   "source": [
    "addEdge(graph,'Dublin','London') \n",
    "addEdge(graph,'Madrid','London') \n",
    "addEdge(graph,'Madrid','Rome') \n",
    "addEdge(graph,'London','Berlin') \n",
    "addEdge(graph,'London','Rome') \n",
    "addEdge(graph,'London','Dublin') \n",
    "addEdge(graph,'London','Madrid') \n",
    "addEdge(graph,'Rome','Madrid') \n",
    "addEdge(graph,'Berlin','London') \n",
    "addEdge(graph,'Rome','London') \n",
    "\n",
    "# Driver Function call  \n",
    "# to print generated graph \n",
    "print(generate_edges(graph)) "
   ]
  },
  {
   "cell_type": "code",
   "execution_count": null,
   "metadata": {},
   "outputs": [],
   "source": []
  },
  {
   "cell_type": "code",
   "execution_count": null,
   "metadata": {
    "scrolled": true
   },
   "outputs": [],
   "source": []
  },
  {
   "cell_type": "markdown",
   "metadata": {},
   "source": [
    "TO build the initial dictionary:"
   ]
  },
  {
   "cell_type": "markdown",
   "metadata": {},
   "source": [
    "import from csv\n",
    "get all airport names from containing data structure\n",
    "initialise empty dictionary\n",
    "for every airport, add to dictionary:\n",
    "    key: 1 airport name\n",
    "    value: list of all airports, minus our 1 airport name"
   ]
  },
  {
   "cell_type": "code",
   "execution_count": null,
   "metadata": {
    "scrolled": true
   },
   "outputs": [],
   "source": []
  },
  {
   "cell_type": "code",
   "execution_count": null,
   "metadata": {
    "scrolled": true
   },
   "outputs": [],
   "source": []
  },
  {
   "cell_type": "code",
   "execution_count": null,
   "metadata": {
    "scrolled": true
   },
   "outputs": [],
   "source": []
  },
  {
   "cell_type": "code",
   "execution_count": null,
   "metadata": {
    "scrolled": true
   },
   "outputs": [],
   "source": []
  },
  {
   "cell_type": "code",
   "execution_count": null,
   "metadata": {
    "scrolled": true
   },
   "outputs": [],
   "source": []
  },
  {
   "cell_type": "code",
   "execution_count": null,
   "metadata": {
    "scrolled": true
   },
   "outputs": [],
   "source": []
  },
  {
   "cell_type": "code",
   "execution_count": 10,
   "metadata": {
    "scrolled": true
   },
   "outputs": [],
   "source": [
    "graph ={ \n",
    "'Dublin':['London', 'Berlin', 'Madrid', 'Rome'], \n",
    "'Madrid':['London', 'Berlin', 'Dublin', 'Rome'], \n",
    "'London':['Rome', 'Berlin', 'Madrid', 'Dublin'], \n",
    "'Berlin':['London', 'Dublin', 'Madrid', 'Rome'], \n",
    "'Rome':['London', 'Berlin', 'Madrid', 'Dublin'] \n",
    "}"
   ]
  },
  {
   "cell_type": "code",
   "execution_count": null,
   "metadata": {
    "scrolled": true
   },
   "outputs": [],
   "source": []
  },
  {
   "cell_type": "code",
   "execution_count": null,
   "metadata": {
    "scrolled": true
   },
   "outputs": [],
   "source": []
  },
  {
   "cell_type": "code",
   "execution_count": 13,
   "metadata": {
    "scrolled": true
   },
   "outputs": [],
   "source": [
    "def find_all_paths(graph, start, path=[]):\n",
    "    path = path + [start]\n",
    "    paths = []\n",
    "   \n",
    "    if len(path)==len(graph):\n",
    "        return [path]\n",
    "    \n",
    "    for node in graph[start]:\n",
    "        if node not in path:\n",
    "            newpaths = find_all_paths(graph, node, path)\n",
    "            for newpath in newpaths:\n",
    "    #                 print(\"newpath\", newpath)\n",
    "                if len(newpath)>=len(graph):\n",
    "                    paths.append(newpath)\n",
    "    return paths"
   ]
  },
  {
   "cell_type": "code",
   "execution_count": 14,
   "metadata": {
    "scrolled": true
   },
   "outputs": [
    {
     "name": "stdout",
     "output_type": "stream",
     "text": [
      "[['Dublin', 'London', 'Rome', 'Berlin', 'Madrid'], ['Dublin', 'London', 'Rome', 'Madrid', 'Berlin'], ['Dublin', 'London', 'Berlin', 'Madrid', 'Rome'], ['Dublin', 'London', 'Berlin', 'Rome', 'Madrid'], ['Dublin', 'London', 'Madrid', 'Berlin', 'Rome'], ['Dublin', 'London', 'Madrid', 'Rome', 'Berlin'], ['Dublin', 'Berlin', 'London', 'Rome', 'Madrid'], ['Dublin', 'Berlin', 'London', 'Madrid', 'Rome'], ['Dublin', 'Berlin', 'Madrid', 'London', 'Rome'], ['Dublin', 'Berlin', 'Madrid', 'Rome', 'London'], ['Dublin', 'Berlin', 'Rome', 'London', 'Madrid'], ['Dublin', 'Berlin', 'Rome', 'Madrid', 'London'], ['Dublin', 'Madrid', 'London', 'Rome', 'Berlin'], ['Dublin', 'Madrid', 'London', 'Berlin', 'Rome'], ['Dublin', 'Madrid', 'Berlin', 'London', 'Rome'], ['Dublin', 'Madrid', 'Berlin', 'Rome', 'London'], ['Dublin', 'Madrid', 'Rome', 'London', 'Berlin'], ['Dublin', 'Madrid', 'Rome', 'Berlin', 'London'], ['Dublin', 'Rome', 'London', 'Berlin', 'Madrid'], ['Dublin', 'Rome', 'London', 'Madrid', 'Berlin'], ['Dublin', 'Rome', 'Berlin', 'London', 'Madrid'], ['Dublin', 'Rome', 'Berlin', 'Madrid', 'London'], ['Dublin', 'Rome', 'Madrid', 'London', 'Berlin'], ['Dublin', 'Rome', 'Madrid', 'Berlin', 'London']]\n"
     ]
    }
   ],
   "source": [
    "# Driver function call to print all  \n",
    "# generated paths \n",
    "# print(find_all_paths(graph, 'Dublin')) \n",
    "mylist=find_all_paths(graph, 'Dublin')\n",
    "print(mylist)\n",
    "        "
   ]
  },
  {
   "cell_type": "code",
   "execution_count": 15,
   "metadata": {
    "scrolled": true
   },
   "outputs": [
    {
     "name": "stdout",
     "output_type": "stream",
     "text": [
      "24\n"
     ]
    }
   ],
   "source": [
    "print(len(mylist))"
   ]
  },
  {
   "cell_type": "code",
   "execution_count": 16,
   "metadata": {
    "scrolled": true
   },
   "outputs": [
    {
     "data": {
      "text/plain": [
       "False"
      ]
     },
     "execution_count": 16,
     "metadata": {},
     "output_type": "execute_result"
    }
   ],
   "source": [
    "any(mylist.count(x) > 1 for x in mylist)"
   ]
  },
  {
   "cell_type": "code",
   "execution_count": 17,
   "metadata": {
    "scrolled": true
   },
   "outputs": [
    {
     "data": {
      "text/plain": [
       "24"
      ]
     },
     "execution_count": 17,
     "metadata": {},
     "output_type": "execute_result"
    }
   ],
   "source": [
    "len(mylist)"
   ]
  },
  {
   "cell_type": "code",
   "execution_count": null,
   "metadata": {
    "scrolled": true
   },
   "outputs": [],
   "source": []
  },
  {
   "cell_type": "code",
   "execution_count": null,
   "metadata": {
    "scrolled": true
   },
   "outputs": [],
   "source": []
  },
  {
   "cell_type": "code",
   "execution_count": null,
   "metadata": {
    "scrolled": true
   },
   "outputs": [],
   "source": []
  },
  {
   "cell_type": "code",
   "execution_count": null,
   "metadata": {
    "scrolled": true
   },
   "outputs": [],
   "source": []
  },
  {
   "cell_type": "code",
   "execution_count": null,
   "metadata": {
    "scrolled": true
   },
   "outputs": [],
   "source": []
  },
  {
   "cell_type": "code",
   "execution_count": null,
   "metadata": {
    "scrolled": true
   },
   "outputs": [],
   "source": []
  },
  {
   "cell_type": "code",
   "execution_count": null,
   "metadata": {
    "scrolled": true
   },
   "outputs": [],
   "source": []
  },
  {
   "cell_type": "code",
   "execution_count": null,
   "metadata": {},
   "outputs": [],
   "source": []
  },
  {
   "cell_type": "markdown",
   "metadata": {},
   "source": [
    "Building a graph in the right format for dijkstra's algoritm (didn't get it to work properly)"
   ]
  },
  {
   "cell_type": "code",
   "execution_count": 60,
   "metadata": {
    "scrolled": true
   },
   "outputs": [],
   "source": [
    "from collections import defaultdict"
   ]
  },
  {
   "cell_type": "code",
   "execution_count": 61,
   "metadata": {
    "scrolled": true
   },
   "outputs": [],
   "source": [
    "class Graph:\n",
    "    def __init__(self):\n",
    "        self.nodes = set()\n",
    "        self.edges = defaultdict(list)\n",
    "        self.distances = {}\n",
    "        self.thisdict={}\n",
    "        self.thatdict={}\n",
    "\n",
    "    def add_node(self, value):\n",
    "        self.nodes.add(value)\n",
    "\n",
    "    def add_edge(self, from_node, to_node, distance):\n",
    "        thisdict={}\n",
    "        thatdict={}\n",
    "        self.edges[from_node].append(to_node)\n",
    "        self.edges[to_node].append(from_node)\n",
    "        \n",
    "#         thisdict[to_node]=distance\n",
    "#         thatdict[from_node]=distance\n",
    "#         print(\"thisdict\", thisdict)\n",
    "#         print(\"thatdict\", thatdict)\n",
    "#         self.distances[from_node] = thisdict\n",
    "#         self.distances[to_node] = thatdict\n",
    "#         print(\"thisdict2\", thisdict)\n",
    "#         print(\"thatdict2\", thatdict)\n",
    "        \n",
    "        \n",
    "        self.thisdict[to_node]=distance\n",
    "        self.thatdict[from_node]=distance\n",
    "        print(\"thisdict\", self.thisdict)\n",
    "        print(\"thatdict\", self.thatdict)\n",
    "        self.distances[from_node] = self.thisdict\n",
    "        self.distances[to_node] = self.thatdict\n",
    "        print(\"thisdict2\", self.thisdict)\n",
    "        print(\"thatdict2\", self.thatdict)"
   ]
  },
  {
   "cell_type": "code",
   "execution_count": 62,
   "metadata": {
    "scrolled": true
   },
   "outputs": [
    {
     "name": "stdout",
     "output_type": "stream",
     "text": [
      "{'London', 'Dublin', 'Moscow', 'Athens'}\n"
     ]
    }
   ],
   "source": [
    "mygraph = Graph()\n",
    "mygraph.add_node('Dublin')\n",
    "mygraph.add_node('London')\n",
    "mygraph.add_node('Moscow')\n",
    "mygraph.add_node('Athens')\n",
    "print(mygraph.nodes)\n"
   ]
  },
  {
   "cell_type": "code",
   "execution_count": 64,
   "metadata": {
    "scrolled": true
   },
   "outputs": [
    {
     "name": "stdout",
     "output_type": "stream",
     "text": [
      "thisdict {'London': 2, 'Moscow': 8}\n",
      "thatdict {'Dublin': 2}\n",
      "thisdict2 {'London': 2, 'Moscow': 8}\n",
      "thatdict2 {'Dublin': 2}\n",
      "thisdict {'London': 2, 'Moscow': 8}\n",
      "thatdict {'Dublin': 8}\n",
      "thisdict2 {'London': 2, 'Moscow': 8}\n",
      "thatdict2 {'Dublin': 8}\n"
     ]
    }
   ],
   "source": [
    "mygraph.add_edge('Dublin', 'London', 2)\n",
    "mygraph.add_edge('Dublin', 'Moscow', 8)\n",
    "# mygraph.add_edge('Dublin', 'Athens', 7)\n",
    "# mygraph.add_edge('London', 'Athens', 4)\n",
    "# mygraph.add_edge('London', 'Moscow', 5)\n",
    "# mygraph.add_edge('Athens', 'Moscow', 3)"
   ]
  },
  {
   "cell_type": "code",
   "execution_count": 65,
   "metadata": {
    "scrolled": true
   },
   "outputs": [
    {
     "data": {
      "text/plain": [
       "{'nodes': {'Athens', 'Dublin', 'London', 'Moscow'},\n",
       " 'edges': defaultdict(list,\n",
       "             {'Dublin': ['London', 'Moscow', 'London', 'Moscow'],\n",
       "              'London': ['Dublin', 'Dublin'],\n",
       "              'Moscow': ['Dublin', 'Dublin']}),\n",
       " 'distances': {'Dublin': {'London': 2, 'Moscow': 8},\n",
       "  'London': {'Dublin': 8},\n",
       "  'Moscow': {'Dublin': 8}},\n",
       " 'thisdict': {'London': 2, 'Moscow': 8},\n",
       " 'thatdict': {'Dublin': 8}}"
      ]
     },
     "execution_count": 65,
     "metadata": {},
     "output_type": "execute_result"
    }
   ],
   "source": [
    "mygraph.__dict__"
   ]
  },
  {
   "cell_type": "code",
   "execution_count": 66,
   "metadata": {},
   "outputs": [
    {
     "data": {
      "text/plain": [
       "{'Dublin': {'London': 2, 'Moscow': 8},\n",
       " 'London': {'Dublin': 8},\n",
       " 'Moscow': {'Dublin': 8}}"
      ]
     },
     "execution_count": 66,
     "metadata": {},
     "output_type": "execute_result"
    }
   ],
   "source": [
    "mygraph.distances"
   ]
  },
  {
   "cell_type": "code",
   "execution_count": null,
   "metadata": {},
   "outputs": [],
   "source": []
  },
  {
   "cell_type": "code",
   "execution_count": null,
   "metadata": {},
   "outputs": [],
   "source": []
  },
  {
   "cell_type": "code",
   "execution_count": null,
   "metadata": {},
   "outputs": [],
   "source": []
  },
  {
   "cell_type": "markdown",
   "metadata": {},
   "source": [
    "Making a test graph to run Dijkstra's algorithm (need to clear every time you run it)"
   ]
  },
  {
   "cell_type": "markdown",
   "metadata": {},
   "source": [
    "https://www.youtube.com/watch?v=IG1QioWSXRI"
   ]
  },
  {
   "cell_type": "code",
   "execution_count": 56,
   "metadata": {},
   "outputs": [],
   "source": [
    "testgraph = {'Dublin': {'London': 2, 'Moscow': 3}, 'London': { 'Athens': 4}, 'Moscow': {'Dublin': 7, 'London': 5, 'Athens': 3}, 'Athens': {'Moscow': 3}}"
   ]
  },
  {
   "cell_type": "code",
   "execution_count": 57,
   "metadata": {},
   "outputs": [
    {
     "name": "stdout",
     "output_type": "stream",
     "text": [
      "{'Dublin': {'London': 2, 'Moscow': 3}, 'London': {'Athens': 4}, 'Moscow': {'Dublin': 7, 'London': 5, 'Athens': 3}, 'Athens': {'Moscow': 3}}\n"
     ]
    }
   ],
   "source": [
    "print(testgraph)"
   ]
  },
  {
   "cell_type": "code",
   "execution_count": 58,
   "metadata": {},
   "outputs": [],
   "source": [
    "def dijkstra(graph,start,goal):\n",
    "    shortest_distance = {}\n",
    "    predecessor = {}\n",
    "    unseenNodes = graph\n",
    "    infinity = 9999999\n",
    "    path = []\n",
    "    for node in unseenNodes:\n",
    "        shortest_distance[node] = infinity\n",
    "    shortest_distance[start] = 0\n",
    "\n",
    "    while unseenNodes:\n",
    "        minNode = None\n",
    "        for node in unseenNodes:\n",
    "            if minNode is None:\n",
    "                minNode = node\n",
    "            elif shortest_distance[node] < shortest_distance[minNode]:\n",
    "                minNode = node\n",
    "\n",
    "        for childNode, weight in graph[minNode].items():\n",
    "            if weight + shortest_distance[minNode] < shortest_distance[childNode]:\n",
    "                shortest_distance[childNode] = weight + shortest_distance[minNode]\n",
    "                predecessor[childNode] = minNode\n",
    "        unseenNodes.pop(minNode)\n",
    "\n",
    "    currentNode = goal\n",
    "    while currentNode != start:\n",
    "        try:\n",
    "            path.insert(0,currentNode)\n",
    "            currentNode = predecessor[currentNode]\n",
    "        except KeyError:\n",
    "            print('Path not reachable')\n",
    "            break\n",
    "    path.insert(0,start)\n",
    "    if shortest_distance[goal] != infinity:\n",
    "        print('Shortest distance is ' + str(shortest_distance[goal]))\n",
    "        print('And the path is ' + str(path))\n"
   ]
  },
  {
   "cell_type": "code",
   "execution_count": 59,
   "metadata": {},
   "outputs": [
    {
     "name": "stdout",
     "output_type": "stream",
     "text": [
      "Shortest distance is 6\n",
      "And the path is ['Dublin', 'London', 'Athens']\n"
     ]
    }
   ],
   "source": [
    "dijkstra(testgraph, 'Dublin', 'Athens')"
   ]
  },
  {
   "cell_type": "code",
   "execution_count": null,
   "metadata": {},
   "outputs": [],
   "source": []
  }
 ],
 "metadata": {
  "kernelspec": {
   "display_name": "Python 3",
   "language": "python",
   "name": "python3"
  },
  "language_info": {
   "codemirror_mode": {
    "name": "ipython",
    "version": 3
   },
   "file_extension": ".py",
   "mimetype": "text/x-python",
   "name": "python",
   "nbconvert_exporter": "python",
   "pygments_lexer": "ipython3",
   "version": "3.7.1"
  }
 },
 "nbformat": 4,
 "nbformat_minor": 2
}
