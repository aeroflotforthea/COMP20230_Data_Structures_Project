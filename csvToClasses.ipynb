{
 "cells": [
  {
   "cell_type": "code",
   "execution_count": 1,
   "metadata": {},
   "outputs": [],
   "source": [
    "import pandas as pd"
   ]
  },
  {
   "cell_type": "code",
   "execution_count": 2,
   "metadata": {},
   "outputs": [],
   "source": [
    "import math"
   ]
  },
  {
   "cell_type": "markdown",
   "metadata": {},
   "source": [
    "# aircraft"
   ]
  },
  {
   "cell_type": "code",
   "execution_count": 3,
   "metadata": {},
   "outputs": [],
   "source": [
    "df_aircraft = pd.read_csv(\"aircraft.csv\")"
   ]
  },
  {
   "cell_type": "code",
   "execution_count": 4,
   "metadata": {},
   "outputs": [],
   "source": [
    "# 20 rows\n",
    "# df_aircraft.head(30)"
   ]
  },
  {
   "cell_type": "code",
   "execution_count": 5,
   "metadata": {},
   "outputs": [],
   "source": [
    "aircraft_dict = df_aircraft.set_index('code').T.to_dict('list')\n",
    "# print(aircraft_dict)"
   ]
  },
  {
   "cell_type": "code",
   "execution_count": 6,
   "metadata": {},
   "outputs": [
    {
     "data": {
      "text/plain": [
       "['A319', 'jet', 'metric', 'Airbus', 3750]"
      ]
     },
     "execution_count": 6,
     "metadata": {},
     "output_type": "execute_result"
    }
   ],
   "source": [
    "aircraft_dict['A319']"
   ]
  },
  {
   "cell_type": "code",
   "execution_count": 7,
   "metadata": {},
   "outputs": [],
   "source": [
    "class Aircraft:\n",
    "    def __init__(self, code, flight_range, home_airport, units):\n",
    "        self.code = code\n",
    "        self.units = units\n",
    "        self.flight_range = self.convertToMetric(flight_range)\n",
    "        self.home_airport = home_airport\n",
    "        \n",
    "        \n",
    "        \n",
    "    def convertToMetric(self, flight_range):\n",
    "        if self.units == \"imperial\":\n",
    "            return round(flight_range * 1.60934, 2)\n",
    "        else:\n",
    "            return flight_range\n",
    "        \n",
    "    def getRange(self):\n",
    "        return self.flight_range"
   ]
  },
  {
   "cell_type": "code",
   "execution_count": 8,
   "metadata": {},
   "outputs": [],
   "source": [
    "aircraftList =[]\n",
    "for key in aircraft_dict.keys():\n",
    "    aircraftList.append(key)"
   ]
  },
  {
   "cell_type": "code",
   "execution_count": 9,
   "metadata": {},
   "outputs": [
    {
     "name": "stdout",
     "output_type": "stream",
     "text": [
      "['A319', 'A320', 'A321', 'A330', '737', '747', '757', '767', '777', 'BAE146', 'DC8', 'F50', 'MD11', 'A400M', 'C212', 'V22', 'BB1', 'BA10', 'SIS99', 'SAH']\n"
     ]
    }
   ],
   "source": [
    "print(aircraftList) # this is the mylist"
   ]
  },
  {
   "cell_type": "code",
   "execution_count": 10,
   "metadata": {},
   "outputs": [],
   "source": [
    "newList = {} # this is the thislist\n",
    "for aircraft in aircraftList:\n",
    "    myobject = Aircraft((aircraft_dict[aircraft])[0], (aircraft_dict[aircraft])[4], 'x', (aircraft_dict[aircraft])[2])\n",
    "    newList[aircraft]=myobject"
   ]
  },
  {
   "cell_type": "code",
   "execution_count": 11,
   "metadata": {},
   "outputs": [
    {
     "data": {
      "text/plain": [
       "{'A319': <__main__.Aircraft at 0x7f27e930ae10>,\n",
       " 'A320': <__main__.Aircraft at 0x7f27e930ae48>,\n",
       " 'A321': <__main__.Aircraft at 0x7f27e930ae80>,\n",
       " 'A330': <__main__.Aircraft at 0x7f27e930aeb8>,\n",
       " '737': <__main__.Aircraft at 0x7f27e930aef0>,\n",
       " '747': <__main__.Aircraft at 0x7f27e930af28>,\n",
       " '757': <__main__.Aircraft at 0x7f27e930af60>,\n",
       " '767': <__main__.Aircraft at 0x7f27e930af98>,\n",
       " '777': <__main__.Aircraft at 0x7f27e930afd0>,\n",
       " 'BAE146': <__main__.Aircraft at 0x7f27e9310048>,\n",
       " 'DC8': <__main__.Aircraft at 0x7f27e9310080>,\n",
       " 'F50': <__main__.Aircraft at 0x7f27e93100b8>,\n",
       " 'MD11': <__main__.Aircraft at 0x7f27e93100f0>,\n",
       " 'A400M': <__main__.Aircraft at 0x7f27e9310128>,\n",
       " 'C212': <__main__.Aircraft at 0x7f27e9310160>,\n",
       " 'V22': <__main__.Aircraft at 0x7f27e9310198>,\n",
       " 'BB1': <__main__.Aircraft at 0x7f27e93101d0>,\n",
       " 'BA10': <__main__.Aircraft at 0x7f27e9310208>,\n",
       " 'SIS99': <__main__.Aircraft at 0x7f27e9310240>,\n",
       " 'SAH': <__main__.Aircraft at 0x7f27e9310278>}"
      ]
     },
     "execution_count": 11,
     "metadata": {},
     "output_type": "execute_result"
    }
   ],
   "source": [
    "newList"
   ]
  },
  {
   "cell_type": "code",
   "execution_count": 12,
   "metadata": {},
   "outputs": [
    {
     "data": {
      "text/plain": [
       "1300.35"
      ]
     },
     "execution_count": 12,
     "metadata": {},
     "output_type": "execute_result"
    }
   ],
   "source": [
    "newList['SAH'].getRange()"
   ]
  },
  {
   "cell_type": "markdown",
   "metadata": {},
   "source": [
    "# airports"
   ]
  },
  {
   "cell_type": "code",
   "execution_count": 13,
   "metadata": {},
   "outputs": [],
   "source": [
    "df_airportcurr = pd.read_csv(\"airportcurrency.csv\")"
   ]
  },
  {
   "cell_type": "code",
   "execution_count": 14,
   "metadata": {},
   "outputs": [],
   "source": [
    "df_airportcurr.columns = df_airportcurr.columns.str.strip().str.lower().str.replace(' ', '_').str.replace('(', '').str.replace(')', '')\n",
    "df_airportcurr = df_airportcurr.drop(['unnamed:_0'],  axis=1)"
   ]
  },
  {
   "cell_type": "code",
   "execution_count": 15,
   "metadata": {},
   "outputs": [],
   "source": [
    "airportcurr_dict = df_airportcurr.set_index('airportcode').T.to_dict('list')"
   ]
  },
  {
   "cell_type": "code",
   "execution_count": 16,
   "metadata": {},
   "outputs": [
    {
     "name": "stdout",
     "output_type": "stream",
     "text": [
      "['EZE', 'Ministro Pistarini', 'Buenos Aires', 'Argentina', -34.822222, -58.535833, 'ARS', 0.1081, 9.2657]\n"
     ]
    }
   ],
   "source": [
    "EZE = airportcurr_dict.get('EZE')\n",
    "print(EZE)"
   ]
  },
  {
   "cell_type": "code",
   "execution_count": 17,
   "metadata": {},
   "outputs": [],
   "source": [
    "class Airport:\n",
    "    \n",
    "    def __init__(self, name, latitude, longitude, toEuro, fromEuro):\n",
    "        self.__name = name\n",
    "        self.latitude = latitude\n",
    "        self.longitude = longitude\n",
    "        self.__toEuro = toEuro\n",
    "        self.__fromEuro = fromEuro\n",
    "        \n",
    "    def getExchangeRate(self):\n",
    "        return self.__fromEuro\n",
    "    \n",
    "    def setExchangeRate(self, new_exchange_rate):\n",
    "        self.__exchange_rate = new_exchange_rate\n",
    "        print(\"Exchange rate set to \", new_exchange_rate)\n",
    "        return self.getExchangeRate()\n",
    "    \n",
    "    def getLatitude(self):\n",
    "        return self.latitude"
   ]
  },
  {
   "cell_type": "code",
   "execution_count": 18,
   "metadata": {},
   "outputs": [],
   "source": [
    "airportList = []\n",
    "for key in airportcurr_dict.keys():\n",
    "    airportList.append(key)\n",
    "    \n",
    "newList = {}\n",
    "for airport in airportList:\n",
    "    myobject = Airport((airportcurr_dict[airport])[0], (airportcurr_dict[airport])[4], (airportcurr_dict[airport])[5], (airportcurr_dict[airport])[7], (airportcurr_dict[airport])[8])\n",
    "    newList[airport]=myobject"
   ]
  },
  {
   "cell_type": "code",
   "execution_count": 19,
   "metadata": {},
   "outputs": [
    {
     "data": {
      "text/plain": [
       "9.2657"
      ]
     },
     "execution_count": 19,
     "metadata": {},
     "output_type": "execute_result"
    }
   ],
   "source": [
    "newList['EZE'].getExchangeRate()"
   ]
  },
  {
   "cell_type": "code",
   "execution_count": 20,
   "metadata": {},
   "outputs": [
    {
     "data": {
      "text/plain": [
       "-34.822222"
      ]
     },
     "execution_count": 20,
     "metadata": {},
     "output_type": "execute_result"
    }
   ],
   "source": [
    "newList['EZE'].getLatitude()"
   ]
  },
  {
   "cell_type": "code",
   "execution_count": 21,
   "metadata": {},
   "outputs": [],
   "source": [
    "class Route:\n",
    "    \n",
    "    def __init__(self):\n",
    "        self.__destinations = []\n",
    "        # it would make sense for destinations to be a circular array\n",
    "        self._next = None\n",
    "        self._current = None\n",
    "        self._previous = None\n",
    "        # this sequence has been produced the graph. The graph will go through each airport and will build a route\n",
    "        self.__total_score = 0\n",
    "        self._list_of_scores = []\n",
    "        \n",
    "        \n",
    "    def set_destinations(self, destinations):\n",
    "        self.__destinations = destinations\n",
    "\n",
    "    def append_to_route(self, airport):\n",
    "        self.__destinations.append(airport)\n",
    "\n",
    "    def calculate_score(self):\n",
    "        self._previous = self.__destinations[0]\n",
    "        # set the first airport to previous and current\n",
    "        for i in range(len(self.__destinations)):\n",
    "            self._current = self.__destinations[i]\n",
    "            try:\n",
    "                self._next = self.__destinations[i + 1]\n",
    "            except:\n",
    "                self._next = self.__destinations[0]\n",
    "            distance = self.calculate_distance(self._current, self._next)\n",
    "            current_score = self._current.getExchangeRate() * distance\n",
    "            self._list_of_scores.append(current_score)\n",
    "            # self._previous = self._current\n",
    "            # self._current = self._next\n",
    "            \n",
    "            \n",
    "    def calculate_distance(self, start_airport, end_airport):\n",
    "        latitude1 = start_airport.latitude\n",
    "        longitude1 = start_airport.longitude\n",
    "        latitude2 = end_airport.latitude\n",
    "        longitude2 = end_airport.longitude\n",
    "\n",
    "        # The following formulas assume that angles are expressed in radians.\n",
    "        # So convert to radians.\n",
    "\n",
    "        latitude1 = math.radians(latitude1)\n",
    "        longitude1 = math.radians(longitude1)\n",
    "        latitude2 = math.radians(latitude2)\n",
    "        longitude2 = math.radians(longitude2)\n",
    "\n",
    "        # Compute using the law of cosines.\n",
    "\n",
    "        # Great circle distance in radians\n",
    "        angle1 = math.acos(math.sin(latitude1) * math.sin(latitude2) \\\n",
    "                 + math.cos(latitude1) * math.cos(latitude2) * math.cos(longitude1 - longitude2))\n",
    "\n",
    "        # Convert back to degrees.\n",
    "        angle1 = math.degrees(angle1)\n",
    "\n",
    "        # Each degree on a great circle of Earth is 60 nautical miles.\n",
    "        distance1 = 60.0 * angle1\n",
    "            \n",
    "        in_kilometres = distance1 * 1.852\n",
    "        \n",
    "        return in_kilometres\n",
    "\n",
    "    def get_destinations(self):\n",
    "        return self.__destinations\n",
    "    \n",
    "    def getScores(self):\n",
    "        return self._list_of_scores"
   ]
  },
  {
   "cell_type": "code",
   "execution_count": 22,
   "metadata": {},
   "outputs": [],
   "source": [
    "our_route = Route()"
   ]
  },
  {
   "cell_type": "code",
   "execution_count": 23,
   "metadata": {},
   "outputs": [],
   "source": [
    "our_route.set_destinations([newList['DUB'], newList['MAD'], newList['LHR']])"
   ]
  },
  {
   "cell_type": "code",
   "execution_count": 24,
   "metadata": {},
   "outputs": [],
   "source": [
    "our_route.calculate_score()"
   ]
  },
  {
   "cell_type": "code",
   "execution_count": 25,
   "metadata": {},
   "outputs": [
    {
     "name": "stdout",
     "output_type": "stream",
     "text": [
      "[1450.8170708453383, 1243.561601614623, 319.84449305339507]\n"
     ]
    }
   ],
   "source": [
    "print(our_route.getScores())"
   ]
  },
  {
   "cell_type": "code",
   "execution_count": null,
   "metadata": {},
   "outputs": [],
   "source": []
  }
 ],
 "metadata": {
  "kernelspec": {
   "display_name": "Python 3",
   "language": "python",
   "name": "python3"
  },
  "language_info": {
   "codemirror_mode": {
    "name": "ipython",
    "version": 3
   },
   "file_extension": ".py",
   "mimetype": "text/x-python",
   "name": "python",
   "nbconvert_exporter": "python",
   "pygments_lexer": "ipython3",
   "version": "3.7.1"
  }
 },
 "nbformat": 4,
 "nbformat_minor": 2
}
