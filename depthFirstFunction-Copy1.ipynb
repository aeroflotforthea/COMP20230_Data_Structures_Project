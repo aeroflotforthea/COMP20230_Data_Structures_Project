{
 "cells": [
  {
   "cell_type": "code",
   "execution_count": 1,
   "metadata": {},
   "outputs": [],
   "source": [
    "graph={'Dublin': ['London', 'Moscow', 'Athens', 'Madrid'],\n",
    "             'London': ['Dublin', 'Athens'],\n",
    "             'Moscow': ['Dublin', 'London', 'Athens', 'Madrid'],\n",
    "             'Athens': ['Dublin', 'London', 'Madrid'],\n",
    "             'Madrid': ['Athens', 'Moscow']}"
   ]
  },
  {
   "cell_type": "code",
   "execution_count": 2,
   "metadata": {},
   "outputs": [],
   "source": [
    "class Airplane:\n",
    "    def __init__(self, maxdist):\n",
    "        self.maxdist=maxdist"
   ]
  },
  {
   "cell_type": "code",
   "execution_count": 3,
   "metadata": {},
   "outputs": [],
   "source": [
    "myjumbo=Airplane(9)"
   ]
  },
  {
   "cell_type": "code",
   "execution_count": 4,
   "metadata": {},
   "outputs": [],
   "source": [
    "from collections import defaultdict"
   ]
  },
  {
   "cell_type": "code",
   "execution_count": 5,
   "metadata": {},
   "outputs": [],
   "source": [
    "class Graph:\n",
    "    def __init__(self, airplane):\n",
    "        self.nodes = set()\n",
    "        self.edges = defaultdict(list)\n",
    "        self.distances = {}\n",
    "\n",
    "        self.maxdistance = airplane.maxdist\n",
    "\n",
    "    def add_node(self, value):\n",
    "        self.nodes.add(value)\n",
    "\n",
    "    def add_edge(self, from_node, to_node, distance):\n",
    "        firstdict={}\n",
    "        seconddict={}\n",
    "        if distance <= self.maxdistance:\n",
    "            self.edges[from_node].append(to_node)\n",
    "            self.edges[to_node].append(from_node)\n",
    "\n",
    "            firstdict[to_node]=distance\n",
    "            seconddict[from_node]=distance\n",
    "            if to_node in self.distances:\n",
    "                self.distances[to_node].update(seconddict)\n",
    "            else:\n",
    "                self.distances[to_node]=seconddict\n",
    "            if from_node in self.distances:\n",
    "                self.distances[from_node].update(firstdict)\n",
    "            else:\n",
    "                self.distances[from_node]=firstdict"
   ]
  },
  {
   "cell_type": "code",
   "execution_count": 6,
   "metadata": {},
   "outputs": [
    {
     "name": "stdout",
     "output_type": "stream",
     "text": [
      "{'Madrid', 'Dublin', 'Athens', 'Moscow', 'London'}\n",
      "9\n"
     ]
    }
   ],
   "source": [
    "mygraph = Graph(myjumbo)\n",
    "mygraph.add_node('Dublin')\n",
    "mygraph.add_node('London')\n",
    "mygraph.add_node('Moscow')\n",
    "mygraph.add_node('Athens')\n",
    "mygraph.add_node('Madrid')\n",
    "print(mygraph.nodes)\n",
    "print(mygraph.maxdistance)"
   ]
  },
  {
   "cell_type": "code",
   "execution_count": 7,
   "metadata": {},
   "outputs": [],
   "source": [
    "mygraph.add_edge('Dublin', 'London', 2)\n",
    "mygraph.add_edge('Dublin', 'Moscow', 8)\n",
    "mygraph.add_edge('Dublin', 'Athens', 7)\n",
    "mygraph.add_edge('Dublin', 'Madrid', 6)\n",
    "mygraph.add_edge('London', 'Athens', 4)\n",
    "mygraph.add_edge('London', 'Moscow', 5)\n",
    "mygraph.add_edge('London', 'Madrid', 2)\n",
    "mygraph.add_edge('Athens', 'Moscow', 3)\n",
    "mygraph.add_edge('Athens', 'Madrid', 4)\n",
    "mygraph.add_edge('Moscow', 'Madrid', 9)"
   ]
  },
  {
   "cell_type": "markdown",
   "metadata": {},
   "source": [
    "Costgraph and getcost function are pretending to be a function that calculates cost (this was easier for now because i don't have that code). WE WILL have a dictionary so you can check cost rather than caculate it each time, i have that code, not bothered with it in here"
   ]
  },
  {
   "cell_type": "code",
   "execution_count": 8,
   "metadata": {},
   "outputs": [],
   "source": [
    "costgraph = {'London': {'Dublin': 5, 'Athens': 3, 'Moscow': 11, 'Madrid': 12},\n",
    " 'Dublin': {'London': 2, 'Moscow': 8, 'Athens': 7, 'Madrid': 6},\n",
    " 'Moscow': {'Dublin': 9, 'London': 8, 'Athens': 2, 'Madrid': 4},\n",
    " 'Athens': {'Dublin': 7, 'London': 3, 'Moscow': 11, 'Madrid': 5},\n",
    " 'Madrid': {'Dublin': 9, 'London': 3, 'Athens': 6, 'Moscow': 8}}"
   ]
  },
  {
   "cell_type": "code",
   "execution_count": 9,
   "metadata": {},
   "outputs": [],
   "source": [
    "def getcost(node1, node2, costgraph):\n",
    "#     print(\"Costing\", node1, node2)\n",
    "    return(costgraph[node1][node2])"
   ]
  },
  {
   "cell_type": "code",
   "execution_count": 10,
   "metadata": {},
   "outputs": [],
   "source": [
    "def childrenOf(node):\n",
    "#     print(graph[node])\n",
    "    return graph[node]"
   ]
  },
  {
   "cell_type": "code",
   "execution_count": 11,
   "metadata": {},
   "outputs": [],
   "source": [
    "home=\"Dublin\"\n",
    "paths = {}\n",
    "flightlist=['Dublin', 'London', 'Athens', 'Madrid', 'Rome']\n",
    "bestcost=30"
   ]
  },
  {
   "cell_type": "code",
   "execution_count": 12,
   "metadata": {},
   "outputs": [],
   "source": [
    "def bestcostfunct(cost):\n",
    "    if cost < lastcost:\n",
    "        lastcost=cost\n",
    "    return lastcost"
   ]
  },
  {
   "cell_type": "code",
   "execution_count": null,
   "metadata": {},
   "outputs": [],
   "source": []
  },
  {
   "cell_type": "code",
   "execution_count": 31,
   "metadata": {},
   "outputs": [],
   "source": [
    "def firstcost(graph,start,cost,flightlist,path=[],a=0): \n",
    "    path=path+[start] \n",
    "    cost+=a\n",
    "    if len(path)==len(flightlist) and home in graph[start]:\n",
    "        cost += getcost(start, home, costgraph)\n",
    "        path.append(home)\n",
    "        print(\"final path is\", path)\n",
    "        return cost\n",
    "    for node in childrenOf(start):\n",
    "        a = getcost(start, node, costgraph)\n",
    "        if node not in path:\n",
    "            firstcost(graph,node,cost, flightlist, path,a)\n",
    "    return cost\n",
    "    "
   ]
  },
  {
   "cell_type": "code",
   "execution_count": 32,
   "metadata": {},
   "outputs": [
    {
     "name": "stdout",
     "output_type": "stream",
     "text": [
      "final path is ['Dublin', 'London', 'Athens', 'Madrid', 'Moscow', 'Dublin']\n",
      "final path is ['Dublin', 'Moscow', 'Madrid', 'Athens', 'London', 'Dublin']\n",
      "final path is ['Dublin', 'Athens', 'Madrid', 'Moscow', 'London', 'Dublin']\n",
      "final path is ['Dublin', 'Madrid', 'Moscow', 'London', 'Athens', 'Dublin']\n",
      "final path is ['Dublin', 'Madrid', 'Moscow', 'Athens', 'London', 'Dublin']\n"
     ]
    }
   ],
   "source": [
    "first = firstcost(graph, 'Dublin',0,flightlist)"
   ]
  },
  {
   "cell_type": "code",
   "execution_count": 33,
   "metadata": {},
   "outputs": [
    {
     "name": "stdout",
     "output_type": "stream",
     "text": [
      "0\n"
     ]
    }
   ],
   "source": [
    "print(first)"
   ]
  },
  {
   "cell_type": "code",
   "execution_count": 16,
   "metadata": {},
   "outputs": [],
   "source": [
    "def myDFS(graph,start,cost,flightlist,bestcost, path=[],a=0): \n",
    "    path=path+[start] \n",
    "    cost+=a\n",
    "    if len(path)==len(flightlist) and home in graph[start]:\n",
    "        path.append(home)\n",
    "        cost += getcost(start, home, costgraph)\n",
    "        if cost <= bestcost:\n",
    "            bestcost=cost\n",
    "        paths[cost]=path\n",
    "    for node in childrenOf(start):\n",
    "        a = getcost(start, node, costgraph)\n",
    "        if node not in path and cost+a<bestcost:\n",
    "#             print(\"node is\", node)\n",
    "#             print(\"loook here bestcost\", bestcost)\n",
    "            myDFS(graph,node,cost, flightlist, bestcost, path,a)"
   ]
  },
  {
   "cell_type": "code",
   "execution_count": 17,
   "metadata": {
    "scrolled": false
   },
   "outputs": [],
   "source": [
    "myDFS(graph, 'Dublin',0,flightlist,bestcost)"
   ]
  },
  {
   "cell_type": "code",
   "execution_count": 18,
   "metadata": {},
   "outputs": [
    {
     "data": {
      "text/plain": [
       "{27: ['Dublin', 'London', 'Athens', 'Madrid', 'Moscow', 'Dublin'],\n",
       " 26: ['Dublin', 'Moscow', 'Madrid', 'Athens', 'London', 'Dublin'],\n",
       " 33: ['Dublin', 'Athens', 'Madrid', 'Moscow', 'London', 'Dublin'],\n",
       " 32: ['Dublin', 'Madrid', 'Moscow', 'London', 'Athens', 'Dublin'],\n",
       " 24: ['Dublin', 'Madrid', 'Moscow', 'Athens', 'London', 'Dublin']}"
      ]
     },
     "execution_count": 18,
     "metadata": {},
     "output_type": "execute_result"
    }
   ],
   "source": [
    "paths"
   ]
  },
  {
   "cell_type": "code",
   "execution_count": 19,
   "metadata": {},
   "outputs": [
    {
     "name": "stdout",
     "output_type": "stream",
     "text": [
      "Most economical route is: ['Dublin', 'Madrid', 'Moscow', 'Athens', 'London', 'Dublin']\n",
      "Cost of route is:  24\n"
     ]
    }
   ],
   "source": [
    "smallest_price=(sorted(paths.keys()))[0]\n",
    "final_route=paths[smallest_price]\n",
    "print(\"Most economical route is:\", final_route)\n",
    "print(\"Cost of route is: \", smallest_price)"
   ]
  },
  {
   "cell_type": "code",
   "execution_count": null,
   "metadata": {},
   "outputs": [],
   "source": []
  }
 ],
 "metadata": {
  "kernelspec": {
   "display_name": "Python 3",
   "language": "python",
   "name": "python3"
  },
  "language_info": {
   "codemirror_mode": {
    "name": "ipython",
    "version": 3
   },
   "file_extension": ".py",
   "mimetype": "text/x-python",
   "name": "python",
   "nbconvert_exporter": "python",
   "pygments_lexer": "ipython3",
   "version": "3.7.1"
  }
 },
 "nbformat": 4,
 "nbformat_minor": 2
}
