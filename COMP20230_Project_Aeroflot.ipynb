{
 "cells": [
  {
   "cell_type": "markdown",
   "metadata": {},
   "source": [
    "# Initial Classes and concepts"
   ]
  },
  {
   "cell_type": "code",
   "execution_count": 12,
   "metadata": {},
   "outputs": [
    {
     "data": {
      "text/plain": [
       "9012.3"
      ]
     },
     "execution_count": 12,
     "metadata": {},
     "output_type": "execute_result"
    }
   ],
   "source": [
    "class Airport:\n",
    "    \n",
    "    def __init__(self, name, longitude, latitude, exchange_rate):\n",
    "        self.__name = name\n",
    "        self.__longitude = longitude\n",
    "        self.__latitude = latitude\n",
    "        self.__exchange_rate = exchange_rate\n",
    "        \n",
    "    def getExchangeRate(self):\n",
    "        return self.__exchange_rate\n",
    "    \n",
    "    def setExchangeRate(self, new_exchange_rate):\n",
    "        self.__exchange_rate = new_exchange_rate\n",
    "        print(\"Exchange rate set to \", new_exchange_rate)\n",
    "        return self.getExchangeRate()\n",
    "    \n",
    "    \n",
    "    \n",
    "\n",
    "airport = Airport(\"LHR\", \"101\", \"102\", 1.34)\n",
    "\n",
    "airport.getExchangeRate()\n",
    "\n",
    "# airport.setExchangeRate(1.55)\n",
    "\n",
    "class Aircraft:\n",
    "    def __init__(self, code, flight_range, home_airport, units):\n",
    "        self.code = code\n",
    "        self.units = units\n",
    "        self.flight_range = self.convertToMetric(flight_range)\n",
    "        self.home_airport = home_airport\n",
    "        \n",
    "        \n",
    "        \n",
    "    def convertToMetric(self, flight_range):\n",
    "        if self.units == \"imperial\":\n",
    "            return round(flight_range * 1.60934, 2)\n",
    "        else:\n",
    "            return flight_range\n",
    "        \n",
    "    def getRange(self):\n",
    "        return self.flight_range\n",
    "        \n",
    "plane = Aircraft(\"737\", 5600, \"LHR\", \"imperial\")\n",
    "\n",
    "\n",
    "\n",
    "class RouteCalculation:\n",
    "    \n",
    "    def __init__(self, aircraft, destinations)\n",
    "    \n",
    "    \n",
    "    "
   ]
  },
  {
   "cell_type": "code",
   "execution_count": null,
   "metadata": {},
   "outputs": [],
   "source": []
  }
 ],
 "metadata": {
  "kernelspec": {
   "display_name": "Python 3",
   "language": "python",
   "name": "python3"
  },
  "language_info": {
   "codemirror_mode": {
    "name": "ipython",
    "version": 3
   },
   "file_extension": ".py",
   "mimetype": "text/x-python",
   "name": "python",
   "nbconvert_exporter": "python",
   "pygments_lexer": "ipython3",
   "version": "3.7.2"
  }
 },
 "nbformat": 4,
 "nbformat_minor": 2
}
